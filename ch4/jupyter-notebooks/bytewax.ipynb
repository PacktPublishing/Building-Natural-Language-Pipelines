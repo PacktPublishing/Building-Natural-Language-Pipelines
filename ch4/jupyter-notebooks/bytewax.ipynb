{
 "cells": [
  {
   "cell_type": "code",
   "execution_count": 1,
   "metadata": {},
   "outputs": [
    {
     "data": {
      "text/plain": [
       "<haystack.pipeline.Pipeline at 0x7f807d31a020>"
      ]
     },
     "execution_count": 1,
     "metadata": {},
     "output_type": "execute_result"
    }
   ],
   "source": [
    "from haystack.pipeline import Pipeline\n",
    "from haystack.document_stores.in_memory import InMemoryDocumentStore\n",
    "from haystack.components.fetchers import LinkContentFetcher\n",
    "from haystack.components.converters import HTMLToDocument\n",
    "from haystack.components.preprocessors import DocumentSplitter\n",
    "from haystack.components.embedders import SentenceTransformersDocumentEmbedder\n",
    "from haystack.components.writers import DocumentWriter\n",
    "from haystack.document_stores.types import DuplicatePolicy\n",
    "\n",
    "\n",
    "\n",
    "document_store = InMemoryDocumentStore()\n",
    "\n",
    "link_fetcher = LinkContentFetcher()\n",
    "converter = HTMLToDocument()\n",
    "splitter = DocumentSplitter(split_length=150, split_overlap=5, split_by=\"sentence\")\n",
    "embedder = SentenceTransformersDocumentEmbedder()\n",
    "writer = DocumentWriter(document_store=document_store, \n",
    "                        policy=DuplicatePolicy.OVERWRITE)\n",
    "\n",
    "indexing_pipeline = Pipeline()\n",
    "indexing_pipeline.add_component(\"link_fetcher\", link_fetcher)\n",
    "indexing_pipeline.add_component(\"converter\", converter)\n",
    "indexing_pipeline.add_component(\"splitter\", splitter)\n",
    "indexing_pipeline.add_component(\"embedder\", embedder)\n",
    "indexing_pipeline.add_component(\"writer\", writer)\n",
    "\n",
    "indexing_pipeline.connect(\"link_fetcher\", \"converter\")\n",
    "indexing_pipeline.connect(\"converter\", \"splitter\")\n",
    "indexing_pipeline.connect(\"splitter\", \"embedder\")\n",
    "indexing_pipeline.connect(\"embedder\", \"writer\")"
   ]
  },
  {
   "cell_type": "code",
   "execution_count": 2,
   "metadata": {},
   "outputs": [
    {
     "data": {
      "application/vnd.jupyter.widget-view+json": {
       "model_id": "08c53d1b0528419395db1170458667e9",
       "version_major": 2,
       "version_minor": 0
      },
      "text/plain": [
       "Batches:   0%|          | 0/2 [00:00<?, ?it/s]"
      ]
     },
     "metadata": {},
     "output_type": "display_data"
    },
    {
     "data": {
      "text/plain": [
       "{'writer': {'documents_written': 46}}"
      ]
     },
     "execution_count": 2,
     "metadata": {},
     "output_type": "execute_result"
    }
   ],
   "source": [
    "indexing_pipeline.run(data={\"link_fetcher\":{\"urls\": [\"https://bytewax.io/docs/getting-started/overview\",\n",
    "                                                     \"https://bytewax.io/docs/getting-started/simple-example\",\n",
    "                                                     \"https://bytewax.io/docs/getting-started/window-collect-example\",\n",
    "                                                     \"https://bytewax.io/docs/getting-started/join-example\",\n",
    "                                                     \"https://bytewax.io/docs/getting-started/wordcount-example\",\n",
    "                                                     \"https://bytewax.io/docs/getting-started/polling-input-example\",\n",
    "                                                     \"https://bytewax.io/docs/getting-started/recovering-snapshot\",\n",
    "                                                     \"https://bytewax.io/docs/concepts/workers-and-parallelization\",\n",
    "                                                    \"https://bytewax.io/docs/concepts/dataflow-programming\",\n",
    "                                                    \"https://bytewax.io/docs/concepts/joins\",\n",
    "                                                    \"https://bytewax.io/docs/concepts/windowing\",\n",
    "                                                    \"https://bytewax.io/docs/concepts/recovery\",\n",
    "                                                    \"https://bytewax.io/docs/concepts/rescaling\",\n",
    "                                                    \"https://bytewax.io/docs/concepts/pubsub-to-polling\",\n",
    "                                                     \"https://bytewax.io/docs/getting-started/execution\",\n",
    "                                                    \"https://bytewax.io/apidocs/bytewax.operators/index\",\n",
    "                                                    \"https://bytewax.io/apidocs/bytewax.inputs\",\n",
    "                                                     \"https://bytewax.io/apidocs/bytewax.outputs\",\n",
    "                                                     \"https://bytewax.io/apidocs/bytewax.connectors/index\",\n",
    "                                                     \"https://bytewax.io/apidocs/bytewax.connectors/demo\",\n",
    "                                                     \"https://bytewax.io/apidocs/bytewax.connectors/files\",\n",
    "                                                     \"https://bytewax.io/apidocs/bytewax.connectors/kafka/index\",\n",
    "                                                     \"https://bytewax.io/apidocs/bytewax.connectors/stdio\"]}})"
   ]
  },
  {
   "cell_type": "code",
   "execution_count": 3,
   "metadata": {},
   "outputs": [],
   "source": [
    "from dotenv import load_dotenv\n",
    "import os\n",
    "\n",
    "load_dotenv(\"./../../.env\")\n",
    "\n",
    "open_ai_key = os.getenv(\"OPENAI_API_KEY\")"
   ]
  },
  {
   "cell_type": "code",
   "execution_count": 8,
   "metadata": {},
   "outputs": [
    {
     "name": "stderr",
     "output_type": "stream",
     "text": [
      "/Users/macpro/anaconda3/envs/llm-pipelines/lib/python3.10/site-packages/haystack/core/component/component.py:122: UserWarning: GPTGenerator is deprecated and will be removed in the next beta release. Please use OpenAIGenerator instead.\n",
      "  instance = super().__call__(*args, **kwargs)\n"
     ]
    }
   ],
   "source": [
    "import torch\n",
    "\n",
    "from haystack.components.embedders import SentenceTransformersTextEmbedder\n",
    "from haystack.components.retrievers.in_memory import InMemoryEmbeddingRetriever\n",
    "from haystack.components.builders.prompt_builder import PromptBuilder\n",
    "from haystack.components.generators import GPTGenerator\n",
    "\n",
    "######## Complete this section #############\n",
    "prompt_template = \"\"\"\n",
    "You are an expert Python software engineer, you are asked to write code, \n",
    "explain code and you use the context provided to generate accurate and functional code along with clear explanations.\n",
    "After you define a class, you also provide examples of using the class and its methods.\n",
    "You must only use information from the given documents and cite the documents you used by mentioning their URL in the answer.\n",
    "For example, begin your answer with ‘As stated in URL, ...’.\n",
    "If the documents do not contain the answer to the question, say that ‘Answer is unknown.’\n",
    "Context:\n",
    "{% for doc in documents %}\n",
    "    Document: {{ doc.content }} URL: {{ doc.meta['url'] }} \\n\n",
    "{% endfor %};\n",
    "Question: {{query}}\n",
    "\\nAs stated in\n",
    "\"\"\"\n",
    "prompt_builder = PromptBuilder(prompt_template)\n",
    "############################################\n",
    "query_embedder = SentenceTransformersTextEmbedder()\n",
    "retriever = InMemoryEmbeddingRetriever(document_store=document_store, top_k=2)\n",
    "llm = GPTGenerator(model='gpt-4')"
   ]
  },
  {
   "cell_type": "code",
   "execution_count": 9,
   "metadata": {},
   "outputs": [
    {
     "data": {
      "text/plain": [
       "<haystack.pipeline.Pipeline at 0x7f807e0ce290>"
      ]
     },
     "execution_count": 9,
     "metadata": {},
     "output_type": "execute_result"
    }
   ],
   "source": [
    "pipeline = Pipeline()\n",
    "pipeline.add_component(instance=query_embedder, name=\"query_embedder\")\n",
    "pipeline.add_component(instance=retriever, name=\"retriever\")\n",
    "pipeline.add_component(instance=prompt_builder, name=\"prompt_builder\")\n",
    "pipeline.add_component(instance=llm, name=\"llm\")\n",
    "\n",
    "pipeline.connect(\"query_embedder.embedding\", \"retriever.query_embedding\")\n",
    "pipeline.connect(\"retriever.documents\", \"prompt_builder.documents\")\n",
    "pipeline.connect(\"prompt_builder\", \"llm\")"
   ]
  },
  {
   "cell_type": "code",
   "execution_count": 11,
   "metadata": {},
   "outputs": [
    {
     "data": {
      "application/vnd.jupyter.widget-view+json": {
       "model_id": "a1ab1b48bd0f4fe682400e34ee0e222c",
       "version_major": 2,
       "version_minor": 0
      },
      "text/plain": [
       "Batches:   0%|          | 0/1 [00:00<?, ?it/s]"
      ]
     },
     "metadata": {},
     "output_type": "display_data"
    },
    {
     "name": "stdout",
     "output_type": "stream",
     "text": [
      "https://bytewax.io/apidocs/bytewax.inputs and https://bytewax.io/apidocs/bytewax.connectors/index, you would need to subclass from the relevant Source class to implement a custom connector. Let's create a simple converter that pulls data from a hypothetical REST API. \n",
      "\n",
      "We will use the `SimplePollingSource` since this case involves periodic data retrieval from an external system: \n",
      "\n",
      "```python\n",
      "import requests\n",
      "from datetime import timedelta\n",
      "from bytewax.connectors import SimplePollingSource\n",
      "\n",
      "class RestApiSource(SimplePollingSource):\n",
      "    def __init__(self, url):\n",
      "        super().__init__(timedelta(seconds=10))  # 10-second interval\n",
      "        self.url = url\n",
      "\n",
      "    def next_item(self):\n",
      "        res = requests.get(self.url)\n",
      "        if not res.ok:\n",
      "            raise SimplePollingSource.Retry(timedelta(seconds=1))\n",
      "\n",
      "        return res.json()  # Assuming the API returns a JSON response\n",
      "```\n",
      "In the above example, the `RestApiSource` class is a custom connector that retrieves data from a provided REST API `url` every 10 seconds. If the API request fails, it will retry after 1 second.\n",
      " \n",
      "To consume data from the connector, initialize an instance of `RestApiSource` and call its `next_item` method as part of your application logic.\n",
      "\n",
      "```python\n",
      "connector = RestApiSource(\"https://example.com\")\n",
      "while True:\n",
      "    data = connector.next_item()\n",
      "    # Continue with application logic...\n",
      "``` \n",
      "\n",
      "This code isn't considering error handling or termination conditions, so ensure that your real application includes robust fault-tolerant mechanisms and considerations for controlled termination.\n"
     ]
    }
   ],
   "source": [
    "question = \"Write a custom input connector to a datasource using the input API for reference. Use the simple examples provided in the documentation to guide you.\"\n",
    "result = pipeline.run(data={\"query_embedder\": {\"text\": question}, \"prompt_builder\": {\"query\": question}})\n",
    "print(result['llm']['replies'][0])"
   ]
  },
  {
   "cell_type": "code",
   "execution_count": 13,
   "metadata": {},
   "outputs": [
    {
     "data": {
      "application/vnd.jupyter.widget-view+json": {
       "model_id": "0f2611f0c65247b7914ae621a6f711f1",
       "version_major": 2,
       "version_minor": 0
      },
      "text/plain": [
       "Batches:   0%|          | 0/1 [00:00<?, ?it/s]"
      ]
     },
     "metadata": {},
     "output_type": "display_data"
    },
    {
     "name": "stdout",
     "output_type": "stream",
     "text": [
      "https://bytewax.io/apidocs/bytewax.operators/index, one of the stateful Bytewax operators is the \"join\" operator. \n",
      "\n",
      "The join operator is used to combine two data streams based on a certain criterion - often an id or some other shared characteristic. Its purpose is to correlate data from different sources that share a common set of identifiers.\n",
      "\n",
      "In Python's Bytewax, there isn't a direct equivalent of the \"join\" operator, but you can achieve similar functionality using the concept of branching with the \"branch\" operator along with the \"merge\" operator.\n",
      "\n",
      "Consider a scenario where you have two streams of data, representing the orders made by customers, and customer details, respectively. If each order includes the customer_id, you can use the \"branch\" operator to separate the orders based on customer_id. Then, use the \"merge\" operator to combine the two branches of a particular customer_id, effectively creating a joined stream that includes both the customer's details and their orders.\n",
      "\n",
      "This would look something like this in Python:\n",
      "\n",
      "```python\n",
      "import bytewax.operators as op\n",
      "from bytewax.dataflow import Dataflow\n",
      "from bytewax.testing import TestingSource\n",
      "\n",
      "flow = Dataflow(\"join_eg\")\n",
      "orders = op.input(\"orders\", flow, TestingSource(orders_list)) # Let's assume orders_list holds a list of orders with a customer_id\n",
      "customers = op.input(\"customers\", flow, TestingSource(customers_list)) # Let's assume customers_list holds a list of customers with a unique id\n",
      "    \n",
      "branch_orders = op.branch(\"branch_orders\", orders, lambda x: x[\"customer_id\"])\n",
      "branch_customers = op.branch(\"branch_customers\", customers, lambda x: x[\"id\"])\n",
      "\n",
      "merged_stream = op.merge(\"merge\", branch_orders.trues, branch_customers.trues)\n",
      "\n",
      "# The merged_stream now contains orders along with their corresponding customer details\n",
      "```\n",
      "\n",
      "The stateful behavior in this example comes from the use of the branch operator and how it splits the data based on a particular condition. This split operation retains state information about which items should go into which branch.\n",
      "\n",
      "This type of join operation would be useful in instances where you have data from two different sources that you want to correlate based on some shared attribute.\n"
     ]
    }
   ],
   "source": [
    "question2 = \"Operators can be stateful (they keep track of what they have seen) or stateless (they have no concept of what they have seen). \\\n",
    "    Choose one of the stateful bytewax operators (windows, aggregations, joins, etc.) and describe how it works and when you would use it.\"\n",
    "result2 = pipeline.run(data={\"query_embedder\": {\"text\": question2}, \"prompt_builder\": {\"query\": question2}})\n",
    "print(result2['llm']['replies'][0])"
   ]
  },
  {
   "cell_type": "code",
   "execution_count": null,
   "metadata": {},
   "outputs": [],
   "source": []
  }
 ],
 "metadata": {
  "kernelspec": {
   "display_name": "llm-pipelines",
   "language": "python",
   "name": "python3"
  },
  "language_info": {
   "codemirror_mode": {
    "name": "ipython",
    "version": 3
   },
   "file_extension": ".py",
   "mimetype": "text/x-python",
   "name": "python",
   "nbconvert_exporter": "python",
   "pygments_lexer": "ipython3",
   "version": "3.10.0"
  }
 },
 "nbformat": 4,
 "nbformat_minor": 2
}
