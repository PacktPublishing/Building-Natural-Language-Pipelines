{
 "cells": [
  {
   "cell_type": "code",
   "execution_count": 1,
   "metadata": {},
   "outputs": [
    {
     "name": "stdout",
     "output_type": "stream",
     "text": [
      "Collecting bytewax\n",
      "  Downloading bytewax-0.18.2-cp310-cp310-macosx_10_12_x86_64.whl (6.1 MB)\n",
      "\u001b[2K     \u001b[90m━━━━━━━━━━━━━━━━━━━━━━━━━━━━━━━━━━━━━━━━\u001b[0m \u001b[32m6.1/6.1 MB\u001b[0m \u001b[31m5.0 MB/s\u001b[0m eta \u001b[36m0:00:00\u001b[0ma \u001b[36m0:00:01\u001b[0mm\n",
      "\u001b[?25hCollecting jsonpickle>=3 (from bytewax)\n",
      "  Downloading jsonpickle-3.0.3-py3-none-any.whl (40 kB)\n",
      "\u001b[2K     \u001b[90m━━━━━━━━━━━━━━━━━━━━━━━━━━━━━━━━━━━━━━━━\u001b[0m \u001b[32m40.8/40.8 kB\u001b[0m \u001b[31m4.5 MB/s\u001b[0m eta \u001b[36m0:00:00\u001b[0m\n",
      "\u001b[?25hRequirement already satisfied: typing_extensions>=4 in /Users/macpro/anaconda3/envs/llm-env/lib/python3.10/site-packages (from bytewax) (4.7.1)\n",
      "Installing collected packages: jsonpickle, bytewax\n",
      "Successfully installed bytewax-0.18.2 jsonpickle-3.0.3\n"
     ]
    }
   ],
   "source": [
    "!pip install bytewax"
   ]
  },
  {
   "cell_type": "code",
   "execution_count": 19,
   "metadata": {},
   "outputs": [],
   "source": [
    "import csv\n",
    "from datetime import timedelta\n",
    "from bytewax.inputs import SimplePollingSource\n",
    "\n",
    "class CSVSource(SimplePollingSource):\n",
    "    def __init__(self, filename):\n",
    "        super().__init__(interval=timedelta(seconds=10))\n",
    "        self.filename = filename\n",
    "\n",
    "    def next_item(self):\n",
    "        with open(self.filename, 'r') as file:\n",
    "            reader = csv.reader(file)\n",
    "            try:\n",
    "                return next(reader)\n",
    "            except StopIteration:\n",
    "                raise SimplePollingSource.Retry(timedelta(seconds=1))\n",
    "\n"
   ]
  },
  {
   "cell_type": "code",
   "execution_count": 22,
   "metadata": {},
   "outputs": [],
   "source": [
    "import pandas as pd\n",
    "\n",
    "df = pd.read_csv(\"data.csv\", encoding='latin1')\n",
    "\n",
    "df.head(10).to_csv(\"data_10.csv\", index=False)\n",
    "\n",
    "df2 = pd.DataFrame()\n",
    "df2.to_csv(\"data_empty.csv\", index=False)"
   ]
  },
  {
   "cell_type": "code",
   "execution_count": null,
   "metadata": {},
   "outputs": [],
   "source": [
    "# Usage\n",
    "source = CSVSource('data_empty.csv')\n",
    "while True:\n",
    "    print(source.next_item())"
   ]
  },
  {
   "cell_type": "code",
   "execution_count": 2,
   "metadata": {},
   "outputs": [],
   "source": [
    "import requests\n",
    "from datetime import timedelta\n",
    "from bytewax.inputs import SimplePollingSource\n",
    "\n",
    "class RestApiSource(SimplePollingSource):\n",
    "    def __init__(self, url):\n",
    "        super().__init__(timedelta(seconds=10))  # 10-second interval\n",
    "        self.url = url\n",
    "\n",
    "    def next_item(self):\n",
    "        res = requests.get(self.url)\n",
    "        if not res.ok:\n",
    "            raise SimplePollingSource.Retry(timedelta(seconds=1))\n",
    "\n",
    "        return res.json()"
   ]
  },
  {
   "cell_type": "code",
   "execution_count": null,
   "metadata": {},
   "outputs": [],
   "source": [
    "RestApiSource('https://api.github.com/search/repositories?q=llm+monitoring').next_item()"
   ]
  },
  {
   "cell_type": "code",
   "execution_count": 1,
   "metadata": {},
   "outputs": [],
   "source": [
    "import requests\n",
    "import logging\n",
    "from datetime import timedelta\n",
    "from bytewax.inputs import SimplePollingSource\n",
    "\n",
    "class RestApiSource(SimplePollingSource):\n",
    "    def __init__(self, url, poll_interval_seconds=10, retry_delay_seconds=1):\n",
    "        super().__init__(timedelta(seconds=poll_interval_seconds))\n",
    "        self.url = url\n",
    "        self.retry_delay = timedelta(seconds=retry_delay_seconds)\n",
    "        logging.basicConfig(level=logging.INFO)\n",
    "\n",
    "    def next_item(self):\n",
    "        try:\n",
    "            res = requests.get(self.url)\n",
    "            if res.ok:\n",
    "                return res.json()\n",
    "            else:\n",
    "                logging.error(f\"Failed to fetch data: {res.status_code} {res.text}\")\n",
    "                raise SimplePollingSource.Retry(self.retry_delay)\n",
    "        except requests.RequestException as e:\n",
    "            logging.error(f\"Request failed: {e}\")\n",
    "            raise SimplePollingSource.Retry(self.retry_delay)\n"
   ]
  },
  {
   "cell_type": "code",
   "execution_count": 2,
   "metadata": {},
   "outputs": [
    {
     "name": "stderr",
     "output_type": "stream",
     "text": [
      "ERROR:root:Failed to fetch data: 404 {\"message\":\"Not Found\",\"documentation_url\":\"https://docs.github.com/rest\"}\n"
     ]
    },
    {
     "ename": "Retry",
     "evalue": "0:00:01",
     "output_type": "error",
     "traceback": [
      "\u001b[0;31m---------------------------------------------------------------------------\u001b[0m",
      "\u001b[0;31mRetry\u001b[0m                                     Traceback (most recent call last)",
      "Cell \u001b[0;32mIn[2], line 1\u001b[0m\n\u001b[0;32m----> 1\u001b[0m \u001b[43mRestApiSource\u001b[49m\u001b[43m(\u001b[49m\u001b[38;5;124;43m'\u001b[39;49m\u001b[38;5;124;43mhttps://api.github.com/search/reposiories?q=llm+monitoring\u001b[39;49m\u001b[38;5;124;43m'\u001b[39;49m\u001b[43m)\u001b[49m\u001b[38;5;241;43m.\u001b[39;49m\u001b[43mnext_item\u001b[49m\u001b[43m(\u001b[49m\u001b[43m)\u001b[49m\n",
      "Cell \u001b[0;32mIn[1], line 20\u001b[0m, in \u001b[0;36mRestApiSource.next_item\u001b[0;34m(self)\u001b[0m\n\u001b[1;32m     18\u001b[0m     \u001b[38;5;28;01melse\u001b[39;00m:\n\u001b[1;32m     19\u001b[0m         logging\u001b[38;5;241m.\u001b[39merror(\u001b[38;5;124mf\u001b[39m\u001b[38;5;124m\"\u001b[39m\u001b[38;5;124mFailed to fetch data: \u001b[39m\u001b[38;5;132;01m{\u001b[39;00mres\u001b[38;5;241m.\u001b[39mstatus_code\u001b[38;5;132;01m}\u001b[39;00m\u001b[38;5;124m \u001b[39m\u001b[38;5;132;01m{\u001b[39;00mres\u001b[38;5;241m.\u001b[39mtext\u001b[38;5;132;01m}\u001b[39;00m\u001b[38;5;124m\"\u001b[39m)\n\u001b[0;32m---> 20\u001b[0m         \u001b[38;5;28;01mraise\u001b[39;00m SimplePollingSource\u001b[38;5;241m.\u001b[39mRetry(\u001b[38;5;28mself\u001b[39m\u001b[38;5;241m.\u001b[39mretry_delay)\n\u001b[1;32m     21\u001b[0m \u001b[38;5;28;01mexcept\u001b[39;00m requests\u001b[38;5;241m.\u001b[39mRequestException \u001b[38;5;28;01mas\u001b[39;00m e:\n\u001b[1;32m     22\u001b[0m     logging\u001b[38;5;241m.\u001b[39merror(\u001b[38;5;124mf\u001b[39m\u001b[38;5;124m\"\u001b[39m\u001b[38;5;124mRequest failed: \u001b[39m\u001b[38;5;132;01m{\u001b[39;00me\u001b[38;5;132;01m}\u001b[39;00m\u001b[38;5;124m\"\u001b[39m)\n",
      "\u001b[0;31mRetry\u001b[0m: 0:00:01"
     ]
    }
   ],
   "source": [
    "RestApiSource('https://api.github.com/search/reposiories?q=llm+monitoring').next_item()"
   ]
  },
  {
   "cell_type": "code",
   "execution_count": 38,
   "metadata": {},
   "outputs": [
    {
     "name": "stdout",
     "output_type": "stream",
     "text": [
      "Joined Data: ('123', {'names': {'name': 'Bee'}, 'emails': {'email': 'bee@bytewax.io'}})\n",
      "Joined Data: ('456', {'names': {'name': 'Hive'}, 'emails': {'email': 'hive@bytewax.io'}})\n"
     ]
    }
   ],
   "source": [
    "from bytewax.operators import join_named, map, input, inspect\n",
    "from bytewax.testing import run_main, TestingSource\n",
    "from bytewax.dataflow import Dataflow\n",
    "\n",
    "flow = Dataflow(\"join_eg\")\n",
    "\n",
    "# Define sources of data - user ids, names, and emails\n",
    "names_l = [\n",
    "    {\"user_id\": 123, \"name\": \"Bee\"},\n",
    "    {\"user_id\": 456, \"name\": \"Hive\"},\n",
    "]\n",
    "\n",
    "emails_l = [\n",
    "    {\"user_id\": 123, \"email\": \"bee@bytewax.io\"},\n",
    "    {\"user_id\": 456, \"email\": \"hive@bytewax.io\"},\n",
    "    {\"user_id\": 789, \"email\": \"queen@bytewax.io\"},  \n",
    "]\n",
    "\n",
    "# Input streams\n",
    "names = input(\"names\", flow, TestingSource(names_l))\n",
    "emails = input(\"emails\", flow, TestingSource(emails_l))\n",
    "\n",
    "# Convert each item into a (key, value) pair with string keys\n",
    "keyed_names = map(\"key_names\", names, lambda x: (str(x[\"user_id\"]), {\"name\": x[\"name\"]}))\n",
    "keyed_emails = map(\"key_emails\", emails, lambda x: (str(x[\"user_id\"]), {\"email\": x[\"email\"]}))\n",
    "\n",
    "# Use the join_named operator with named streams\n",
    "joined = join_named(\"join_names_emails\", names=keyed_names, emails=keyed_emails)\n",
    "\n",
    "# Inspect the joined data\n",
    "inspect(\"inspect_joined\", joined, lambda step_id, x: print(f\"Joined Data: {x}\"))\n",
    "\n",
    "run_main(flow)\n"
   ]
  },
  {
   "cell_type": "code",
   "execution_count": 30,
   "metadata": {},
   "outputs": [
    {
     "name": "stderr",
     "output_type": "stream",
     "text": [
      "thread '<unnamed>' panicked at src/run.rs:116:17:\n",
      "Box<dyn Any>\n",
      "\n"
     ]
    },
    {
     "ename": "ValueError",
     "evalue": "(src/worker.rs:157:10) error building production dataflow\nCaused by => ValueError: (src/worker.rs:531:24) Dataflow needs to contain at least one output or inspect step; add with `bytewax.operators.output` or `bytewax.operators.inspect`",
     "output_type": "error",
     "traceback": [
      "\u001b[0;31m---------------------------------------------------------------------------\u001b[0m",
      "\u001b[0;31mValueError\u001b[0m                                Traceback (most recent call last)",
      "Cell \u001b[0;32mIn[30], line 18\u001b[0m\n\u001b[1;32m     15\u001b[0m \u001b[38;5;66;03m# Use the count_final operator\u001b[39;00m\n\u001b[1;32m     16\u001b[0m s \u001b[38;5;241m=\u001b[39m op\u001b[38;5;241m.\u001b[39mcount_final(\u001b[38;5;124m\"\u001b[39m\u001b[38;5;124mcount\u001b[39m\u001b[38;5;124m\"\u001b[39m, s, key_func)\n\u001b[0;32m---> 18\u001b[0m \u001b[43mrun_main\u001b[49m\u001b[43m(\u001b[49m\u001b[43mflow\u001b[49m\u001b[43m)\u001b[49m\n",
      "\u001b[0;31mValueError\u001b[0m: (src/worker.rs:157:10) error building production dataflow\nCaused by => ValueError: (src/worker.rs:531:24) Dataflow needs to contain at least one output or inspect step; add with `bytewax.operators.output` or `bytewax.operators.inspect`"
     ]
    }
   ],
   "source": [
    "import bytewax.operators as op\n",
    "from bytewax.testing import TestingSource, run_main\n",
    "from bytewax.dataflow import Dataflow\n",
    "\n",
    "# Define a dataflow\n",
    "flow = Dataflow(\"count_final_eg\")\n",
    "\n",
    "# Define a source of data\n",
    "inp = [\"apple\", \"banana\", \"apple\", \"orange\", \"banana\", \"banana\"]\n",
    "s = op.input(\"inp\", flow, TestingSource(inp))\n",
    "\n",
    "# Define a function to convert each item into a string key\n",
    "key_func = lambda x: x\n",
    "\n",
    "# Use the count_final operator\n",
    "s = op.count_final(\"count\", s, key_func)\n",
    "\n",
    "run_main(flow)"
   ]
  },
  {
   "cell_type": "code",
   "execution_count": 43,
   "metadata": {},
   "outputs": [
    {
     "ename": "ImportError",
     "evalue": "cannot import name 'StdOutput' from 'bytewax.connectors.stdio' (/Users/macpro/anaconda3/envs/llm-env/lib/python3.10/site-packages/bytewax/connectors/stdio.py)",
     "output_type": "error",
     "traceback": [
      "\u001b[0;31m---------------------------------------------------------------------------\u001b[0m",
      "\u001b[0;31mImportError\u001b[0m                               Traceback (most recent call last)",
      "Cell \u001b[0;32mIn[43], line 7\u001b[0m\n\u001b[1;32m      4\u001b[0m \u001b[38;5;28;01mfrom\u001b[39;00m \u001b[38;5;21;01mdatetime\u001b[39;00m \u001b[38;5;28;01mimport\u001b[39;00m datetime, timedelta, timezone\n\u001b[1;32m      6\u001b[0m \u001b[38;5;28;01mfrom\u001b[39;00m \u001b[38;5;21;01mbytewax\u001b[39;00m\u001b[38;5;21;01m.\u001b[39;00m\u001b[38;5;21;01mdataflow\u001b[39;00m \u001b[38;5;28;01mimport\u001b[39;00m Dataflow\n\u001b[0;32m----> 7\u001b[0m \u001b[38;5;28;01mfrom\u001b[39;00m \u001b[38;5;21;01mbytewax\u001b[39;00m\u001b[38;5;21;01m.\u001b[39;00m\u001b[38;5;21;01mconnectors\u001b[39;00m\u001b[38;5;21;01m.\u001b[39;00m\u001b[38;5;21;01mstdio\u001b[39;00m \u001b[38;5;28;01mimport\u001b[39;00m StdOutput\n\u001b[1;32m      9\u001b[0m \u001b[38;5;28;01mfrom\u001b[39;00m \u001b[38;5;21;01mbytewax\u001b[39;00m\u001b[38;5;21;01m.\u001b[39;00m\u001b[38;5;21;01mwindow\u001b[39;00m \u001b[38;5;28;01mimport\u001b[39;00m (\n\u001b[1;32m     10\u001b[0m     EventClockConfig,\n\u001b[1;32m     11\u001b[0m     SlidingWindow,\n\u001b[1;32m     12\u001b[0m )\n\u001b[1;32m     14\u001b[0m \u001b[38;5;28;01mfrom\u001b[39;00m \u001b[38;5;21;01mbytewax\u001b[39;00m\u001b[38;5;21;01m.\u001b[39;00m\u001b[38;5;21;01minputs\u001b[39;00m \u001b[38;5;28;01mimport\u001b[39;00m DynamicInput, StatelessSource\n",
      "\u001b[0;31mImportError\u001b[0m: cannot import name 'StdOutput' from 'bytewax.connectors.stdio' (/Users/macpro/anaconda3/envs/llm-env/lib/python3.10/site-packages/bytewax/connectors/stdio.py)"
     ]
    }
   ],
   "source": [
    "import numpy as np\n",
    "import random\n",
    "\n",
    "from datetime import datetime, timedelta, timezone\n",
    "\n",
    "from bytewax.dataflow import Dataflow\n",
    "from bytewax.connectors.stdio import StdOutput\n",
    "\n",
    "from bytewax.window import (\n",
    "    EventClockConfig,\n",
    "    SlidingWindow,\n",
    ")\n",
    "\n",
    "from bytewax.inputs import DynamicInput, StatelessSource\n",
    "\n",
    "align_to = datetime(2023, 1, 1, tzinfo=timezone.utc)\n",
    "\n",
    "\n",
    "class RandomNumpyData(StatelessSource):\n",
    "    def __init__(self):\n",
    "        self._it = enumerate(range(100))\n",
    "\n",
    "    def next(self):\n",
    "        i, item = next(self._it)\n",
    "        if i % 5 == 0:\n",
    "            return (\"data\", np.nan)\n",
    "        else:\n",
    "            return (\"data\", random.randint(0, 10))\n",
    "\n",
    "\n",
    "class RandomNumpyInput(DynamicInput):\n",
    "    def build(self, _worker_index, _worker_count):\n",
    "        return RandomNumpyData()"
   ]
  }
 ],
 "metadata": {
  "kernelspec": {
   "display_name": "llm-pipelines",
   "language": "python",
   "name": "python3"
  },
  "language_info": {
   "codemirror_mode": {
    "name": "ipython",
    "version": 3
   },
   "file_extension": ".py",
   "mimetype": "text/x-python",
   "name": "python",
   "nbconvert_exporter": "python",
   "pygments_lexer": "ipython3",
   "version": "3.10.0"
  }
 },
 "nbformat": 4,
 "nbformat_minor": 2
}
