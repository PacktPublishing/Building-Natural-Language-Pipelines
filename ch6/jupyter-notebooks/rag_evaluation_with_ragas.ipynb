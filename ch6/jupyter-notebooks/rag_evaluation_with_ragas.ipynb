{
 "cells": [
  {
   "cell_type": "code",
   "execution_count": 28,
   "id": "688e2412",
   "metadata": {},
   "outputs": [],
   "source": [
    "from scripts.rag.hybridrag import hybrid_rag_sc\n",
    "from scripts.rag.naiverag import naive_rag_sc\n",
    "from scripts.rag.pretty_print import pretty_print_rag_answer"
   ]
  },
  {
   "cell_type": "code",
   "execution_count": 19,
   "id": "597dd6c0",
   "metadata": {},
   "outputs": [
    {
     "name": "stderr",
     "output_type": "stream",
     "text": [
      "Batches: 100%|██████████| 1/1 [00:00<00:00, 11.69it/s]\n"
     ]
    }
   ],
   "source": [
    "query = \"Who uses ChatGPT more, men or women, and how does this change by 2025\"\n",
    "hybrid_answer = hybrid_rag_sc.run(query=query)"
   ]
  },
  {
   "cell_type": "code",
   "execution_count": 29,
   "id": "711ad52a",
   "metadata": {},
   "outputs": [
    {
     "name": "stdout",
     "output_type": "stream",
     "text": [
      "================================================================================\n",
      "🔍 HYBRID RAG ANSWER\n",
      "================================================================================\n",
      "📝 Query: Who uses ChatGPT more, men or women, and how does this change by 2025\n",
      "--------------------------------------------------------------------------------\n",
      "💬 Answer:\n",
      "   Initially, a significant share (around 80%) of weekly active users of\n",
      "   ChatGPT in the first few months after its release were individuals with\n",
      "   typically masculine first names. However, by the first half of 2025,\n",
      "   this gap began to close, and the share of active users with typically\n",
      "   feminine names reached near parity with those having typically masculine\n",
      "   names. By June 2025, active users were more likely to have typically\n",
      "   feminine names, indicating that gender gaps in ChatGPT usage had closed\n",
      "   substantially over time.\n",
      "\n",
      "📚 Source Documents (3 found):\n",
      "--------------------------------------------------\n",
      "1. Source: Unknown source\n",
      "   Preview: The prompts for each of these automated classifiers (with the\n",
      "exception of interaction quality) are available in Appendix A. Values represent the aver...\n",
      "\n",
      "2. Source: Unknown source\n",
      "   Preview: •Sampled from all ChatGPT users:a random sample of approximately one million de-\n",
      "identified messages from logged-in consumer ChatGPT users between May...\n",
      "\n",
      "3. Source: Unknown source\n",
      "   Preview: X’s indicate that the ranking is\n",
      "unavailable since fewer than 100 users from that occupation group requested that specific GWA within the sample. Seve...\n",
      "\n",
      "================================================================================\n",
      "\n"
     ]
    }
   ],
   "source": [
    "# Test the pretty print functions\n",
    "pretty_print_rag_answer(hybrid_answer, \"Hybrid RAG\", query)"
   ]
  },
  {
   "cell_type": "code",
   "execution_count": 26,
   "id": "fd3bf9dd",
   "metadata": {},
   "outputs": [
    {
     "name": "stderr",
     "output_type": "stream",
     "text": [
      "Batches: 100%|██████████| 1/1 [00:00<00:00,  4.86it/s]\n",
      "\n"
     ]
    }
   ],
   "source": [
    "naive_answer = naive_rag_sc.run(query=query)"
   ]
  },
  {
   "cell_type": "code",
   "execution_count": 30,
   "id": "d1d9ff3b",
   "metadata": {},
   "outputs": [
    {
     "name": "stdout",
     "output_type": "stream",
     "text": [
      "================================================================================\n",
      "🔍 NAIVE RAG ANSWER\n",
      "================================================================================\n",
      "📝 Query: Who uses ChatGPT more, men or women, and how does this change by 2025\n",
      "--------------------------------------------------------------------------------\n",
      "💬 Answer:\n",
      "   Based on the provided information, initially, around 80% of the weekly\n",
      "   active users (WAU) in the first few months after ChatGPT was released\n",
      "   were by users with typically masculine first names. However, by the\n",
      "   first half of 2025, the share of active users with typically feminine\n",
      "   and typically masculine names reached near-parity. By June 2025, it was\n",
      "   observed that active users were more likely to have typically feminine\n",
      "   names, suggesting that gender gaps in ChatGPT usage have closed\n",
      "   substantially over time.\n",
      "================================================================================\n",
      "\n"
     ]
    }
   ],
   "source": [
    "pretty_print_rag_answer(naive_answer, \"Naive RAG\", query)"
   ]
  },
  {
   "cell_type": "code",
   "execution_count": null,
   "id": "63697440",
   "metadata": {},
   "outputs": [
    {
     "name": "stderr",
     "output_type": "stream",
     "text": [
      "Batches: 100%|██████████| 1/1 [00:00<00:00,  4.72it/s]\n"
     ]
    }
   ],
   "source": [
    "\n"
   ]
  },
  {
   "cell_type": "code",
   "execution_count": 23,
   "id": "8703b16b",
   "metadata": {},
   "outputs": [
    {
     "data": {
      "text/plain": [
       "{'replies': ['Initially, a significant share (around 80%) of the weekly active users of ChatGPT in the first few months after its release were by users with typically masculine first names. However, by the first half of 2025, the share of active users with typically feminine and typically masculine names reached near-parity. By June 2025, active users were more likely to have typically feminine names, suggesting that the gender gaps in ChatGPT usage have closed substantially over time.']}"
      ]
     },
     "execution_count": 23,
     "metadata": {},
     "output_type": "execute_result"
    }
   ],
   "source": [
    "naive_answer"
   ]
  },
  {
   "cell_type": "code",
   "execution_count": null,
   "id": "9050511f",
   "metadata": {},
   "outputs": [],
   "source": []
  }
 ],
 "metadata": {
  "kernelspec": {
   "display_name": "rag-with-haystack-ch6",
   "language": "python",
   "name": "python3"
  },
  "language_info": {
   "codemirror_mode": {
    "name": "ipython",
    "version": 3
   },
   "file_extension": ".py",
   "mimetype": "text/x-python",
   "name": "python",
   "nbconvert_exporter": "python",
   "pygments_lexer": "ipython3",
   "version": "3.12.4"
  }
 },
 "nbformat": 4,
 "nbformat_minor": 5
}
