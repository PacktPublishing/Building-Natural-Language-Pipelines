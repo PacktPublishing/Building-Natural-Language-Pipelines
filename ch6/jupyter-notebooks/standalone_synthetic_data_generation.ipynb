{
 "cells": [
  {
   "cell_type": "markdown",
   "id": "8f0d37c2",
   "metadata": {},
   "source": [
    "🔧 **Setup Required**: Before running this notebook, please follow the [setup instructions](../README.md#setup-instructions) to configure your environment and API keys. **You will need to ensure you've executed the Indexing pipeline before completing this exercise**"
   ]
  },
  {
   "cell_type": "markdown",
   "id": "f917eabd",
   "metadata": {},
   "source": [
    "# Standalone Synthetic Data Generation with Knowledge Graphs for PDF and Websites\n",
    "\n",
    "This notebook demonstrates how to:\n",
    "1. Initialize Haystack and custom components\n",
    "2. Connect components into a pipeline for knowledge graph and synthetic data generation\n",
    "3. Run pipeline on a PDF and website URLs\n"
   ]
  },
  {
   "cell_type": "markdown",
   "id": "ab471c74",
   "metadata": {},
   "source": [
    "## 1. Setup and Imports\n",
    "\n",
    "First, let's import all the necessary libraries and set up our environment."
   ]
  },
  {
   "cell_type": "code",
   "execution_count": 1,
   "id": "5243ac55",
   "metadata": {},
   "outputs": [
    {
     "name": "stderr",
     "output_type": "stream",
     "text": [
      "/Users/laurafunderburk/Documents/GitHub/Building-Natural-Language-Pipelines/ch6/.venv/lib/python3.12/site-packages/tqdm/auto.py:21: TqdmWarning: IProgress not found. Please update jupyter and ipywidgets. See https://ipywidgets.readthedocs.io/en/stable/user_install.html\n",
      "  from .autonotebook import tqdm as notebook_tqdm\n"
     ]
    },
    {
     "data": {
      "text/plain": [
       "True"
      ]
     },
     "execution_count": 1,
     "metadata": {},
     "output_type": "execute_result"
    }
   ],
   "source": [
    "import os\n",
    "from dotenv import load_dotenv\n",
    "from haystack import Pipeline\n",
    "from haystack.components.converters import PyPDFToDocument, HTMLToDocument\n",
    "from haystack.components.fetchers import LinkContentFetcher\n",
    "from haystack.components.routers import FileTypeRouter\n",
    "from haystack.components.joiners import DocumentJoiner\n",
    "from haystack.components.preprocessors import (\n",
    "    DocumentCleaner,\n",
    "    DocumentSplitter)\n",
    "from pathlib import Path\n",
    "from scripts.synthetic_data_generation.knowledge_graph_component import KnowledgeGraphGenerator\n",
    "from scripts.synthetic_data_generation.langchaindocument import DocumentToLangChainConverter\n",
    "from scripts.synthetic_data_generation.synthetic_test_components import SyntheticTestGenerator,\\\n",
    "                                                TestDatasetSaver\n",
    "\n",
    "# Load environment variables\n",
    "load_dotenv(\".env\")\n"
   ]
  },
  {
   "cell_type": "markdown",
   "id": "33e24548",
   "metadata": {},
   "source": [
    "## 2. Initialize components \n",
    "\n",
    "We will use a combination of custom and pre-existing Haystack components to generate a comprehensive synthetic dataset from a PDF and 2 URLs. A router will be using to process each then merge them once they're Haystack Document objects."
   ]
  },
  {
   "cell_type": "code",
   "execution_count": 9,
   "id": "3f5e96c2",
   "metadata": {},
   "outputs": [],
   "source": [
    "# Core routing and joining components  \n",
    "file_router = FileTypeRouter(mime_types=[\"text/plain\", \"application/pdf\", \"text/html\"])\n",
    "doc_joiner = DocumentJoiner()  # Joins documents from different branches\n",
    "\n",
    "# Input converters for each file type\n",
    "pdf_converter = PyPDFToDocument()\n",
    "html_converter = HTMLToDocument()  \n",
    "link_fetcher = LinkContentFetcher()\n",
    "\n",
    "# Shared processing components\n",
    "doc_cleaner = DocumentCleaner(\n",
    "    remove_empty_lines=True, \n",
    "    remove_extra_whitespaces=True\n",
    ")\n",
    "doc_splitter = DocumentSplitter(split_by=\"sentence\", split_length=50, split_overlap=5)\n",
    "doc_converter = DocumentToLangChainConverter()\n",
    "kg_generator = KnowledgeGraphGenerator(apply_transforms=True)\n",
    "test_generator = SyntheticTestGenerator(\n",
    "    testset_size=3,  # Larger test set for multiple sources\n",
    "    llm_model=\"gpt-4o-mini\",\n",
    "    query_distribution=[\n",
    "        (\"single_hop\", 0.3),\n",
    "        (\"multi_hop_specific\", 0.3), \n",
    "        (\"multi_hop_abstract\", 0.4)\n",
    "    ]\n",
    ")\n",
    "test_saver = TestDatasetSaver(\"data_for_eval/synthetic_tests_advanced_branching_3.csv\")"
   ]
  },
  {
   "cell_type": "markdown",
   "id": "ebcdc999",
   "metadata": {},
   "source": [
    "## 2. Initialize and setup pipeline \n",
    "\n",
    "We will prepare our pipeline so it routes the different kinds of documents from 2 streams: PDF and web content fetched from a URL. We will clean the documents, split them and apply our custom components to generate a knowledge graph from the joint documents, and then a synthetic dataset with question-answer pairs."
   ]
  },
  {
   "cell_type": "code",
   "execution_count": null,
   "id": "4791e670",
   "metadata": {},
   "outputs": [],
   "source": [
    "# Initialize pipeline\n",
    "pipeline = Pipeline()\n",
    "# Add all components to pipeline\n",
    "pipeline.add_component(\"file_router\", file_router)\n",
    "pipeline.add_component(\"link_fetcher\", link_fetcher)\n",
    "pipeline.add_component(\"pdf_converter\", pdf_converter) \n",
    "pipeline.add_component(\"html_converter\", html_converter)\n",
    "pipeline.add_component(\"doc_joiner\", doc_joiner)\n",
    "pipeline.add_component(\"doc_cleaner\", doc_cleaner)\n",
    "pipeline.add_component(\"doc_splitter\", doc_splitter)\n",
    "pipeline.add_component(\"doc_converter\", doc_converter)\n",
    "pipeline.add_component(\"kg_generator\", kg_generator)\n",
    "pipeline.add_component(\"test_generator\", test_generator)\n",
    "pipeline.add_component(\"test_saver\", test_saver)\n",
    "\n",
    "# Connect file routing branches\n",
    "pipeline.connect(\"file_router.application/pdf\", \"pdf_converter.sources\") \n",
    "pipeline.connect(\"link_fetcher.streams\", \"html_converter.sources\")\n",
    "\n",
    "# Connect converters to joiner\n",
    "pipeline.connect(\"pdf_converter.documents\", \"doc_joiner.documents\")\n",
    "pipeline.connect(\"html_converter.documents\", \"doc_joiner.documents\")\n",
    "\n",
    "# Connect main processing path\n",
    "pipeline.connect(\"doc_joiner.documents\", \"doc_cleaner.documents\")\n",
    "pipeline.connect(\"doc_cleaner.documents\", \"doc_splitter.documents\")\n",
    "pipeline.connect(\"doc_splitter.documents\", \"doc_converter.documents\")\n",
    "pipeline.connect(\"doc_converter.langchain_documents\", \"kg_generator.documents\")\n",
    "pipeline.connect(\"kg_generator.knowledge_graph\", \"test_generator.knowledge_graph\")\n",
    "pipeline.connect(\"doc_converter.langchain_documents\", \"test_generator.documents\")\n",
    "pipeline.connect(\"test_generator.testset\", \"test_saver.testset\")"
   ]
  },
  {
   "cell_type": "markdown",
   "id": "bac9d464",
   "metadata": {},
   "source": [
    "## 3. Execute pipeline"
   ]
  },
  {
   "cell_type": "code",
   "execution_count": 8,
   "id": "875714df",
   "metadata": {},
   "outputs": [
    {
     "name": "stderr",
     "output_type": "stream",
     "text": [
      "Applying HeadlinesExtractor: 100%|██████████| 26/26 [00:06<00:00,  4.06it/s]\n",
      "Applying HeadlineSplitter: 100%|██████████| 26/26 [00:00<00:00, 676.59it/s]\n",
      "Applying SummaryExtractor:  63%|██████▎   | 17/27 [00:06<00:02,  3.93it/s]Property 'summary' already exists in node 'fcce35'. Skipping!\n",
      "Applying SummaryExtractor: 100%|██████████| 27/27 [00:08<00:00,  3.28it/s]\n",
      "Applying CustomNodeFilter: 100%|██████████| 72/72 [00:17<00:00,  4.16it/s]\n",
      "Applying EmbeddingExtractor:  74%|███████▍  | 20/27 [00:00<00:00, 42.33it/s]Property 'summary_embedding' already exists in node 'fcce35'. Skipping!\n",
      "Applying EmbeddingExtractor: 100%|██████████| 27/27 [00:01<00:00, 18.59it/s]\n",
      "Applying ThemesExtractor: 100%|██████████| 71/71 [00:17<00:00,  4.03it/s]\n",
      "Applying NERExtractor: 100%|██████████| 71/71 [00:17<00:00,  3.98it/s]\n",
      "Applying CosineSimilarityBuilder: 100%|██████████| 1/1 [00:00<00:00, 195.20it/s]\n",
      "Applying OverlapScoreBuilder: 100%|██████████| 1/1 [00:00<00:00, 19.95it/s]\n",
      "Generating personas: 100%|██████████| 3/3 [00:02<00:00,  1.07it/s]\n",
      "Generating Scenarios: 100%|██████████| 3/3 [00:06<00:00,  2.25s/it]\n",
      "Generating Samples: 100%|██████████| 4/4 [00:04<00:00,  1.14s/it]\n"
     ]
    }
   ],
   "source": [
    "pdf_file = Path(\"./data_for_indexing/howpeopleuseai.pdf\")\n",
    "web_urls = [\"https://www.bbc.com/news/articles/c2l799gxjjpo\",\n",
    "            \"https://www.brookings.edu/articles/how-artificial-intelligence-is-transforming-the-world/\"\n",
    "            ]\n",
    "\n",
    "# Run pipeline with both input types\n",
    "result = pipeline.run({\n",
    "    \"file_router\": {\"sources\": [pdf_file]},  # PDF input through FileTypeRouter\n",
    "    \"link_fetcher\": {\"urls\":web_urls }      # Web input through LinkContentFetcher\n",
    "})"
   ]
  },
  {
   "cell_type": "code",
   "execution_count": null,
   "id": "3b865560",
   "metadata": {},
   "outputs": [],
   "source": []
  }
 ],
 "metadata": {
  "kernelspec": {
   "display_name": "rag-with-haystack-ch6",
   "language": "python",
   "name": "python3"
  },
  "language_info": {
   "codemirror_mode": {
    "name": "ipython",
    "version": 3
   },
   "file_extension": ".py",
   "mimetype": "text/x-python",
   "name": "python",
   "nbconvert_exporter": "python",
   "pygments_lexer": "ipython3",
   "version": "3.12.4"
  }
 },
 "nbformat": 4,
 "nbformat_minor": 5
}
