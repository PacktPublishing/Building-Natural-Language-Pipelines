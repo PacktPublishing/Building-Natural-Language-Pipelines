{
 "cells": [
  {
   "cell_type": "code",
   "execution_count": 6,
   "metadata": {},
   "outputs": [
    {
     "name": "stderr",
     "output_type": "stream",
     "text": [
      "Some weights of the model checkpoint at dslim/bert-base-NER were not used when initializing BertForTokenClassification: ['bert.pooler.dense.bias', 'bert.pooler.dense.weight']\n",
      "- This IS expected if you are initializing BertForTokenClassification from the checkpoint of a model trained on another task or with another architecture (e.g. initializing a BertForSequenceClassification model from a BertForPreTraining model).\n",
      "- This IS NOT expected if you are initializing BertForTokenClassification from the checkpoint of a model that you expect to be exactly identical (initializing a BertForSequenceClassification model from a BertForSequenceClassification model).\n"
     ]
    },
    {
     "data": {
      "text/plain": [
       "<haystack.core.pipeline.pipeline.Pipeline object at 0x30d70ef60>\n",
       "🚅 Components\n",
       "  - search: SerperDevWebSearch\n",
       "  - fetcher: LinkContentFetcher\n",
       "  - htmldocument: HTMLToDocument\n",
       "  - cleaner: DocumentCleaner\n",
       "  - extractor: NamedEntityExtractor\n",
       "🛤️ Connections\n",
       "  - search.links -> fetcher.urls (List[str])\n",
       "  - fetcher.streams -> htmldocument.sources (List[ByteStream])\n",
       "  - htmldocument.documents -> cleaner.documents (List[Document])\n",
       "  - cleaner.documents -> extractor.documents (List[Document])"
      ]
     },
     "execution_count": 6,
     "metadata": {},
     "output_type": "execute_result"
    }
   ],
   "source": [
    "from haystack import Pipeline\n",
    "from haystack.components.preprocessors import DocumentCleaner\n",
    "from haystack.components.websearch import SerperDevWebSearch\n",
    "from haystack.components.fetchers import LinkContentFetcher\n",
    "from haystack.components.converters import HTMLToDocument\n",
    "from haystack.components.writers import DocumentWriter\n",
    "from haystack import Pipeline\n",
    "from haystack.components.extractors import NamedEntityExtractor\n",
    "\n",
    "\n",
    "from dotenv import load_dotenv\n",
    "import os\n",
    "\n",
    "load_dotenv(\".env\")\n",
    "open_ai_key = os.getenv(\"OPENAI_API_KEY\")\n",
    "serper_api_key = os.getenv(\"SERPERDEV_API_KEY\")\n",
    "\n",
    "# Initialize pipeline\n",
    "pipeline = Pipeline()\n",
    "web_search = SerperDevWebSearch(top_k=5,\n",
    "                                allowed_domains=[\"https://www.britannica.com/\"])\n",
    "link_content = LinkContentFetcher(retry_attempts=3,\n",
    "                                  timeout=10)\n",
    "html_to_doc = HTMLToDocument()\n",
    "document_cleaner = DocumentCleaner(\n",
    "                                remove_empty_lines=True,\n",
    "                                remove_extra_whitespaces=True,\n",
    "                                remove_repeated_substrings=False,\n",
    "                                remove_substrings=['\\n-']\n",
    "                            )\n",
    "extractor = NamedEntityExtractor(backend=\"hugging_face\", model=\"dslim/bert-base-NER\")\n",
    "extractor.warm_up()\n",
    "\n",
    "# Add components\n",
    "pipeline.add_component(name='search', instance=web_search)\n",
    "pipeline.add_component(name ='fetcher' , instance= link_content)\n",
    "pipeline.add_component(name='htmldocument', instance=html_to_doc)\n",
    "pipeline.add_component(name='cleaner', instance=document_cleaner)\n",
    "pipeline.add_component(name='extractor', instance=extractor)\n",
    "\n",
    "# Connect components to one another\n",
    "pipeline.connect(\"search.links\", \"fetcher.urls\")\n",
    "pipeline.connect(\"fetcher\", \"htmldocument\")\n",
    "pipeline.connect(\"htmldocument\", \"cleaner\")\n",
    "pipeline.connect(\"cleaner\", \"extractor\")\n"
   ]
  },
  {
   "cell_type": "code",
   "execution_count": 7,
   "metadata": {},
   "outputs": [],
   "source": [
    "query = \"What can you tell me about the year of the dragon?\"\n",
    "output = pipeline.run(data={\"search\":{\"query\":query}})"
   ]
  },
  {
   "cell_type": "code",
   "execution_count": 8,
   "metadata": {},
   "outputs": [],
   "source": [
    "extracted_documents = output['extractor']['documents']"
   ]
  },
  {
   "cell_type": "code",
   "execution_count": 9,
   "metadata": {},
   "outputs": [
    {
     "data": {
      "text/plain": [
       "{'content_type': 'text/html',\n",
       " 'url': 'https://www.britannica.com/topic/Chinese-New-Year',\n",
       " 'named_entities': [NamedEntityAnnotation(entity='MISC', start=0, end=16, score=np.float32(0.8706437)),\n",
       "  NamedEntityAnnotation(entity='MISC', start=30, end=44, score=np.float32(0.91554195)),\n",
       "  NamedEntityAnnotation(entity='LOC', start=61, end=66, score=np.float32(0.9186233)),\n",
       "  NamedEntityAnnotation(entity='MISC', start=67, end=74, score=np.float32(0.66412055)),\n",
       "  NamedEntityAnnotation(entity='MISC', start=82, end=96, score=np.float32(0.8688859)),\n",
       "  NamedEntityAnnotation(entity='MISC', start=121, end=137, score=np.float32(0.9623936)),\n",
       "  NamedEntityAnnotation(entity='LOC', start=165, end=170, score=np.float32(0.99973375)),\n",
       "  NamedEntityAnnotation(entity='MISC', start=175, end=182, score=np.float32(0.99974746)),\n",
       "  NamedEntityAnnotation(entity='MISC', start=311, end=318, score=np.float32(0.9997546)),\n",
       "  NamedEntityAnnotation(entity='MISC', start=414, end=428, score=np.float32(0.9671516)),\n",
       "  NamedEntityAnnotation(entity='LOC', start=523, end=528, score=np.float32(0.9997794)),\n",
       "  NamedEntityAnnotation(entity='MISC', start=588, end=604, score=np.float32(0.9242876)),\n",
       "  NamedEntityAnnotation(entity='MISC', start=650, end=665, score=np.float32(0.7919462)),\n",
       "  NamedEntityAnnotation(entity='MISC', start=713, end=729, score=np.float32(0.9364104)),\n",
       "  NamedEntityAnnotation(entity='MISC', start=761, end=777, score=np.float32(0.9695166)),\n",
       "  NamedEntityAnnotation(entity='PER', start=859, end=861, score=np.float32(0.73694575)),\n",
       "  NamedEntityAnnotation(entity='MISC', start=865, end=871, score=np.float32(0.7323043)),\n",
       "  NamedEntityAnnotation(entity='MISC', start=1304, end=1320, score=np.float32(0.9760999)),\n",
       "  NamedEntityAnnotation(entity='MISC', start=1443, end=1459, score=np.float32(0.93961865)),\n",
       "  NamedEntityAnnotation(entity='MISC', start=1673, end=1689, score=np.float32(0.93505925)),\n",
       "  NamedEntityAnnotation(entity='MISC', start=1704, end=1720, score=np.float32(0.92978096)),\n",
       "  NamedEntityAnnotation(entity='MISC', start=1838, end=1845, score=np.float32(0.9997471))]}"
      ]
     },
     "execution_count": 9,
     "metadata": {},
     "output_type": "execute_result"
    }
   ],
   "source": [
    "extracted_documents[0].meta"
   ]
  },
  {
   "cell_type": "code",
   "execution_count": 10,
   "metadata": {},
   "outputs": [
    {
     "data": {
      "text/plain": [
       "'Chinese New Year Also called: Lunar New Year Related Topics: China Chinese zodiac Lunar New Year January February\\nNews •\\nChinese New Year, annual 15-day festival in China and Chinese communities around the world that begins with the new moon that occurs sometime between January 21 and February 20 according to Western calendars. Festivities last until the following full moon.\\nThe holiday is sometimes called the Lunar New Year because the dates of celebration follow the phases of the moon. Since the mid-1990s people in China have been given seven consecutive days off work during the Chinese New Year. This week of relaxation has been designated Spring Festival, a term that is sometimes used to refer to the Chinese New Year in general.\\nThe origins of the Chinese New Year are steeped in legend. One legend is that thousands of years ago a monster named Nian (“Year”) would attack villagers at the beginning of each new year. The monster was afraid of loud noises, bright lights, and the colour red, so those things were used to chase the beast away. Celebrations to usher out the old year and bring forth the luck and prosperity of the new one, therefore, often include firecrackers, fireworks, and red clothes and decorations. Young people are given money in colourful red envelopes. In addition, Chinese New Year is a time to feast and to visit family members. Many traditions of the season honour relatives who have died.\\nAmong other Chinese New Year traditions is the thorough cleaning of one’s home to rid the resident of any lingering bad luck. Some people prepare and enjoy special foods on certain days during the celebrations. The last event held during the Chinese New Year is called the Lantern Festival, during which people hang glowing lanterns in temples or carry them during a nighttime parade. Since the dragon is a Chinese symbol of good fortune, a dragon dance highlights festival celebrations in many areas. This procession involves a long, colourful dragon being carried through the streets by numerous dancers.'"
      ]
     },
     "execution_count": 10,
     "metadata": {},
     "output_type": "execute_result"
    }
   ],
   "source": [
    "extracted_documents[0].content"
   ]
  },
  {
   "cell_type": "code",
   "execution_count": null,
   "metadata": {},
   "outputs": [],
   "source": []
  }
 ],
 "metadata": {
  "kernelspec": {
   "display_name": "NLP pipelines",
   "language": "python",
   "name": "venv"
  },
  "language_info": {
   "codemirror_mode": {
    "name": "ipython",
    "version": 3
   },
   "file_extension": ".py",
   "mimetype": "text/x-python",
   "name": "python",
   "nbconvert_exporter": "python",
   "pygments_lexer": "ipython3",
   "version": "3.12.4"
  }
 },
 "nbformat": 4,
 "nbformat_minor": 2
}
