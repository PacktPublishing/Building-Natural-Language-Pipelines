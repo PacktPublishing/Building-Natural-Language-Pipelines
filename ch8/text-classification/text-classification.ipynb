{
 "cells": [
  {
   "cell_type": "markdown",
   "metadata": {},
   "source": [
    "## Dataset\n",
    "\n",
    "* Source: https://www.kaggle.com/datasets/tanishqdublish/text-classification-documentation\n",
    "* License: [Licence Apache 2.0](https://www.apache.org/licenses/LICENSE-2.0)\n",
    "\n",
    "This is text document classification dataset which contains 2225 text data and five categories of documents. Five categories are politics, sport, tech, entertainment and business. We can use this dataset for documents classification and document clustering.\n",
    "\n",
    "Dataset contains two features text and label.\n",
    "* No. of Rows : 2225\n",
    "* No. of Columns : 2\n",
    "\n",
    "Columns: \n",
    "* Text: It contains different categories of text data\n",
    "* Label: It contains labels for five different categories : 0,1,2,3,4\n",
    "\n",
    "Where: \n",
    "* Politics = 0\n",
    "* Sport = 1\n",
    "* Technology = 2\n",
    "* Entertainment =3\n",
    "* Business = 4"
   ]
  },
  {
   "cell_type": "code",
   "execution_count": 2,
   "metadata": {},
   "outputs": [],
   "source": [
    "import pandas as pd\n",
    "df = pd.read_csv('classification_model_used_df_file.csv')"
   ]
  },
  {
   "cell_type": "code",
   "execution_count": 6,
   "metadata": {},
   "outputs": [],
   "source": [
    "from haystack.components.routers import TransformersZeroShotTextRouter\n",
    "\n",
    "text_router = TransformersZeroShotTextRouter(\n",
    "    model=\"MoritzLaurer/deberta-v3-large-zeroshot-v2.0\",\n",
    "    labels=[\"Politics\", \"Sport\",\"Technology\",\"Entertainment\", \"Business\"],)\n",
    "text_router.warm_up()"
   ]
  },
  {
   "cell_type": "code",
   "execution_count": 9,
   "metadata": {},
   "outputs": [],
   "source": [
    "map_categories = {0: 'Politics', 1: 'Sport', 2: 'Technology', 3: 'Entertainment', 4: 'Business'}\n",
    "df['category_label'] = df['Label'].apply(lambda x: map_categories[x])\n"
   ]
  },
  {
   "cell_type": "code",
   "execution_count": 10,
   "metadata": {},
   "outputs": [
    {
     "data": {
      "text/html": [
       "<div>\n",
       "<style scoped>\n",
       "    .dataframe tbody tr th:only-of-type {\n",
       "        vertical-align: middle;\n",
       "    }\n",
       "\n",
       "    .dataframe tbody tr th {\n",
       "        vertical-align: top;\n",
       "    }\n",
       "\n",
       "    .dataframe thead th {\n",
       "        text-align: right;\n",
       "    }\n",
       "</style>\n",
       "<table border=\"1\" class=\"dataframe\">\n",
       "  <thead>\n",
       "    <tr style=\"text-align: right;\">\n",
       "      <th></th>\n",
       "      <th>Text</th>\n",
       "      <th>Label</th>\n",
       "      <th>category_label</th>\n",
       "    </tr>\n",
       "  </thead>\n",
       "  <tbody>\n",
       "    <tr>\n",
       "      <th>0</th>\n",
       "      <td>Budget to set scene for election\\n \\n Gordon B...</td>\n",
       "      <td>0</td>\n",
       "      <td>Politics</td>\n",
       "    </tr>\n",
       "    <tr>\n",
       "      <th>1</th>\n",
       "      <td>Army chiefs in regiments decision\\n \\n Militar...</td>\n",
       "      <td>0</td>\n",
       "      <td>Politics</td>\n",
       "    </tr>\n",
       "    <tr>\n",
       "      <th>2</th>\n",
       "      <td>Howard denies split over ID cards\\n \\n Michael...</td>\n",
       "      <td>0</td>\n",
       "      <td>Politics</td>\n",
       "    </tr>\n",
       "    <tr>\n",
       "      <th>3</th>\n",
       "      <td>Observers to monitor UK election\\n \\n Minister...</td>\n",
       "      <td>0</td>\n",
       "      <td>Politics</td>\n",
       "    </tr>\n",
       "    <tr>\n",
       "      <th>4</th>\n",
       "      <td>Kilroy names election seat target\\n \\n Ex-chat...</td>\n",
       "      <td>0</td>\n",
       "      <td>Politics</td>\n",
       "    </tr>\n",
       "  </tbody>\n",
       "</table>\n",
       "</div>"
      ],
      "text/plain": [
       "                                                Text  Label category_label\n",
       "0  Budget to set scene for election\\n \\n Gordon B...      0       Politics\n",
       "1  Army chiefs in regiments decision\\n \\n Militar...      0       Politics\n",
       "2  Howard denies split over ID cards\\n \\n Michael...      0       Politics\n",
       "3  Observers to monitor UK election\\n \\n Minister...      0       Politics\n",
       "4  Kilroy names election seat target\\n \\n Ex-chat...      0       Politics"
      ]
     },
     "execution_count": 10,
     "metadata": {},
     "output_type": "execute_result"
    }
   ],
   "source": [
    "df.head()"
   ]
  },
  {
   "cell_type": "code",
   "execution_count": 13,
   "metadata": {},
   "outputs": [],
   "source": [
    "def process_text(query):\n",
    "    result = text_router.run(text=query)\n",
    "    return next(iter(result))\n",
    "\n",
    "df['Output Branch'] = df['Text'].apply(lambda text: process_text(text))\n"
   ]
  },
  {
   "cell_type": "code",
   "execution_count": 14,
   "metadata": {},
   "outputs": [],
   "source": [
    "df.to_csv('classification_model_used_df_file.csv', index=False)"
   ]
  },
  {
   "cell_type": "code",
   "execution_count": 3,
   "metadata": {},
   "outputs": [
    {
     "name": "stdout",
     "output_type": "stream",
     "text": [
      "<class 'pandas.core.frame.DataFrame'>\n",
      "RangeIndex: 2225 entries, 0 to 2224\n",
      "Data columns (total 4 columns):\n",
      " #   Column          Non-Null Count  Dtype \n",
      "---  ------          --------------  ----- \n",
      " 0   Text            2225 non-null   object\n",
      " 1   Label           2225 non-null   int64 \n",
      " 2   category_label  2225 non-null   object\n",
      " 3   Output Branch   2225 non-null   object\n",
      "dtypes: int64(1), object(3)\n",
      "memory usage: 69.7+ KB\n"
     ]
    }
   ],
   "source": [
    "df.info()"
   ]
  },
  {
   "cell_type": "markdown",
   "metadata": {},
   "source": [
    "### Computing accuracy"
   ]
  },
  {
   "cell_type": "code",
   "execution_count": 4,
   "metadata": {},
   "outputs": [
    {
     "name": "stdout",
     "output_type": "stream",
     "text": [
      "Accuracy: 91.33%\n"
     ]
    }
   ],
   "source": [
    "accuracy = (df['category_label'] == df['Output Branch']).mean()\n",
    "print(f\"Accuracy: {accuracy * 100:.2f}%\")"
   ]
  },
  {
   "cell_type": "markdown",
   "metadata": {},
   "source": [
    "### Confusion matrix"
   ]
  },
  {
   "cell_type": "code",
   "execution_count": 16,
   "metadata": {},
   "outputs": [
    {
     "name": "stdout",
     "output_type": "stream",
     "text": [
      "Confusion Matrix:\n"
     ]
    },
    {
     "data": {
      "text/plain": [
       "<Figure size 600x600 with 0 Axes>"
      ]
     },
     "metadata": {},
     "output_type": "display_data"
    },
    {
     "data": {
      "image/png": "[encoded data removed]",
      "text/plain": [
       "<Figure size 640x480 with 2 Axes>"
      ]
     },
     "metadata": {},
     "output_type": "display_data"
    }
   ],
   "source": [
    "from sklearn.metrics import confusion_matrix, ConfusionMatrixDisplay\n",
    "import matplotlib.pyplot as plt\n",
    "# Convert category labels and Output Branch to numerical values for confusion matrix\n",
    "# Assuming you already have a mapping for labels\n",
    "label_map = {\n",
    "    \"Politics\": 0,\n",
    "    \"Sport\": 1,\n",
    "    \"Technology\": 2,\n",
    "    \"Entertainment\": 3,\n",
    "    \"Business\": 4\n",
    "}\n",
    "\n",
    "inverse_map = {v: k for k, v in label_map.items()}\n",
    "\n",
    "df['category_numeric'] = df['category_label'].map(label_map)\n",
    "df['output_numeric'] = df['Output Branch'].map(label_map)\n",
    "\n",
    "cm = confusion_matrix(df['category_numeric'], df['output_numeric'])\n",
    "print(\"Confusion Matrix:\")\n",
    "disp = ConfusionMatrixDisplay(confusion_matrix=cm,\n",
    "                              display_labels=inverse_map.values())\n",
    "plt.figure(figsize=(6, 6)) \n",
    "disp.plot()\n",
    "plt.xticks(rotation=45)\n",
    "plt.tight_layout()\n",
    "plt.savefig('confusion_matrix.png')"
   ]
  },
  {
   "cell_type": "markdown",
   "metadata": {},
   "source": [
    "### Evaluating model performance"
   ]
  },
  {
   "cell_type": "code",
   "execution_count": 18,
   "metadata": {},
   "outputs": [],
   "source": [
    "df['exact_match'] = df['category_label'] == df['Output Branch']"
   ]
  },
  {
   "cell_type": "code",
   "execution_count": 21,
   "metadata": {},
   "outputs": [
    {
     "name": "stdout",
     "output_type": "stream",
     "text": [
      "Classification Report:\n",
      "               precision    recall  f1-score   support\n",
      "\n",
      "     Politics       0.80      0.97      0.88       417\n",
      "        Sport       0.96      1.00      0.98       511\n",
      "   Technology       0.96      0.86      0.91       401\n",
      "Entertainment       0.90      0.95      0.93       386\n",
      "     Business       0.97      0.79      0.87       510\n",
      "\n",
      "     accuracy                           0.91      2225\n",
      "    macro avg       0.92      0.92      0.91      2225\n",
      " weighted avg       0.92      0.91      0.91      2225\n",
      "\n"
     ]
    }
   ],
   "source": [
    "from sklearn.metrics import classification_report\n",
    "\n",
    "# Generate the classification report\n",
    "report = classification_report(df['category_numeric'], df['output_numeric'], target_names=label_map.keys())\n",
    "print(\"Classification Report:\")\n",
    "print(report)"
   ]
  },
  {
   "cell_type": "markdown",
   "metadata": {},
   "source": [
    "The model performs very well overall, with an accuracy of 91%.\n",
    "* Sport is the best-performing class, with 1.00 recall (i.e., it identifies every instance of 'Sport') and a high F1-score of 0.98.\n",
    "* Business has a slightly lower recall of 0.79, meaning that it misses about 21% of the 'Business' instances, but its precision is still very high at 0.97, indicating that the instances it predicts as 'Business' are mostly correct.\n",
    "* The model has a good balance of precision and recall across all categories, as reflected by the relatively high F1-scores.\n",
    "\n",
    "### Conclusion:\n",
    "This classification model has performed well, especially in categories like Sport, Technology, and Entertainment, with a very high recall and precision. However, Business has slightly lower recall, meaning it might benefit from more focused tuning or additional data for that category."
   ]
  },
  {
   "cell_type": "code",
   "execution_count": null,
   "metadata": {},
   "outputs": [],
   "source": []
  }
 ],
 "metadata": {
  "kernelspec": {
   "display_name": "NLP pipelines",
   "language": "python",
   "name": "venv"
  },
  "language_info": {
   "codemirror_mode": {
    "name": "ipython",
    "version": 3
   },
   "file_extension": ".py",
   "mimetype": "text/x-python",
   "name": "python",
   "nbconvert_exporter": "python",
   "pygments_lexer": "ipython3",
   "version": "3.12.4"
  }
 },
 "nbformat": 4,
 "nbformat_minor": 2
}
