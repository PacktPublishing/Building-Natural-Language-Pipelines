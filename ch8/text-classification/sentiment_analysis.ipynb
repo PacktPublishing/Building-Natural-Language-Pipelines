{
 "cells": [
  {
   "cell_type": "markdown",
   "metadata": {},
   "source": [
    "### Building a custom component to perform sentiment analysis\n",
    "\n",
    "This notebook will perform API calls against this entrypoint\n",
    "\n",
    "https://rapidapi.com/beat-analytics-beat-analytics-default/api/yelp-business-reviews\n",
    "\n",
    "You can sign up for a basic account at $0 per month - ensure to store your API key in an `.env` file under the name `RAPID_API_KEY` before using this notebook. "
   ]
  },
  {
   "cell_type": "code",
   "execution_count": null,
   "metadata": {},
   "outputs": [],
   "source": [
    "import requests\n",
    "from dotenv import load_dotenv\n",
    "import os \n",
    "load_dotenv(\".env\")\n",
    "RAPID_API_KEY = os.getenv(\"RAPID_API_KEY\")\n"
   ]
  },
  {
   "cell_type": "code",
   "execution_count": 16,
   "metadata": {},
   "outputs": [],
   "source": [
    "from haystack.components.routers import TransformersTextRouter\n",
    "\n",
    "text_router = TransformersTextRouter(model=\"cardiffnlp/twitter-roberta-base-sentiment\")\n",
    "text_router.warm_up()"
   ]
  },
  {
   "cell_type": "code",
   "execution_count": null,
   "metadata": {},
   "outputs": [],
   "source": [
    "from haystack import component, Document\n",
    "from typing import Any, Dict, List, Union\n",
    "\n",
    "@component\n",
    "class YelpReviewSentimentExtractor:\n",
    "    @component.output_types(documents=List[Dict])\n",
    "    def run(self, url: str, headers: Dict, querystring: Dict) -> List[Document]:\n",
    "        \"\"\"Extracts reviews from Yelp API and performs sentiment analysis on the reviews.\n",
    "        \n",
    "        Args:\n",
    "            url (str): Yelp API URL.\n",
    "            headers (Dict): Request headers.\n",
    "            querystring (Dict): Request query parameters.\n",
    "        \n",
    "        Returns:\n",
    "            List[Document]: List of documents with sentiment analysis results.\"\"\"\n",
    "        reviews = self._extract_reviews(url, headers, querystring)\n",
    "        reviews_document = self._sentiment_analysis(reviews)\n",
    "        \n",
    "        return {\"documents\" : reviews_document}\n",
    "    \n",
    "    def _extract_reviews(self, url: str, headers: Dict, querystring: Dict) -> List[Dict]:\n",
    "        \"\"\"Extracts reviews from Yelp API.\n",
    "        \n",
    "        Args:\n",
    "            url (str): Yelp API URL.\n",
    "            headers (Dict): Request headers.\n",
    "            querystring (Dict): Request query parameters.\n",
    "            \n",
    "        Returns:\n",
    "            List[Dict]: List of reviews.\n",
    "        \"\"\"\n",
    "        try:\n",
    "            response = requests.get(url, headers=headers, params=querystring)\n",
    "\n",
    "            results = response.json()\n",
    "            \n",
    "            reviews = [{\"text\":results['reviews'][i]['text'],\n",
    "                        \"rating\": results['reviews'][i]['rating'],\n",
    "                        \"url\": results['reviews'][i]['url']} \\\n",
    "                        for i in range(len(results['reviews']))]\n",
    "            \n",
    "            return reviews\n",
    "        except Exception as e:\n",
    "            return []\n",
    "            print(e)\n",
    "            \n",
    "    def _sentiment_analysis(self, reviews: List[Dict]) -> List[Document]:\n",
    "        \"\"\"Performs sentiment analysis on the reviews.\n",
    "\n",
    "        Args:\n",
    "            reviews (List[Dict]): List of reviews.\n",
    "\n",
    "        Returns:\n",
    "            List[Document]: List of documents with sentiment analysis results.\n",
    "        \"\"\"\n",
    "        sent_results = []\n",
    "\n",
    "        for idx, query in enumerate(reviews):\n",
    "            result = text_router.run(text=query['text'])\n",
    "            document = Document(id=idx, \n",
    "                                content=query['text'],\n",
    "                                meta= {\"rating\": query['rating'],\n",
    "                                       \"url\": query['url'],\n",
    "                                    \"sentiment\": {\"LABEL_0\": \"negative\", \"LABEL_1\": \"neutral\", \"LABEL_2\": \"positive\"}.get(next(iter(result)), \"Unknown\")}  # Mapping the label\n",
    "                                )\n",
    "\n",
    "            sent_results.append(document)\n",
    "        return  sent_results\n",
    "\n"
   ]
  },
  {
   "cell_type": "code",
   "execution_count": 74,
   "metadata": {},
   "outputs": [
    {
     "name": "stderr",
     "output_type": "stream",
     "text": [
      "/Users/laurafunderburk/Documents/GitHub/Building-Natural-Language-Pipelines/venvs/dev/lib/python3.12/site-packages/transformers/pipelines/text_classification.py:106: UserWarning: `return_all_scores` is now deprecated,  if want a similar functionality use `top_k=None` instead of `return_all_scores=True` or `top_k=1` instead of `return_all_scores=False`.\n",
      "  warnings.warn(\n"
     ]
    },
    {
     "data": {
      "text/plain": [
       "{'documents': [Document(id=0d1168dec6c0eb79445dce8ec2122cef5ca72e59b73dd33613c5a45e3dca5f8f, content: 'We went midday around 2:30 in the afternoon on a Tuesday. Got drinks at the bar to wait for a table....', meta: {'rating': 1, 'url': 'https://www.yelp.com/biz/RJNAeNA-209sctUO0dmwuA?hrid=DK8kbUwWK2eui1zpV7weDw', 'sentiment': 'positive'}),\n",
       "  Document(id=1, content: 'Service was okay, but probably the nastiest food I think I've ever had. If you like good food do not...', meta: {'rating': 1, 'url': 'https://www.yelp.com/biz/RJNAeNA-209sctUO0dmwuA?hrid=XP59MFlpQjk9R0TmGZJvuA', 'sentiment': 'negative'}),\n",
       "  Document(id=2, content: 'They block people who have negative comments towards their food on facebook. That in itself is enoug...', meta: {'rating': 1, 'url': 'https://www.yelp.com/biz/RJNAeNA-209sctUO0dmwuA?hrid=GSTi6NUjBeyylXrF13uz5w', 'sentiment': 'negative'}),\n",
       "  Document(id=3, content: 'Ordered medium burger; it was well done. Fries were cold. Cheese curds were over cooked. Service was...', meta: {'rating': 1, 'url': 'https://www.yelp.com/biz/RJNAeNA-209sctUO0dmwuA?hrid=9SJFp3IQknub3rpKOhgwfQ', 'sentiment': 'negative'}),\n",
       "  Document(id=4, content: 'Horrible service and mediocre food. No idea how this place stays open with servers not checking in o...', meta: {'rating': 1, 'url': 'https://www.yelp.com/biz/RJNAeNA-209sctUO0dmwuA?hrid=QG-EaP3GoEspCTpqjL4Cfg', 'sentiment': 'negative'}),\n",
       "  Document(id=5, content: 'Absolute awful customer service.  Closes at 9pm, entered the place with a party of THREE at 8:40 and...', meta: {'rating': 1, 'url': 'https://www.yelp.com/biz/RJNAeNA-209sctUO0dmwuA?hrid=7ITiYfIOP83HsLO67WXhjw', 'sentiment': 'negative'}),\n",
       "  Document(id=6, content: 'Very poor, arrogant service at the bar.  \n",
       "  NO whiskey in my wife's Old Fashioned. \n",
       "  \n",
       "  Bartender Ben ins...', meta: {'rating': 1, 'url': 'https://www.yelp.com/biz/RJNAeNA-209sctUO0dmwuA?hrid=IfmX7FnVDNTh01R7JYUmPA', 'sentiment': 'negative'}),\n",
       "  Document(id=7, content: 'I just want to start out by saying that we were a table of bartenders, servers, and nurses. We under...', meta: {'rating': 1, 'url': 'https://www.yelp.com/biz/RJNAeNA-209sctUO0dmwuA?hrid=H-rbvyF3NfZH58GyiQHOyw', 'sentiment': 'negative'}),\n",
       "  Document(id=8, content: 'Definitely a tourist trap, I went here after reading that they had been voted best cheese curds in W...', meta: {'rating': 1, 'url': 'https://www.yelp.com/biz/RJNAeNA-209sctUO0dmwuA?hrid=TGWg_3KffA-vqWP9EVRvfw', 'sentiment': 'negative'}),\n",
       "  Document(id=9, content: 'My family and I have been going to the Old Fashioned for years. It was one of our favorite places to...', meta: {'rating': 1, 'url': 'https://www.yelp.com/biz/RJNAeNA-209sctUO0dmwuA?hrid=Xpnstk99hsu62SbjV7LP_w', 'sentiment': 'negative'})]}"
      ]
     },
     "execution_count": 74,
     "metadata": {},
     "output_type": "execute_result"
    }
   ],
   "source": [
    "url = \"https://yelp-business-reviews.p.rapidapi.com/reviews/RJNAeNA-209sctUO0dmwuA\"\n",
    "querystring = {\"sortBy\":\"lowestRated\"}\n",
    "\n",
    "headers = {\n",
    "\t\"x-rapidapi-key\": RAPID_API_KEY,\n",
    "\t\"x-rapidapi-host\": \"yelp-business-reviews.p.rapidapi.com\"\n",
    "}\n",
    "\n",
    "extract_reviews = YelpReviewSentimentExtractor()\n",
    "extract_reviews.run(url=url, headers=headers, querystring=querystring)"
   ]
  },
  {
   "cell_type": "code",
   "execution_count": 75,
   "metadata": {},
   "outputs": [
    {
     "data": {
      "text/plain": [
       "{'documents': [Document(id=2c8ffde6555f5115d0e49c3b82c225753b5d120b94bdb4ba92732b3e1bb0d20b, content: 'Loved the Perch Fish Fry! And the brand Old Fashioneds. Good Wisconsin Comfort Food!\n",
       "  Will return nex...', meta: {'rating': 5, 'url': 'https://www.yelp.com/biz/RJNAeNA-209sctUO0dmwuA?hrid=naVdpxs7sGfpS64YbGH2fA', 'sentiment': 'positive'}),\n",
       "  Document(id=1, content: 'Welcoming staff, very efficient in service and neat menu selection. Food was tasty. They really move...', meta: {'rating': 5, 'url': 'https://www.yelp.com/biz/RJNAeNA-209sctUO0dmwuA?hrid=zx6c92BAen8L1P-fm-xX0Q', 'sentiment': 'positive'}),\n",
       "  Document(id=2, content: 'The old fashion is delicious!! The food came out in about 10-15 mins after getting our drink so spee...', meta: {'rating': 5, 'url': 'https://www.yelp.com/biz/RJNAeNA-209sctUO0dmwuA?hrid=qay0pQZFWaov_iO3CMd0Bg', 'sentiment': 'positive'}),\n",
       "  Document(id=3, content: 'I'd give them 4.5 stars but bumped it up due to the host and our server being spot on.   Stopped in ...', meta: {'rating': 5, 'url': 'https://www.yelp.com/biz/RJNAeNA-209sctUO0dmwuA?hrid=dWJ0ZggdBMcEXHwzDkWnMQ', 'sentiment': 'positive'}),\n",
       "  Document(id=4, content: 'Great place, a must to try when in Madison. Double Brat and Spotted Cow on tap were just as great as...', meta: {'rating': 5, 'url': 'https://www.yelp.com/biz/RJNAeNA-209sctUO0dmwuA?hrid=HKNbuMP5BcnYZR6NnaHotA', 'sentiment': 'positive'}),\n",
       "  Document(id=5, content: 'Perfection! With the name Old Fashioned, I knew it was going to be great! Stopped in for lunch and t...', meta: {'rating': 5, 'url': 'https://www.yelp.com/biz/RJNAeNA-209sctUO0dmwuA?hrid=_FHbk5LJClCpXxFhHcEk-g', 'sentiment': 'positive'}),\n",
       "  Document(id=6, content: 'Came here, for the first time, 9 years ago. Had to do a revisit. I actually visited twice, in as man...', meta: {'rating': 5, 'url': 'https://www.yelp.com/biz/RJNAeNA-209sctUO0dmwuA?hrid=7g66FrwcvZm6Uo-LuOvnMA', 'sentiment': 'positive'}),\n",
       "  Document(id=7, content: 'First time at the Old Fashioned- although my girlfriend had been there with her husband. They don't ...', meta: {'rating': 5, 'url': 'https://www.yelp.com/biz/RJNAeNA-209sctUO0dmwuA?hrid=3O9lcwzi7TnICjOF_CBbYw', 'sentiment': 'positive'}),\n",
       "  Document(id=8, content: 'Placed was packed for lunch. Someone was waiting for me to arrive and they would not seat her until ...', meta: {'rating': 5, 'url': 'https://www.yelp.com/biz/RJNAeNA-209sctUO0dmwuA?hrid=xDZ7htogGmo2nK-No9fc9g', 'sentiment': 'positive'}),\n",
       "  Document(id=9, content: 'Great food and neat atmosphere! The service was great and portions were huge! Had the  grilled chick...', meta: {'rating': 5, 'url': 'https://www.yelp.com/biz/RJNAeNA-209sctUO0dmwuA?hrid=5zO-5wdjrvOIMEEGnVFnbg', 'sentiment': 'positive'})]}"
      ]
     },
     "execution_count": 75,
     "metadata": {},
     "output_type": "execute_result"
    }
   ],
   "source": [
    "querystring = {\"sortBy\":\"highestRated\"}\n",
    "extract_reviews.run(url=url, headers=headers, querystring=querystring)"
   ]
  },
  {
   "cell_type": "code",
   "execution_count": null,
   "metadata": {},
   "outputs": [],
   "source": []
  }
 ],
 "metadata": {
  "kernelspec": {
   "display_name": "NLP pipelines",
   "language": "python",
   "name": "venv"
  },
  "language_info": {
   "codemirror_mode": {
    "name": "ipython",
    "version": 3
   },
   "file_extension": ".py",
   "mimetype": "text/x-python",
   "name": "python",
   "nbconvert_exporter": "python",
   "pygments_lexer": "ipython3",
   "version": "3.12.4"
  }
 },
 "nbformat": 4,
 "nbformat_minor": 2
}
