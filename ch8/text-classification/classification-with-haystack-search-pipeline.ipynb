{
 "cells": [
  {
   "cell_type": "code",
   "execution_count": 37,
   "metadata": {},
   "outputs": [],
   "source": [
    "from haystack import Pipeline\n",
    "from haystack.components.preprocessors import DocumentCleaner\n",
    "from haystack.components.websearch import SerperDevWebSearch\n",
    "from haystack.components.fetchers import LinkContentFetcher\n",
    "from haystack.components.converters import HTMLToDocument\n",
    "from haystack.components.routers import TransformersZeroShotTextRouter\n",
    "from haystack import Pipeline\n",
    "from haystack.components.extractors import NamedEntityExtractor\n",
    "from haystack import component, Document\n",
    "from typing import Any, Dict, List, Union\n",
    "\n",
    "from dotenv import load_dotenv\n",
    "import os\n",
    "\n",
    "load_dotenv(\".env\")\n",
    "open_ai_key = os.getenv(\"OPENAI_API_KEY\")\n",
    "serper_api_key = os.getenv(\"SERPERDEV_API_KEY\")\n"
   ]
  },
  {
   "cell_type": "code",
   "execution_count": 26,
   "metadata": {},
   "outputs": [],
   "source": [
    "text_router = TransformersZeroShotTextRouter(\n",
    "    model=\"MoritzLaurer/deberta-v3-large-zeroshot-v2.0\",\n",
    "    labels=[\"Politics\", \"Sport\",\"Technology\",\"Entertainment\", \"Business\"],)\n",
    "text_router.warm_up()\n",
    "\n",
    "@component\n",
    "class NewsClassifier:\n",
    "    @component.output_types(documents=List[Document])\n",
    "    def run(self, documents: List[Document]) -> List[Document]:\n",
    "        for document in documents:\n",
    "            text = document.content\n",
    "            meta = document.meta\n",
    "            labels = text_router.run(text)\n",
    "            meta['labels'] = list(labels.keys())[0]\n",
    "            \n",
    "        return {\"documents\": documents}"
   ]
  },
  {
   "cell_type": "markdown",
   "metadata": {},
   "source": [
    "### Build Haystack pipeline "
   ]
  },
  {
   "cell_type": "code",
   "execution_count": 32,
   "metadata": {},
   "outputs": [
    {
     "data": {
      "text/plain": [
       "<haystack.core.pipeline.pipeline.Pipeline object at 0x494af5cd0>\n",
       "🚅 Components\n",
       "  - search: SerperDevWebSearch\n",
       "  - fetcher: LinkContentFetcher\n",
       "  - htmldocument: HTMLToDocument\n",
       "  - cleaner: DocumentCleaner\n",
       "  - classifier: NewsClassifier\n",
       "🛤️ Connections\n",
       "  - search.links -> fetcher.urls (List[str])\n",
       "  - fetcher.streams -> htmldocument.sources (List[ByteStream])\n",
       "  - htmldocument.documents -> cleaner.documents (List[Document])\n",
       "  - cleaner.documents -> classifier.documents (List[Document])"
      ]
     },
     "execution_count": 32,
     "metadata": {},
     "output_type": "execute_result"
    }
   ],
   "source": [
    "\n",
    "# Initialize pipeline\n",
    "pipeline = Pipeline()\n",
    "web_search = SerperDevWebSearch(top_k=10,\n",
    "                                allowed_domains=[\"https://ca.finance.yahoo.com/\"])\n",
    "link_content = LinkContentFetcher(retry_attempts=3,\n",
    "                                  timeout=10)\n",
    "html_to_doc = HTMLToDocument()\n",
    "document_cleaner = DocumentCleaner(\n",
    "                                remove_empty_lines=True,\n",
    "                                remove_extra_whitespaces=True,\n",
    "                                remove_repeated_substrings=False,\n",
    "                                remove_substrings=['\\n-']\n",
    "                            )\n",
    "\n",
    "\n",
    "# Add components\n",
    "pipeline.add_component(name='search', instance=web_search)\n",
    "pipeline.add_component(name ='fetcher' , instance= link_content)\n",
    "pipeline.add_component(name='htmldocument', instance=html_to_doc)\n",
    "pipeline.add_component(name='cleaner', instance=document_cleaner)\n",
    "pipeline.add_component(name='classifier', instance=NewsClassifier())\n",
    "\n",
    "# Connect components to one another\n",
    "pipeline.connect(\"search.links\", \"fetcher.urls\")\n",
    "pipeline.connect(\"fetcher\", \"htmldocument\")\n",
    "pipeline.connect(\"htmldocument\", \"cleaner\")\n",
    "pipeline.connect(\"cleaner\", \"classifier\")\n",
    "\n"
   ]
  },
  {
   "cell_type": "markdown",
   "metadata": {},
   "source": [
    "### Use pipeline to search for all articles related to Elon Musk and extract entities"
   ]
  },
  {
   "cell_type": "code",
   "execution_count": 33,
   "metadata": {},
   "outputs": [],
   "source": [
    "query = \"Elon Musk\"\n",
    "output = pipeline.run(data={\"search\":{\"query\":query}})"
   ]
  },
  {
   "cell_type": "code",
   "execution_count": 34,
   "metadata": {},
   "outputs": [],
   "source": [
    "extracted_documents = output['classifier']['documents']"
   ]
  },
  {
   "cell_type": "code",
   "execution_count": null,
   "metadata": {},
   "outputs": [
    {
     "name": "stdout",
     "output_type": "stream",
     "text": [
      "{'content_type': 'text/html', 'url': 'https://ca.finance.yahoo.com/news/musk-ascends-political-force-beyond-204319247.html', 'labels': 'Politics'}\n",
      "----\n",
      "{'content_type': 'text/html', 'url': 'https://ca.finance.yahoo.com/news/elon-musk-spacex-face-federal-184331986.html', 'labels': 'Politics'}\n",
      "----\n",
      "{'content_type': 'text/html', 'url': 'https://ca.finance.yahoo.com/news/elon-musk-becomes-first-person-184648913.html', 'labels': 'Business'}\n",
      "----\n",
      "{'content_type': 'text/html', 'url': 'https://ca.finance.yahoo.com/news/elon-musks-net-worth-tops-143636708.html', 'labels': 'Business'}\n",
      "----\n",
      "{'content_type': 'text/html', 'url': 'https://ca.finance.yahoo.com/news/openai-fires-back-elon-musk-212307411.html', 'labels': 'Technology'}\n",
      "----\n",
      "{'content_type': 'text/html', 'url': 'https://ca.finance.yahoo.com/news/whining-elon-musk-squeals-sec-103752120.html', 'labels': 'Politics'}\n",
      "----\n",
      "{'content_type': 'text/html', 'url': 'https://ca.finance.yahoo.com/news/elon-musk-considers-funding-nigel-150306115.html', 'labels': 'Politics'}\n",
      "----\n",
      "{'content_type': 'text/html', 'url': 'https://ca.finance.yahoo.com/news/openais-legal-battle-elon-musk-202720975.html', 'labels': 'Technology'}\n",
      "----\n",
      "{'content_type': 'text/html', 'url': 'https://ca.finance.yahoo.com/news/oman-investment-authority-invests-elon-132500023.html', 'labels': 'Business'}\n",
      "----\n",
      "{'content_type': 'text/html', 'url': 'https://ca.finance.yahoo.com/news/elon-musk-wants-turn-spacexs-000917920.html', 'labels': 'Politics'}\n",
      "----\n"
     ]
    }
   ],
   "source": [
    "for i in range(len(extracted_documents)):\n",
    "    print(extracted_documents[i].meta)\n",
    "    # to get content of the document use extracted_documents[i].content\n",
    "    print(\"----\")"
   ]
  },
  {
   "cell_type": "code",
   "execution_count": null,
   "metadata": {},
   "outputs": [],
   "source": []
  }
 ],
 "metadata": {
  "kernelspec": {
   "display_name": "NLP pipelines",
   "language": "python",
   "name": "venv"
  },
  "language_info": {
   "codemirror_mode": {
    "name": "ipython",
    "version": 3
   },
   "file_extension": ".py",
   "mimetype": "text/x-python",
   "name": "python",
   "nbconvert_exporter": "python",
   "pygments_lexer": "ipython3",
   "version": "3.12.4"
  }
 },
 "nbformat": 4,
 "nbformat_minor": 2
}
