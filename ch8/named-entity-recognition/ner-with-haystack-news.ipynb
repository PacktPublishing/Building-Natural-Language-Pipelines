{
 "cells": [
  {
   "cell_type": "markdown",
   "metadata": {},
   "source": [
    "### Performing NER on a collection of news articles\n",
    "\n",
    "#### Dataset\n",
    "\n",
    "* Source: https://www.kaggle.com/datasets/tanishqdublish/text-classification-documentation\n",
    "* License: [Licence Apache 2.0](https://www.apache.org/licenses/LICENSE-2.0)\n",
    "\n",
    "This is text document classification dataset which contains 2225 text data and five categories of documents. Five categories are politics, sport, tech, entertainment and business.\n",
    "\n",
    "Download a copy of the dataset to work with this notebook. "
   ]
  },
  {
   "cell_type": "code",
   "execution_count": null,
   "metadata": {},
   "outputs": [],
   "source": [
    "from haystack.components.extractors import NamedEntityExtractor\n",
    "import pandas as pd\n",
    "from haystack.dataclasses import Document"
   ]
  },
  {
   "cell_type": "code",
   "execution_count": null,
   "metadata": {},
   "outputs": [],
   "source": [
    "def extract_named_entities_with_ids(documents):\n",
    "    \"\"\"This function extracts named entities from a list of\n",
    "    documents and returns the result in a structured format.\n",
    "\n",
    "    Args:\n",
    "        documents (list): List of Haystack Document objects\n",
    "\n",
    "    Returns:\n",
    "        extracted_data (list): A list of dictionaries containing the extracted entities\n",
    "    \"\"\"\n",
    "    extracted_data = []\n",
    "\n",
    "    for document in documents:\n",
    "        content = document.content\n",
    "        doc_id = document.id\n",
    "        named_entities = document.meta.get('named_entities', [])\n",
    "        \n",
    "        # Sets to store unique entities by type\n",
    "        entities_by_type = {\n",
    "            \"LOC\": set(),\n",
    "            \"PER\": set(),\n",
    "            \"ORG\": set()\n",
    "        }\n",
    "        \n",
    "        # Loop through the entities and filter by score and type\n",
    "        for entity in named_entities:\n",
    "            if float(entity.score) < 0.8 or entity.entity == \"MISC\":\n",
    "                continue\n",
    "            \n",
    "            word = content[entity.start:entity.end]\n",
    "            if entity.entity in entities_by_type:\n",
    "                entities_by_type[entity.entity].add(word)  # Use set to ensure uniqueness\n",
    "        \n",
    "        # Prepare the meta field with comma-separated values\n",
    "        meta = {\n",
    "            \"LOC\": \",\".join(entities_by_type[\"LOC\"]),\n",
    "            \"PER\": \",\".join(entities_by_type[\"PER\"]),\n",
    "            \"ORG\": \",\".join(entities_by_type[\"ORG\"])\n",
    "        }\n",
    "        \n",
    "        # Append the result for this document\n",
    "        extracted_data.append({\n",
    "            'document_id': doc_id,\n",
    "            'content': content,\n",
    "            'meta': meta\n",
    "        })\n",
    "    \n",
    "\n",
    "    return extracted_data"
   ]
  },
  {
   "cell_type": "markdown",
   "metadata": {},
   "source": [
    "### Initialize the Named Entity Extractor\n"
   ]
  },
  {
   "cell_type": "code",
   "execution_count": 16,
   "metadata": {},
   "outputs": [
    {
     "name": "stderr",
     "output_type": "stream",
     "text": [
      "Some weights of the model checkpoint at dslim/bert-base-NER were not used when initializing BertForTokenClassification: ['bert.pooler.dense.bias', 'bert.pooler.dense.weight']\n",
      "- This IS expected if you are initializing BertForTokenClassification from the checkpoint of a model trained on another task or with another architecture (e.g. initializing a BertForSequenceClassification model from a BertForPreTraining model).\n",
      "- This IS NOT expected if you are initializing BertForTokenClassification from the checkpoint of a model that you expect to be exactly identical (initializing a BertForSequenceClassification model from a BertForSequenceClassification model).\n"
     ]
    }
   ],
   "source": [
    "extractor = NamedEntityExtractor(backend=\"hugging_face\", model=\"dslim/bert-base-NER\")\n",
    "extractor.warm_up()"
   ]
  },
  {
   "cell_type": "code",
   "execution_count": null,
   "metadata": {},
   "outputs": [],
   "source": [
    "df = pd.read_csv(\"df_file.csv\")\n",
    "sample_docs = df['Text'].to_list()\n",
    "documents = [Document(id=str(i), content=sample_docs[i]) for i in range(len(sample_docs))]\n",
    "\n",
    "# Apply extractor to the documents\n",
    "extractor.run(documents)\n"
   ]
  },
  {
   "cell_type": "code",
   "execution_count": null,
   "metadata": {},
   "outputs": [],
   "source": [
    "# Extract named entities from the documents\n",
    "extracted_documents = extract_named_entities_with_ids(documents)\n",
    "df = pd.DataFrame(extracted_documents)\n",
    "df.to_csv(\"ner_output.csv\", index=False)"
   ]
  },
  {
   "cell_type": "code",
   "execution_count": 57,
   "metadata": {},
   "outputs": [
    {
     "data": {
      "text/html": [
       "<div>\n",
       "<style scoped>\n",
       "    .dataframe tbody tr th:only-of-type {\n",
       "        vertical-align: middle;\n",
       "    }\n",
       "\n",
       "    .dataframe tbody tr th {\n",
       "        vertical-align: top;\n",
       "    }\n",
       "\n",
       "    .dataframe thead th {\n",
       "        text-align: right;\n",
       "    }\n",
       "</style>\n",
       "<table border=\"1\" class=\"dataframe\">\n",
       "  <thead>\n",
       "    <tr style=\"text-align: right;\">\n",
       "      <th></th>\n",
       "      <th>document_id</th>\n",
       "      <th>content</th>\n",
       "      <th>meta</th>\n",
       "    </tr>\n",
       "  </thead>\n",
       "  <tbody>\n",
       "    <tr>\n",
       "      <th>0</th>\n",
       "      <td>0</td>\n",
       "      <td>Budget to set scene for election\\n \\n Gordon B...</td>\n",
       "      <td>{'LOC': 'UK,England,Wales', 'PER': 'George Osb...</td>\n",
       "    </tr>\n",
       "    <tr>\n",
       "      <th>1</th>\n",
       "      <td>1</td>\n",
       "      <td>Army chiefs in regiments decision\\n \\n Militar...</td>\n",
       "      <td>{'LOC': 'Scotland,Iraq', 'PER': 'Eric,Joyce,Ge...</td>\n",
       "    </tr>\n",
       "    <tr>\n",
       "      <th>2</th>\n",
       "      <td>2</td>\n",
       "      <td>Howard denies split over ID cards\\n \\n Michael...</td>\n",
       "      <td>{'LOC': '', 'PER': 'Davis,Ye,Michael Howard,Ti...</td>\n",
       "    </tr>\n",
       "    <tr>\n",
       "      <th>3</th>\n",
       "      <td>3</td>\n",
       "      <td>Observers to monitor UK election\\n \\n Minister...</td>\n",
       "      <td>{'LOC': 'Britain,UK,Northern Ireland', 'PER': ...</td>\n",
       "    </tr>\n",
       "    <tr>\n",
       "      <th>4</th>\n",
       "      <td>4</td>\n",
       "      <td>Kilroy names election seat target\\n \\n Ex-chat...</td>\n",
       "      <td>{'LOC': 'UK,Derbyshire,London,Erewash,Nottingh...</td>\n",
       "    </tr>\n",
       "    <tr>\n",
       "      <th>...</th>\n",
       "      <td>...</td>\n",
       "      <td>...</td>\n",
       "      <td>...</td>\n",
       "    </tr>\n",
       "    <tr>\n",
       "      <th>2220</th>\n",
       "      <td>2220</td>\n",
       "      <td>India opens skies to competition\\n \\n India wi...</td>\n",
       "      <td>{'LOC': 'Saudi Arabia,India,Gulf,US,Kuwait', '...</td>\n",
       "    </tr>\n",
       "    <tr>\n",
       "      <th>2221</th>\n",
       "      <td>2221</td>\n",
       "      <td>Yukos bankruptcy 'not US matter'\\n \\n Russian ...</td>\n",
       "      <td>{'LOC': 'Russia,sk,Gibraltar,US,Houston,Europe...</td>\n",
       "    </tr>\n",
       "    <tr>\n",
       "      <th>2222</th>\n",
       "      <td>2222</td>\n",
       "      <td>Survey confirms property slowdown\\n \\n Governm...</td>\n",
       "      <td>{'LOC': 'Wales,UK,Greater London,England', 'PE...</td>\n",
       "    </tr>\n",
       "    <tr>\n",
       "      <th>2223</th>\n",
       "      <td>2223</td>\n",
       "      <td>High fuel prices hit BA's profits\\n \\n British...</td>\n",
       "      <td>{'LOC': '', 'PER': 'Martin Broughton,Mike Powe...</td>\n",
       "    </tr>\n",
       "    <tr>\n",
       "      <th>2224</th>\n",
       "      <td>2224</td>\n",
       "      <td>US trade gap hits record in 2004\\n \\n The gap ...</td>\n",
       "      <td>{'LOC': 'US,America,China', 'PER': 'Bush', 'OR...</td>\n",
       "    </tr>\n",
       "  </tbody>\n",
       "</table>\n",
       "<p>2225 rows × 3 columns</p>\n",
       "</div>"
      ],
      "text/plain": [
       "     document_id                                            content  \\\n",
       "0              0  Budget to set scene for election\\n \\n Gordon B...   \n",
       "1              1  Army chiefs in regiments decision\\n \\n Militar...   \n",
       "2              2  Howard denies split over ID cards\\n \\n Michael...   \n",
       "3              3  Observers to monitor UK election\\n \\n Minister...   \n",
       "4              4  Kilroy names election seat target\\n \\n Ex-chat...   \n",
       "...          ...                                                ...   \n",
       "2220        2220  India opens skies to competition\\n \\n India wi...   \n",
       "2221        2221  Yukos bankruptcy 'not US matter'\\n \\n Russian ...   \n",
       "2222        2222  Survey confirms property slowdown\\n \\n Governm...   \n",
       "2223        2223  High fuel prices hit BA's profits\\n \\n British...   \n",
       "2224        2224  US trade gap hits record in 2004\\n \\n The gap ...   \n",
       "\n",
       "                                                   meta  \n",
       "0     {'LOC': 'UK,England,Wales', 'PER': 'George Osb...  \n",
       "1     {'LOC': 'Scotland,Iraq', 'PER': 'Eric,Joyce,Ge...  \n",
       "2     {'LOC': '', 'PER': 'Davis,Ye,Michael Howard,Ti...  \n",
       "3     {'LOC': 'Britain,UK,Northern Ireland', 'PER': ...  \n",
       "4     {'LOC': 'UK,Derbyshire,London,Erewash,Nottingh...  \n",
       "...                                                 ...  \n",
       "2220  {'LOC': 'Saudi Arabia,India,Gulf,US,Kuwait', '...  \n",
       "2221  {'LOC': 'Russia,sk,Gibraltar,US,Houston,Europe...  \n",
       "2222  {'LOC': 'Wales,UK,Greater London,England', 'PE...  \n",
       "2223  {'LOC': '', 'PER': 'Martin Broughton,Mike Powe...  \n",
       "2224  {'LOC': 'US,America,China', 'PER': 'Bush', 'OR...  \n",
       "\n",
       "[2225 rows x 3 columns]"
      ]
     },
     "execution_count": 57,
     "metadata": {},
     "output_type": "execute_result"
    }
   ],
   "source": [
    "df"
   ]
  },
  {
   "cell_type": "code",
   "execution_count": null,
   "metadata": {},
   "outputs": [],
   "source": []
  }
 ],
 "metadata": {
  "kernelspec": {
   "display_name": "NLP pipelines",
   "language": "python",
   "name": "venv"
  },
  "language_info": {
   "codemirror_mode": {
    "name": "ipython",
    "version": 3
   },
   "file_extension": ".py",
   "mimetype": "text/x-python",
   "name": "python",
   "nbconvert_exporter": "python",
   "pygments_lexer": "ipython3",
   "version": "3.12.4"
  }
 },
 "nbformat": 4,
 "nbformat_minor": 2
}
