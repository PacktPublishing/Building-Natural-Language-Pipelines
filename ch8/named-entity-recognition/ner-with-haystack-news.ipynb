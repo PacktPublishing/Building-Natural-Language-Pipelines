{
 "cells": [
  {
   "cell_type": "markdown",
   "metadata": {},
   "source": [
    "### Performing NER on a collection of news articles\n",
    "\n",
    "#### Dataset\n",
    "\n",
    "* Source: https://www.kaggle.com/datasets/tanishqdublish/text-classification-documentation\n",
    "* License: [Licence Apache 2.0](https://www.apache.org/licenses/LICENSE-2.0)\n",
    "\n",
    "This is text document classification dataset which contains 2225 text data and five categories of documents. Five categories are politics, sport, tech, entertainment and business.\n",
    "\n",
    "Download a copy of the dataset to work with this notebook. "
   ]
  },
  {
   "cell_type": "code",
   "execution_count": null,
   "metadata": {},
   "outputs": [],
   "source": [
    "from haystack.components.extractors import NamedEntityExtractor\n",
    "import pandas as pd\n",
    "from haystack.dataclasses import Document"
   ]
  },
  {
   "cell_type": "code",
   "execution_count": 67,
   "metadata": {},
   "outputs": [],
   "source": [
    "def extract_named_entities_with_ids(documents):\n",
    "    \"\"\"This function extracts named entities from a list of\n",
    "    documents and returns the result in a structured format.\n",
    "\n",
    "    Args:\n",
    "        documents (list): List of Haystack Document objects\n",
    "\n",
    "    Returns:\n",
    "        extracted_data (list): A list of dictionaries containing the extracted entities\n",
    "    \"\"\"\n",
    "    extracted_data = []\n",
    "\n",
    "    for document in documents:\n",
    "        content = document.content\n",
    "        doc_id = document.id\n",
    "        named_entities = document.meta.get('named_entities', [])\n",
    "        \n",
    "        # Sets to store unique entities by type\n",
    "        entities_by_type = {\n",
    "            \"LOC\": set(),\n",
    "            \"PER\": set(),\n",
    "            \"ORG\": set()\n",
    "        }\n",
    "        \n",
    "        # Loop through the entities and filter by score and type\n",
    "        for entity in named_entities:\n",
    "            if float(entity.score) < 0.8 or entity.entity == \"MISC\":\n",
    "                continue\n",
    "            \n",
    "            word = content[entity.start:entity.end]\n",
    "            if entity.entity in entities_by_type:\n",
    "                entities_by_type[entity.entity].add(word)  # Use set to ensure uniqueness\n",
    "        \n",
    "        # Prepare the meta field with comma-separated values\n",
    "        meta = {\n",
    "            \"LOC\": \",\".join(entities_by_type[\"LOC\"]),\n",
    "            \"PER\": \",\".join(entities_by_type[\"PER\"]),\n",
    "            \"ORG\": \",\".join(entities_by_type[\"ORG\"])\n",
    "        }\n",
    "        \n",
    "        # Append the result for this document\n",
    "        extracted_data.append({\n",
    "            'document_id': doc_id,\n",
    "            'content': content,\n",
    "            'meta': meta\n",
    "        })\n",
    "    \n",
    "\n",
    "    return extracted_data"
   ]
  },
  {
   "cell_type": "markdown",
   "metadata": {},
   "source": [
    "### Initialize the Named Entity Extractor\n"
   ]
  },
  {
   "cell_type": "code",
   "execution_count": 16,
   "metadata": {},
   "outputs": [
    {
     "name": "stderr",
     "output_type": "stream",
     "text": [
      "Some weights of the model checkpoint at dslim/bert-base-NER were not used when initializing BertForTokenClassification: ['bert.pooler.dense.bias', 'bert.pooler.dense.weight']\n",
      "- This IS expected if you are initializing BertForTokenClassification from the checkpoint of a model trained on another task or with another architecture (e.g. initializing a BertForSequenceClassification model from a BertForPreTraining model).\n",
      "- This IS NOT expected if you are initializing BertForTokenClassification from the checkpoint of a model that you expect to be exactly identical (initializing a BertForSequenceClassification model from a BertForSequenceClassification model).\n"
     ]
    }
   ],
   "source": [
    "extractor = NamedEntityExtractor(backend=\"hugging_face\", model=\"dslim/bert-base-NER\")\n",
    "extractor.warm_up()"
   ]
  },
  {
   "cell_type": "markdown",
   "metadata": {},
   "source": [
    "## Read the data and apply the extractor"
   ]
  },
  {
   "cell_type": "code",
   "execution_count": null,
   "metadata": {},
   "outputs": [],
   "source": [
    "df = pd.read_csv(\"df_file.csv\")\n",
    "sample_docs = df['Text'].to_list()\n",
    "documents = [Document(id=str(i), content=sample_docs[i]) for i in range(len(sample_docs))]\n",
    "\n",
    "# Apply extractor to the documents\n",
    "extractor.run(documents)\n"
   ]
  },
  {
   "cell_type": "markdown",
   "metadata": {},
   "source": [
    "## Parse extracted entities and store "
   ]
  },
  {
   "cell_type": "code",
   "execution_count": null,
   "metadata": {},
   "outputs": [],
   "source": [
    "# Extract named entities from the documents\n",
    "extracted_documents = extract_named_entities_with_ids(documents)\n",
    "df = pd.DataFrame(extracted_documents)\n"
   ]
  },
  {
   "cell_type": "code",
   "execution_count": 59,
   "metadata": {},
   "outputs": [
    {
     "data": {
      "text/plain": [
       "{'document_id': '0',\n",
       " 'content': 'Budget to set scene for election\\n \\n Gordon Brown will seek to put the economy at the centre of Labour\\'s bid for a third term in power when he delivers his ninth Budget at 1230 GMT. He is expected to stress the importance of continued economic stability, with low unemployment and interest rates. The chancellor is expected to freeze petrol duty and raise the stamp duty threshold from Â£60,000. But the Conservatives and Lib Dems insist voters face higher taxes and more means-testing under Labour.\\n \\n Treasury officials have said there will not be a pre-election giveaway, but Mr Brown is thought to have about Â£2bn to spare.\\n \\n - Increase in the stamp duty threshold from Â£60,000 \\n  - A freeze on petrol duty \\n  - An extension of tax credit scheme for poorer families \\n  - Possible help for pensioners The stamp duty threshold rise is intended to help first time buyers - a likely theme of all three of the main parties\\' general election manifestos. Ten years ago, buyers had a much greater chance of avoiding stamp duty, with close to half a million properties, in England and Wales alone, selling for less than Â£60,000. Since then, average UK property prices have more than doubled while the starting threshold for stamp duty has not increased. Tax credits As a result, the number of properties incurring stamp duty has rocketed as has the government\\'s tax take. The Liberal Democrats unveiled their own proposals to raise the stamp duty threshold to Â£150,000 in February.\\n \\n The Tories are also thought likely to propose increased thresholds, with shadow chancellor Oliver Letwin branding stamp duty a \"classic Labour stealth tax\". The Tories say whatever the chancellor gives away will be clawed back in higher taxes if Labour is returned to power. Shadow Treasury chief secretary George Osborne said: \"Everyone who looks at the British economy at the moment says there has been a sharp deterioration in the public finances, that there is a black hole,\" he said. \"If Labour is elected there will be a very substantial tax increase in the Budget after the election, of the order of around Â£10bn.\"\\n \\n But Mr Brown\\'s former advisor Ed Balls, now a parliamentary hopeful, said an examination of Tory plans for the economy showed there would be a Â£35bn difference in investment by the end of the next parliament between the two main parties. He added: \"I don\\'t accept there is any need for any changes to the plans we have set out to meet our spending commitments.\"\\n \\n For the Lib Dems David Laws said: \"The chancellor will no doubt tell us today how wonderfully the economy is doing,\" he said. \"But a lot of that is built on an increase in personal and consumer debt over the last few years - that makes the economy quite vulnerable potentially if interest rates ever do have to go up in a significant way.\" SNP leader Alex Salmond said his party would introduce a Â£2,000 grant for first time buyers, reduce corporation tax and introduce a citizens pension free from means testing. Plaid Cymru\\'s economics spokesman Adam Price said he wanted help to get people on the housing ladder and an increase in the minimum wage to Â£5.60 an hour.\\n',\n",
       " 'meta': {'LOC': 'UK,England,Wales',\n",
       "  'PER': 'George Osborne,Ed,Oliver Letwin,Gordon Brown,Brown',\n",
       "  'ORG': 'Labour,Shadow Treasury,Treasury'}}"
      ]
     },
     "execution_count": 59,
     "metadata": {},
     "output_type": "execute_result"
    }
   ],
   "source": [
    "extracted_documents[0]"
   ]
  },
  {
   "cell_type": "code",
   "execution_count": 64,
   "metadata": {},
   "outputs": [],
   "source": [
    "df['content'] = df['content'].str.replace(\"\\n\",\" \")"
   ]
  },
  {
   "cell_type": "code",
   "execution_count": 65,
   "metadata": {},
   "outputs": [
    {
     "data": {
      "text/html": [
       "<div>\n",
       "<style scoped>\n",
       "    .dataframe tbody tr th:only-of-type {\n",
       "        vertical-align: middle;\n",
       "    }\n",
       "\n",
       "    .dataframe tbody tr th {\n",
       "        vertical-align: top;\n",
       "    }\n",
       "\n",
       "    .dataframe thead th {\n",
       "        text-align: right;\n",
       "    }\n",
       "</style>\n",
       "<table border=\"1\" class=\"dataframe\">\n",
       "  <thead>\n",
       "    <tr style=\"text-align: right;\">\n",
       "      <th></th>\n",
       "      <th>document_id</th>\n",
       "      <th>content</th>\n",
       "      <th>meta</th>\n",
       "    </tr>\n",
       "  </thead>\n",
       "  <tbody>\n",
       "    <tr>\n",
       "      <th>0</th>\n",
       "      <td>0</td>\n",
       "      <td>Budget to set scene for election    Gordon Bro...</td>\n",
       "      <td>{'LOC': 'UK,England,Wales', 'PER': 'George Osb...</td>\n",
       "    </tr>\n",
       "    <tr>\n",
       "      <th>1</th>\n",
       "      <td>1</td>\n",
       "      <td>Army chiefs in regiments decision    Military ...</td>\n",
       "      <td>{'LOC': 'Scotland,Iraq', 'PER': 'Eric,Joyce,Ge...</td>\n",
       "    </tr>\n",
       "    <tr>\n",
       "      <th>2</th>\n",
       "      <td>2</td>\n",
       "      <td>Howard denies split over ID cards    Michael H...</td>\n",
       "      <td>{'LOC': '', 'PER': 'Davis,Ye,Michael Howard,Ti...</td>\n",
       "    </tr>\n",
       "    <tr>\n",
       "      <th>3</th>\n",
       "      <td>3</td>\n",
       "      <td>Observers to monitor UK election    Ministers ...</td>\n",
       "      <td>{'LOC': 'Britain,UK,Northern Ireland', 'PER': ...</td>\n",
       "    </tr>\n",
       "    <tr>\n",
       "      <th>4</th>\n",
       "      <td>4</td>\n",
       "      <td>Kilroy names election seat target    Ex-chat s...</td>\n",
       "      <td>{'LOC': 'UK,Derbyshire,London,Erewash,Nottingh...</td>\n",
       "    </tr>\n",
       "  </tbody>\n",
       "</table>\n",
       "</div>"
      ],
      "text/plain": [
       "  document_id                                            content  \\\n",
       "0           0  Budget to set scene for election    Gordon Bro...   \n",
       "1           1  Army chiefs in regiments decision    Military ...   \n",
       "2           2  Howard denies split over ID cards    Michael H...   \n",
       "3           3  Observers to monitor UK election    Ministers ...   \n",
       "4           4  Kilroy names election seat target    Ex-chat s...   \n",
       "\n",
       "                                                meta  \n",
       "0  {'LOC': 'UK,England,Wales', 'PER': 'George Osb...  \n",
       "1  {'LOC': 'Scotland,Iraq', 'PER': 'Eric,Joyce,Ge...  \n",
       "2  {'LOC': '', 'PER': 'Davis,Ye,Michael Howard,Ti...  \n",
       "3  {'LOC': 'Britain,UK,Northern Ireland', 'PER': ...  \n",
       "4  {'LOC': 'UK,Derbyshire,London,Erewash,Nottingh...  "
      ]
     },
     "execution_count": 65,
     "metadata": {},
     "output_type": "execute_result"
    }
   ],
   "source": [
    "df.head()"
   ]
  },
  {
   "cell_type": "code",
   "execution_count": 68,
   "metadata": {},
   "outputs": [],
   "source": [
    "df.to_csv(\"ner_output.csv\", index=False)"
   ]
  },
  {
   "cell_type": "code",
   "execution_count": null,
   "metadata": {},
   "outputs": [],
   "source": []
  }
 ],
 "metadata": {
  "kernelspec": {
   "display_name": "NLP pipelines",
   "language": "python",
   "name": "venv"
  },
  "language_info": {
   "codemirror_mode": {
    "name": "ipython",
    "version": 3
   },
   "file_extension": ".py",
   "mimetype": "text/x-python",
   "name": "python",
   "nbconvert_exporter": "python",
   "pygments_lexer": "ipython3",
   "version": "3.12.4"
  }
 },
 "nbformat": 4,
 "nbformat_minor": 2
}
