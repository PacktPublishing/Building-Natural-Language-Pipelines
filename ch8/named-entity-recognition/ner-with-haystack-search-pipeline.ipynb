{
 "cells": [
  {
   "cell_type": "code",
   "execution_count": 13,
   "metadata": {},
   "outputs": [],
   "source": [
    "from haystack import Pipeline\n",
    "from haystack.components.preprocessors import DocumentCleaner\n",
    "from haystack.components.websearch import SerperDevWebSearch\n",
    "from haystack.components.fetchers import LinkContentFetcher\n",
    "from haystack.components.converters import HTMLToDocument\n",
    "from haystack.components.writers import DocumentWriter\n",
    "from haystack import Pipeline\n",
    "from haystack.components.extractors import NamedEntityExtractor\n",
    "from haystack import component, Document\n",
    "from typing import Any, Dict, List, Union\n",
    "\n",
    "from dotenv import load_dotenv\n",
    "import os\n",
    "\n",
    "load_dotenv(\".env\")\n",
    "open_ai_key = os.getenv(\"OPENAI_API_KEY\")\n",
    "serper_api_key = os.getenv(\"SERPERDEV_API_KEY\")\n"
   ]
  },
  {
   "cell_type": "code",
   "execution_count": null,
   "metadata": {},
   "outputs": [],
   "source": [
    "@component\n",
    "class NERPopulator():\n",
    "    \"\"\"This function extracts named entities from a list of\n",
    "    documents and returns the result in a structured format.\n",
    "\n",
    "    Args:\n",
    "        documents (list): List of Haystack Document objects\n",
    "\n",
    "    Returns:\n",
    "        extracted_data (list): A list of dictionaries containing the extracted entities, \n",
    "        to make it Haystack-compatible we will return this list as a dictionary with the key 'documents'\n",
    "    \"\"\"\n",
    "    \n",
    "    @component.output_types(documents=List[Document])\n",
    "    def run(self, sources: List[Document]) -> None:\n",
    "        extracted_data = []\n",
    "\n",
    "        for document in sources:\n",
    "            content = document.content\n",
    "            doc_id = document.id\n",
    "            named_entities = document.meta.get('named_entities', [])\n",
    "            url = document.meta.get('url', 'N/A')  # Default to 'N/A' if URL is not available\n",
    "\n",
    "            # Sets to store unique entities by type\n",
    "            entities_by_type = {\n",
    "                \"LOC\": set(),\n",
    "                \"PER\": set(),\n",
    "                \"ORG\": set(),\n",
    "                \"MISC\": set()\n",
    "            }\n",
    "            \n",
    "            # Loop through the entities and filter by score and type\n",
    "            for entity in named_entities:\n",
    "                if float(entity.score) < 0.8:\n",
    "                    continue\n",
    "                \n",
    "                word = content[entity.start:entity.end]\n",
    "                if entity.entity in entities_by_type:\n",
    "                    entities_by_type[entity.entity].add(word)  # Use set to ensure uniqueness\n",
    "            \n",
    "            # Prepare the meta field with comma-separated values\n",
    "            meta = {\n",
    "                \"LOC\": \",\".join(entities_by_type[\"LOC\"]),\n",
    "                \"PER\": \",\".join(entities_by_type[\"PER\"]),\n",
    "                \"ORG\": \",\".join(entities_by_type[\"ORG\"]),\n",
    "                \"MISC\": \",\".join(entities_by_type[\"MISC\"]),\n",
    "                \"url\": url\n",
    "            }\n",
    "            \n",
    "            # Append the result for this document\n",
    "            extracted_data.append({\n",
    "                'document_id': doc_id,\n",
    "                'content': content,\n",
    "                'meta': meta\n",
    "            })\n",
    "        \n",
    "\n",
    "        return {\"documents\": extracted_data}\n"
   ]
  },
  {
   "cell_type": "code",
   "execution_count": 43,
   "metadata": {},
   "outputs": [
    {
     "name": "stderr",
     "output_type": "stream",
     "text": [
      "Some weights of the model checkpoint at dslim/bert-base-NER were not used when initializing BertForTokenClassification: ['bert.pooler.dense.bias', 'bert.pooler.dense.weight']\n",
      "- This IS expected if you are initializing BertForTokenClassification from the checkpoint of a model trained on another task or with another architecture (e.g. initializing a BertForSequenceClassification model from a BertForPreTraining model).\n",
      "- This IS NOT expected if you are initializing BertForTokenClassification from the checkpoint of a model that you expect to be exactly identical (initializing a BertForSequenceClassification model from a BertForSequenceClassification model).\n"
     ]
    },
    {
     "data": {
      "text/plain": [
       "<haystack.core.pipeline.pipeline.Pipeline object at 0x33a2bb110>\n",
       "🚅 Components\n",
       "  - search: SerperDevWebSearch\n",
       "  - fetcher: LinkContentFetcher\n",
       "  - htmldocument: HTMLToDocument\n",
       "  - cleaner: DocumentCleaner\n",
       "  - extractor: NamedEntityExtractor\n",
       "  - ner: NERPopulator\n",
       "🛤️ Connections\n",
       "  - search.links -> fetcher.urls (List[str])\n",
       "  - fetcher.streams -> htmldocument.sources (List[ByteStream])\n",
       "  - htmldocument.documents -> cleaner.documents (List[Document])\n",
       "  - cleaner.documents -> extractor.documents (List[Document])\n",
       "  - extractor.documents -> ner.sources (List[Document])"
      ]
     },
     "execution_count": 43,
     "metadata": {},
     "output_type": "execute_result"
    }
   ],
   "source": [
    "\n",
    "# Initialize pipeline\n",
    "pipeline = Pipeline()\n",
    "web_search = SerperDevWebSearch(top_k=5,\n",
    "                                allowed_domains=[\"https://www.britannica.com/\"])\n",
    "link_content = LinkContentFetcher(retry_attempts=3,\n",
    "                                  timeout=10)\n",
    "html_to_doc = HTMLToDocument()\n",
    "document_cleaner = DocumentCleaner(\n",
    "                                remove_empty_lines=True,\n",
    "                                remove_extra_whitespaces=True,\n",
    "                                remove_repeated_substrings=False,\n",
    "                                remove_substrings=['\\n-']\n",
    "                            )\n",
    "extractor = NamedEntityExtractor(backend=\"hugging_face\", model=\"dslim/bert-base-NER\")\n",
    "extractor.warm_up()\n",
    "\n",
    "ner_component = NERPopulator()\n",
    "\n",
    "# Add components\n",
    "pipeline.add_component(name='search', instance=web_search)\n",
    "pipeline.add_component(name ='fetcher' , instance= link_content)\n",
    "pipeline.add_component(name='htmldocument', instance=html_to_doc)\n",
    "pipeline.add_component(name='cleaner', instance=document_cleaner)\n",
    "pipeline.add_component(name='extractor', instance=extractor)\n",
    "pipeline.add_component(name='ner', instance=ner_component)\n",
    "\n",
    "# Connect components to one another\n",
    "pipeline.connect(\"search.links\", \"fetcher.urls\")\n",
    "pipeline.connect(\"fetcher\", \"htmldocument\")\n",
    "pipeline.connect(\"htmldocument\", \"cleaner\")\n",
    "pipeline.connect(\"cleaner\", \"extractor\")\n",
    "pipeline.connect(\"extractor\", \"ner\")\n"
   ]
  },
  {
   "cell_type": "code",
   "execution_count": 44,
   "metadata": {},
   "outputs": [],
   "source": [
    "query = \"Elon Musk\"\n",
    "output = pipeline.run(data={\"search\":{\"query\":query}})"
   ]
  },
  {
   "cell_type": "code",
   "execution_count": 45,
   "metadata": {},
   "outputs": [],
   "source": [
    "extracted_documents = output['ner']['documents']"
   ]
  },
  {
   "cell_type": "code",
   "execution_count": 46,
   "metadata": {},
   "outputs": [
    {
     "data": {
      "text/plain": [
       "[{'document_id': '98b3d89f61ff370a43e5ba5c19c1de3522851ded6feed61c513645ccfdc3a806',\n",
       "  'content': 'Elon Musk cofounded the electronic payment firm PayPal, and in 2002 he founded SpaceX, a company that makes rockets and spacecraft. He was a major early funder of Tesla, which makes electric cars and batteries, and became its chief executive officer in 2008. He cofounded Neuralink, a neurotechnology company, in 2016. Musk purchased the social media service Twitter in 2022 and renamed it X in 2023.\\nDiscover',\n",
       "  'meta': {'LOC': '',\n",
       "   'PER': '',\n",
       "   'ORG': 'X,Neuralink,PayPal,Elon Musk,SpaceX,Tesla,Twitter',\n",
       "   'MISC': '',\n",
       "   'url': 'https://www.britannica.com/question/What-did-Elon-Musk-accomplish'}},\n",
       " {'document_id': '1db89fda1c1c46e3c66e85aefd8e4d29c8c10d3e3c9e114a273462c8214eef0a',\n",
       "  'content': \"SpaceX In full: Space Exploration Technologies Corporation Date: 2002 - present Areas Of Involvement: aerospace industry Related People: Elon Musk\\nWhat is SpaceX?\\nWhere is SpaceX located?\\nWhat was SpaceX's first rocket?\\nWhy was SpaceX created?\\nIs SpaceX a public company?\\nNews •\\nSpaceX, American aerospace company founded in 2002 that helped usher in the era of commercial spaceflight. It was the first private company to successfully launch and return a spacecraft from Earth orbit and the first to launch a crewed spacecraft and dock it with the International Space Station (ISS). Headquarters are in Hawthorne, California.\\nSpaceX was formed by entrepreneur Elon Musk in the hopes of revolutionizing the aerospace industry and making affordable spaceflight a reality. The company entered the arena with the Falcon 1 rocket, a two-stage liquid-fueled craft designed to send small satellites into orbit. The Falcon 1 was vastly cheaper to build and operate than its competitors, a field largely populated by spacecraft built by publicly owned and government-funded companies such as Lockheed Martin and Boeing. Part of the rocket’s cost-effectiveness was made possible by the SpaceX-developed Merlin engine, a cheaper alternative to those used by other companies. SpaceX also focused on making reusable rockets (other launch vehicles are generally made for one-time use).\\nIn March 2006 SpaceX made its first Falcon 1 launch, which began successfully but ended prematurely because of a fuel leak and fire. By this time, however, the company had already earned millions of dollars in launching orders, many of them from the U.S. government. In August of that year SpaceX was a winner of a NASA competition for funds to build and demonstrate spacecraft that could potentially service the ISS after the decommissioning of the space shuttle. Falcon 1 launches that failed to attain Earth orbit followed in March 2007 and August 2008, but in September 2008 SpaceX became the first privately owned company to send a liquid-fueled rocket into orbit. Three months later it won a NASA contract for servicing the ISS that was worth more than $1 billion.\\nIn 2010 SpaceX first launched its Falcon 9, a bigger craft so named for its use of nine engines, and the following year it broke ground on a launch site for the Falcon Heavy, a craft the company hoped would be the first to break the $1,000-per-pound-to-orbit cost barrier and that might one day be used to transport astronauts into deep space. In December 2010 the company reached another milestone, becoming the first commercial company to release a spacecraft—the Dragon capsule—into orbit and successfully return it to Earth. Dragon again made history on May 25, 2012, when it became the first commercial spacecraft to dock with the ISS, to which it successfully delivered cargo. In August that year, SpaceX announced that it had won a contract from NASA to develop a successor to the space shuttle that would transport astronauts into space.\\nThe Falcon 9 was designed so that its first stage could be reused. In 2015 a Falcon 9 first stage successfully returned to Earth near its launch site. Beginning in 2016, SpaceX also began using drone ships for rocket stage landings. A rocket stage that had returned to Earth was successfully reused in a 2017 launch. That same year, a Dragon capsule was reused on a flight to the ISS. The Falcon Heavy rocket had its first test flight in 2018. Two of the three first stages landed successfully; the third hit the water near the drone ship. That Falcon Heavy did not carry a satellite but instead placed into orbit around the Sun a Tesla Roadster with a mannequin in a space suit buckled into the driver’s seat. The first operational flight of the Falcon Heavy launched on April 11, 2019.\\nIn 2019 SpaceX began launching satellites for its Starlink megaconstellation, which provides satellite Internet service. About 50 Starlink satellites are launched at a time on a Falcon 9 flight. As of 2023, Starlink had 3,660 active satellites, half of all active satellites in orbit. A further 7,500 satellites have been approved by the U.S. Federal Communications Commission, and SpaceX ultimately seeks to have 29,988 satellites orbiting between 340 and 614 km (211 and 381 miles) above Earth.\\nThe first crewed flight of a Dragon capsule to the ISS launched on May 30, 2020, with astronauts Doug Hurley and Robert Behnken. SpaceX also announced the successor to the Falcon 9 and the Falcon Heavy: the Super Heavy–Starship system (originally called the BFR [Big Falcon Rocket]). The Super Heavy first stage would be capable of lifting 100,000 kg (220,000 pounds) to low Earth orbit. The payload would be the Starship, a spacecraft designed for several purposes, including providing fast transportation between cities on Earth and building bases on the Moon and Mars. SpaceX planned to use the Starship for a flight around the Moon carrying Japanese businessman Maezawa Yusaku and several artists in 2023, for flights to land astronauts on the Moon as part of NASA’s Artemis program, and eventually to launch settlers to Mars.\",\n",
       "  'meta': {'LOC': 'Hawthorne,Earth,U.S.,California',\n",
       "   'PER': 'on Musk',\n",
       "   'ORG': 'Lockheed Martin,IS,Boeing,SpaceX,NASA,Space Exploration Technologies Corporation,El',\n",
       "   'MISC': 'Merlin,American,Earth,SpaceX,Falcon 1',\n",
       "   'url': 'https://www.britannica.com/topic/SpaceX'}},\n",
       " {'document_id': 'bf226b982f01f238d32d66213fb8628104153b23b832bf3ed7714021c627304f',\n",
       "  'content': 'SpaceX, in full Space Exploration Technologies Corporation, American aerospace company founded in 2002 that helped usher in the era of commercial spaceflight. It was the first private company to successfully launch and return a spacecraft from Earth orbit and the first to dock a spacecraft with the International Space Station (ISS). Headquarters are in Hawthorne, California.\\nSpaceX was formed by entrepreneur Elon Musk in the hopes of revolutionizing the aerospace industry and making affordable spaceflight a reality. The company entered the arena with the Falcon 1 rocket, a two-stage liquid-fueled craft designed to send small satellites into orbit. The Falcon 1 was vastly cheaper to build and operate than its competitors, a field largely populated by spacecraft built by publicly owned and government-funded companies such as Lockheed Martin and Boeing. Part of the rocket’s cost-effectiveness was made possible by the SpaceX-developed Merlin engine, a cheaper alternative to those used by other companies. SpaceX also focused on making reusable rockets (other launch vehicles are generally made for one-time use).\\nIn March 2006 SpaceX made its first Falcon 1 launch, which began successfully but ended prematurely because of a fuel leak and fire. By this time, however, the company had already earned millions of dollars in launching orders, many of them from the U.S. government. In August of that year SpaceX was a winner of a NASA competition for funds to build and demonstrate spacecraft that could potentially service the ISS after the decommissioning of the space shuttle. Falcon 1 launches that failed to attain Earth orbit followed in March 2007 and August 2008, but in September 2008 SpaceX became the first privately owned company to send a liquid-fueled rocket into orbit. Three months later it won a NASA contract for servicing the ISS that was worth more than $1 billion.\\nIn 2010 SpaceX first launched its Falcon 9, a bigger craft so named for its use of nine engines, and the following year it broke ground on a launch site for the Falcon Heavy, a craft the company hoped would be the first to break the $1,000-per-pound-to-orbit cost barrier and that might one day be used to transport astronauts into deep space. In December 2010 the company reached another milestone, becoming the first commercial company to release a spacecraft—the Dragon capsule—into orbit and successfully return it to Earth. Dragon again made history on May 25, 2012, when it became the first commercial spacecraft to dock with the ISS, to which it successfully delivered cargo. In August that year, SpaceX announced that it had won a contract from NASA to develop a successor to the space shuttle that would transport astronauts into space.\\nSee related article: Space Tourism\\nThe Falcon 9 was designed so that its first stage could be reused. In 2015 a Falcon 9 first stage successfully returned to Earth near its launch site. Beginning in 2016, SpaceX also began using drone ships for rocket stage landings. A rocket stage that had returned to Earth was successfully reused in a 2017 launch. That same year, a Dragon capsule was reused on a flight to the ISS. The Falcon Heavy rocket had its first test flight in 2018. Two of the three first stages landed successfully; the third hit the water near the drone ship. That Falcon Heavy did not carry a satellite but instead placed into orbit around the Sun a Tesla Roadster with a mannequin in a space suit buckled into the driver’s seat.\\nThe first crewed flight of a Dragon capsule to the ISS was scheduled for 2019. SpaceX also announced the successor to the Falcon 9 and the Falcon Heavy: the Super Heavy–Starship system (originally called the BFR [Big Falcon Rocket]). The Super Heavy first stage would be capable of lifting 100,000 kg (220,000 pounds) to low Earth orbit. The payload would be the Starship, a spacecraft designed for several purposes, including providing fast transportation between cities on Earth and building bases on the Moon and Mars. SpaceX planned to use the Starship for a flight around the Moon carrying Japanese businessman Maezawa Yusaku and several artists in 2023 and to launch settlers to Mars in the mid-2020s.\\nWritten by Alison Eldridge, Digital Content Manager at Encyclopaedia Britannica, and The Editors of Encyclopaedia Britannica.\\nTop Image Credit: NASA',\n",
       "  'meta': {'LOC': 'Hawthorne,Earth,U.S.,California',\n",
       "   'PER': 'on Musk',\n",
       "   'ORG': 'Lockheed Martin,Falcon,Boeing,SpaceX,NASA,Space Exploration Technologies Corporation,El',\n",
       "   'MISC': 'Merlin,Falcon,American,SpaceX,Falcon 1,ISS',\n",
       "   'url': 'https://www.britannica.com/explore/space/spacex/'}},\n",
       " {'document_id': 'ae773eb9d70c2c5a7a244895bec15745cefdeef14ef3ff3eff0fe0c310e7ee8f',\n",
       "  'content': 'Falcon Heavy\\nLearn about this topic in these articles:\\nFalcon launch vehicles\\nlaunch vehicles In launch vehicle: United States\\nvehicles—Falcon 1, Falcon 9, and Falcon Heavy—built by the U.S. corporation SpaceX with funding from South African-born American entrepreneur Elon Musk. Falcon 1 could place a 1,010-kg (2,227-pound) payload into orbit at a lower cost than other launch vehicles could partly because Falcon 1 uses a recoverable first stage. Falcon…\\nRead More\\nMusk In Elon Musk: PayPal and SpaceX\\nA third rocket, the Falcon Heavy (first launched in 2018), was designed to carry 117,000 pounds (53,000 kg) to orbit, nearly twice as much as its largest competitor, the Boeing Company’s Delta IV Heavy, for one-third the cost. SpaceX has announced the successor to the Falcon 9 and the…\\nRead More\\nSpaceX In SpaceX\\n…a launch site for the Falcon Heavy, a craft the company hoped would be the first to break the \\\\$1,000-per-pound-to-orbit cost barrier and that might one day be used to transport astronauts into deep space. In December 2010 the company reached another milestone, becoming the first commercial company to release…\\nRead More',\n",
       "  'meta': {'LOC': 'U.S,United States',\n",
       "   'PER': '',\n",
       "   'ORG': 'PayPal,Boeing Company,Falcon,SpaceX,Falcon Heavy,sk,El',\n",
       "   'MISC': 'Delta IV Heavy,American,South African,Falcon 1,Falcon 9',\n",
       "   'url': 'https://www.britannica.com/topic/Falcon-Heavy'}},\n",
       " {'document_id': '8532677167dc67f0e2c6ba7ed206c89cda5c6b3dde3ea10aeb0624b6d96bfb6a',\n",
       "  'content': 'Falcon Related Topics: launch vehicle Falcon Heavy Falcon 9 Falcon 1\\nFalcon, privately developed family of three launch vehicles—Falcon 1, Falcon 9, and Falcon Heavy—built by the U.S. corporation SpaceX with funding from South African-born American entrepreneur Elon Musk.\\nFalcon 1 could place a 1,010-kg (2,227-pound) payload into orbit at lower cost than other launch vehicles. Falcon 9 was designed to compete with the Delta family of launchers in that it can lift payloads of up to 8,300 kg (18,300 pounds) to geostationary orbit. One payload it launched to low Earth orbit is Dragon, a spacecraft designed to carry crew and cargo to the International Space Station (ISS). Falcon Heavy has the first stages of three Falcon 9 launch vehicles joined together as its first stage and is designed to carry 53,000 kg (117,000 pounds) to orbit, nearly twice that of its largest competitor, the Boeing Company’s Delta IV Heavy.\\nThe first test flight of Falcon 1 took place on March 24, 2006, on Kwajalein Atoll in the Pacific Ocean but failed just 25 seconds after liftoff. Corrosion between a nut and a fuel line had allowed the line to leak, which caused an engine fire. Later in 2006, SpaceX won a $278 million contract from the National Aeronautics and Space Administration (NASA) for three demonstration launches of the company’s Dragon spacecraft and Falcon 9. Two subsequent tests of Falcon 1 ended in failure, but on September 28, 2008, Falcon 1 successfully entered Earth orbit. Falcon 1 made one more flight in 2009 and was retired in favour of Falcon 9.\\nThe first test flight of Falcon 9 was on June 4, 2010, from Cape Canaveral, Florida, and the first resupply mission to the ISS was made on October 7, 2012. In 2014 tests began on a reusable first stage for the Falcon 9 that would land on a floating platform. On December 21, 2015, a Falcon 9 launched a payload into orbit, and its first stage made a landing at Cape Canaveral. The first Falcon 9 first-stage ship landing happened on April 8, 2016, and SpaceX did its first relaunch of a previously flown Falcon 9 first stage on March 30, 2017. The first Falcon Heavy test flight occurred on February 6, 2018. The central core stage was not recovered, but the two side boosters successfully returned to Cape Canaveral. The payload, a Tesla Roadster with a SpaceX space suit buckled into the driver’s seat, was placed into orbit around the Sun. The first operational flight of Falcon Heavy launched on April 11, 2019. A Falcon 9 launched the first private crewed spacecraft, a Dragon carrying astronauts Doug Hurley and Robert Behnken, to the ISS on May 30, 2020.\\nFalcon 9 and Falcon Heavy will be replaced in the 2020s by the Super Heavy–Starship system. The Super Heavy first stage will be capable of lifting 100,000 kg (220,000 pounds) to low Earth orbit. The payload will be Starship, a spacecraft designed for several purposes, including providing fast transportation between cities on Earth and building bases on the Moon and Mars. SpaceX planned to use the Starship for a flight around the Moon carrying Japanese businessman Maezawa Yusaku and several artists in 2023, for flights to land astronauts on the Moon as part of NASA’s Artemis program, and eventually to launch settlers to Mars.',\n",
       "  'meta': {'LOC': 'Florida,Kwajalein Atoll,S,Cape Canaveral,U.S,Pacific Ocean',\n",
       "   'PER': '',\n",
       "   'ORG': 'Elon Musk,Boeing Company,Dragon,Falcon,SpaceX,Falcon Heavy,NASA,National Aeronautics and Space Administration',\n",
       "   'MISC': 'South African,American,Falcon 1,Falcon 9',\n",
       "   'url': 'https://www.britannica.com/technology/Falcon-launch-vehicle'}}]"
      ]
     },
     "execution_count": 46,
     "metadata": {},
     "output_type": "execute_result"
    }
   ],
   "source": [
    "extracted_documents"
   ]
  },
  {
   "cell_type": "code",
   "execution_count": null,
   "metadata": {},
   "outputs": [],
   "source": []
  }
 ],
 "metadata": {
  "kernelspec": {
   "display_name": "NLP pipelines",
   "language": "python",
   "name": "venv"
  },
  "language_info": {
   "codemirror_mode": {
    "name": "ipython",
    "version": 3
   },
   "file_extension": ".py",
   "mimetype": "text/x-python",
   "name": "python",
   "nbconvert_exporter": "python",
   "pygments_lexer": "ipython3",
   "version": "3.12.4"
  }
 },
 "nbformat": 4,
 "nbformat_minor": 2
}
