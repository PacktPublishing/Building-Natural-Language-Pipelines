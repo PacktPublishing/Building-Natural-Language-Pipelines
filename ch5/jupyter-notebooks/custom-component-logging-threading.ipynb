{
 "cells": [
  {
   "cell_type": "markdown",
   "metadata": {},
   "source": [
    "## Creating custom components that incorporate threading and logging\n",
    "\n",
    "To create a custom component in Haystack that adheres to the requirements for custom components and incorporates global state management, let's design a SessionTracker component. This component will track user sessions and demonstrate thread safety and state hygiene. The SessionTracker will use a class-level dictionary to store session data, ensuring thread-safe operations with a lock and providing a method to clean outdated session information.\n",
    "\n",
    "Step 1: Import Required Libraries"
   ]
  },
  {
   "cell_type": "code",
   "execution_count": 3,
   "metadata": {},
   "outputs": [],
   "source": [
    "from haystack import component\n",
    "import logging\n",
    "from threading import Lock\n",
    "\n",
    "# Initialize logging for debugging and operational insight\n",
    "logging.basicConfig(level=logging.INFO)\n",
    "logger = logging.getLogger(__name__)\n"
   ]
  },
  {
   "cell_type": "markdown",
   "metadata": {},
   "source": [
    "Step 2: Define the SessionTracker Component\n",
    "This component will manage user sessions, including creating new sessions and updating existing ones. It will use a class-level dictionary to store session states and a lock to ensure thread-safe modifications."
   ]
  },
  {
   "cell_type": "code",
   "execution_count": 4,
   "metadata": {},
   "outputs": [],
   "source": [
    "@component\n",
    "class SessionTracker():\n",
    "    _sessions = {}  # Class-level dictionary to store session data\n",
    "    _lock = Lock()  # Lock for thread-safe operations on _sessions\n",
    "\n",
    "    @component.output_types(session_data=str, status=str)\n",
    "    def run(self, user_id: str, action: str) -> dict:\n",
    "        \"\"\"\n",
    "        Updates or initializes the session state for a given user based on the action performed.\n",
    "        \"\"\"\n",
    "        with SessionTracker._lock:\n",
    "            if user_id not in SessionTracker._sessions:\n",
    "                # Initialize session if not existing\n",
    "                SessionTracker._sessions[user_id] = \"Session started\"\n",
    "                logger.info(f\"Session started for user: {user_id}\")\n",
    "            else:\n",
    "                # Update session based on action\n",
    "                SessionTracker._sessions[user_id] += f\", {action}\"\n",
    "                logger.info(f\"Session updated for user: {user_id} with action: {action}\")\n",
    "\n",
    "            return {\n",
    "                \"session_data\": SessionTracker._sessions[user_id],\n",
    "                \"status\": \"success\"\n",
    "            }\n",
    "\n",
    "    @classmethod\n",
    "    def clean_sessions(cls):\n",
    "        \"\"\"\n",
    "        Cleans up outdated or inactive session data to maintain state hygiene.\n",
    "        \"\"\"\n",
    "        with cls._lock:\n",
    "            # This is a placeholder for actual logic to identify and clean outdated sessions\n",
    "            cls._sessions.clear()\n",
    "            logger.info(\"All sessions cleared.\")\n"
   ]
  },
  {
   "cell_type": "markdown",
   "metadata": {},
   "source": [
    "Step 3: Implementing and Using the Component\n",
    "This component can be integrated into a Haystack pipeline to track user sessions dynamically. Below is an example of how you might use the SessionTracker in a standalone manner, demonstrating starting sessions and performing actions."
   ]
  },
  {
   "cell_type": "code",
   "execution_count": 5,
   "metadata": {},
   "outputs": [
    {
     "name": "stderr",
     "output_type": "stream",
     "text": [
      "INFO:__main__:Session started for user: user1\n",
      "INFO:__main__:Action: login, Result: {'session_data': 'Session started', 'status': 'success'}\n",
      "INFO:__main__:Session updated for user: user1 with action: search\n",
      "INFO:__main__:Action: search, Result: {'session_data': 'Session started, search', 'status': 'success'}\n",
      "INFO:__main__:Session updated for user: user1 with action: logout\n",
      "INFO:__main__:Action: logout, Result: {'session_data': 'Session started, search, logout', 'status': 'success'}\n",
      "INFO:__main__:Session started for user: user2\n",
      "INFO:__main__:Action: login, Result: {'session_data': 'Session started', 'status': 'success'}\n",
      "INFO:__main__:Session updated for user: user2 with action: search\n",
      "INFO:__main__:Action: search, Result: {'session_data': 'Session started, search', 'status': 'success'}\n",
      "INFO:__main__:Session updated for user: user2 with action: logout\n",
      "INFO:__main__:Action: logout, Result: {'session_data': 'Session started, search, logout', 'status': 'success'}\n",
      "INFO:__main__:All sessions cleared.\n"
     ]
    }
   ],
   "source": [
    "if __name__ == \"__main__\":\n",
    "    session_tracker = SessionTracker()\n",
    "\n",
    "    # Simulate starting a session and performing actions for users\n",
    "    users = [\"user1\", \"user2\"]\n",
    "    actions = [\"login\", \"search\", \"logout\"]\n",
    "    \n",
    "    for user in users:\n",
    "        for action in actions:\n",
    "            result = session_tracker.run(user_id=user, action=action)\n",
    "            logger.info(f\"Action: {action}, Result: {result}\")\n",
    "\n",
    "    # Clean sessions periodically or based on specific triggers\n",
    "    SessionTracker.clean_sessions()\n"
   ]
  },
  {
   "cell_type": "code",
   "execution_count": null,
   "metadata": {},
   "outputs": [],
   "source": []
  }
 ],
 "metadata": {
  "kernelspec": {
   "display_name": "llm-pipelines",
   "language": "python",
   "name": "python3"
  },
  "language_info": {
   "codemirror_mode": {
    "name": "ipython",
    "version": 3
   },
   "file_extension": ".py",
   "mimetype": "text/x-python",
   "name": "python",
   "nbconvert_exporter": "python",
   "pygments_lexer": "ipython3",
   "version": "3.10.0"
  }
 },
 "nbformat": 4,
 "nbformat_minor": 2
}
