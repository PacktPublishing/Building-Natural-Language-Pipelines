{
 "cells": [
  {
   "cell_type": "markdown",
   "id": "20afb80e",
   "metadata": {},
   "source": [
    "🔧 **Setup Required**: Before running this notebook, please follow the [setup instructions](../README.md#setup-instructions) to configure your environment and API keys."
   ]
  },
  {
   "cell_type": "markdown",
   "id": "86d0d577",
   "metadata": {},
   "source": [
    "# PDF Knowledge Graph and Synthetic Data Generation Pipeline\n",
    "\n",
    "This notebook demonstrates how to build a comprehensive pipeline for PDF document processing that:\n",
    "1. **Extracts content** from PDF files using Haystack's PyPDFToDocument converter\n",
    "2. **Preprocesses the text** with cleaning and splitting components\n",
    "3. **Creates a knowledge graph** from the processed documents\n",
    "4. **Generates synthetic test data** using the knowledge graph\n",
    "\n",
    "## Learning Objectives\n",
    "\n",
    "By the end of this notebook, you will understand:\n",
    "- How to build end-to-end Haystack pipelines for PDF processing\n",
    "- The relationship between knowledge graphs and synthetic test data generation\n",
    "- Best practices for PDF document preprocessing\n",
    "- How to evaluate synthetic datasets generated from PDF content\n",
    "\n",
    "## Key Components\n",
    "- **PyPDFToDocument**: Converts PDF files to Haystack Document objects\n",
    "- **DocumentCleaner**: Removes extra whitespaces and empty lines\n",
    "- **DocumentSplitter**: Breaks documents into manageable chunks\n",
    "- **KnowledgeGraphGenerator**: Creates structured knowledge representations\n",
    "- **SyntheticTestGenerator**: Produces question-answer pairs for evaluation\n",
    "\n",
    "## Why This Approach?\n",
    "Using knowledge graphs as an intermediate step improves the quality of synthetic test generation because:\n",
    "- Knowledge graphs capture relationships between entities\n",
    "- They provide structured context for question generation\n",
    "- The resulting questions are more coherent and factually grounded"
   ]
  },
  {
   "cell_type": "code",
   "execution_count": 2,
   "id": "2b77acac",
   "metadata": {},
   "outputs": [
    {
     "data": {
      "text/plain": [
       "<haystack.core.pipeline.pipeline.Pipeline object at 0x300728f50>\n",
       "🚅 Components\n",
       "  - pdf_converter: PyPDFToDocument\n",
       "  - doc_cleaner: DocumentCleaner\n",
       "  - doc_splitter: DocumentSplitter\n",
       "  - doc_converter: DocumentToLangChainConverter\n",
       "  - kg_generator: KnowledgeGraphGenerator\n",
       "  - test_generator: SyntheticTestGenerator\n",
       "  - test_saver: TestDatasetSaver\n",
       "🛤️ Connections\n",
       "  - pdf_converter.documents -> doc_cleaner.documents (list[Document])\n",
       "  - doc_cleaner.documents -> doc_splitter.documents (list[Document])\n",
       "  - doc_splitter.documents -> doc_converter.documents (list[Document])\n",
       "  - doc_converter.langchain_documents -> kg_generator.documents (List[Document])\n",
       "  - doc_converter.langchain_documents -> test_generator.documents (List[Document])\n",
       "  - kg_generator.knowledge_graph -> test_generator.knowledge_graph (KnowledgeGraph)\n",
       "  - test_generator.testset -> test_saver.testset (DataFrame)"
      ]
     },
     "execution_count": 2,
     "metadata": {},
     "output_type": "execute_result"
    }
   ],
   "source": [
    "import os\n",
    "from dotenv import load_dotenv\n",
    "from haystack import Pipeline\n",
    "from haystack.components.converters import PyPDFToDocument\n",
    "from haystack.components.preprocessors import (\n",
    "    DocumentCleaner,\n",
    "    DocumentSplitter)\n",
    "from pathlib import Path\n",
    "from scripts.knowledge_graph_component import KnowledgeGraphGenerator,\\\n",
    "                                                DocumentToLangChainConverter\n",
    "from scripts.synthetic_test_components import SyntheticTestGenerator,\\\n",
    "                                                TestDatasetSaver\n",
    "                                                    \n",
    "# Load environment variables\n",
    "load_dotenv(\"./.env\")\n",
    "\n",
    "        \n",
    "# Create pipeline components\n",
    "pdf_converter = PyPDFToDocument()\n",
    "doc_cleaner = DocumentCleaner(remove_empty_lines=True,\n",
    "                                remove_extra_whitespaces=True)\n",
    "doc_splitter = DocumentSplitter(split_by=\"sentence\",\n",
    "                                split_length=50,\n",
    "                                split_overlap=5)\n",
    "doc_converter = DocumentToLangChainConverter()\n",
    "kg_generator = KnowledgeGraphGenerator(apply_transforms=True)\n",
    "\n",
    "\n",
    "test_generator = SyntheticTestGenerator(\n",
    "    testset_size=10,  \n",
    "    llm_model=\"gpt-4o-mini\",\n",
    "    query_distribution=[\n",
    "        (\"single_hop\", 0.25), \n",
    "        (\"multi_hop_specific\", 0.25),\n",
    "        (\"multi_hop_abstract\", 0.5)\n",
    "    ],\n",
    "    # Optional: Add max_testset_size=5 if you want to limit due to API constraints\n",
    "    # max_testset_size=5  # Uncomment this line if you experience API timeouts\n",
    ")\n",
    "test_saver = TestDatasetSaver(\"data_for_eval/synthetic_tests_10_from_pdf.csv\")\n",
    "\n",
    "# Create pipeline\n",
    "pipeline = Pipeline()\n",
    "pipeline.add_component(\"pdf_converter\", pdf_converter)\n",
    "pipeline.add_component(\"doc_cleaner\", doc_cleaner)\n",
    "pipeline.add_component(\"doc_splitter\", doc_splitter)\n",
    "pipeline.add_component(\"doc_converter\", doc_converter)\n",
    "pipeline.add_component(\"kg_generator\", kg_generator)\n",
    "pipeline.add_component(\"test_generator\", test_generator)\n",
    "pipeline.add_component(\"test_saver\", test_saver)\n",
    "\n",
    "# Connect components in sequence\n",
    "pipeline.connect(\"pdf_converter.documents\", \"doc_cleaner.documents\")\n",
    "pipeline.connect(\"doc_cleaner.documents\", \"doc_splitter.documents\")\n",
    "pipeline.connect(\"doc_splitter.documents\", \"doc_converter.documents\")\n",
    "pipeline.connect(\"doc_converter.langchain_documents\", \"kg_generator.documents\")\n",
    "pipeline.connect(\"kg_generator.knowledge_graph\", \"test_generator.knowledge_graph\")\n",
    "pipeline.connect(\"doc_converter.langchain_documents\", \"test_generator.documents\")\n",
    "pipeline.connect(\"test_generator.testset\", \"test_saver.testset\")"
   ]
  },
  {
   "cell_type": "code",
   "execution_count": null,
   "id": "78722540",
   "metadata": {},
   "outputs": [
    {
     "name": "stderr",
     "output_type": "stream",
     "text": [
      "Applying HeadlinesExtractor: 100%|██████████| 17/17 [00:09<00:00,  1.81it/s]\n",
      "Applying HeadlinesExtractor: 100%|██████████| 17/17 [00:09<00:00,  1.81it/s]\n",
      "Applying HeadlineSplitter: 100%|██████████| 17/17 [00:00<00:00, 346.79it/s]\n",
      "Applying SummaryExtractor:   0%|          | 0/17 [00:00<?, ?it/s]\n",
      "Applying SummaryExtractor: 100%|██████████| 17/17 [00:10<00:00,  1.63it/s]\n",
      "Applying SummaryExtractor: 100%|██████████| 17/17 [00:10<00:00,  1.63it/s]\n",
      "Applying CustomNodeFilter:   0%|          | 0/49 [00:00<?, ?it/s]"
     ]
    }
   ],
   "source": [
    "# Prepare input data - convert PDF files to ByteStream objects\n",
    "pdf_sources = [Path(\"./data_for_indexing/howpeopleuseai.pdf\")]\n",
    "result = pipeline.run({\n",
    "            \"pdf_converter\": {\"sources\": pdf_sources}\n",
    "        })\n",
    "    "
   ]
  },
  {
   "cell_type": "markdown",
   "id": "d6201635",
   "metadata": {},
   "source": [
    "### Understanding the PDF Processing Pipeline Architecture\n",
    "\n",
    "The pipeline we're building follows this flow:\n",
    "\n",
    "```\n",
    "PDF File → PDF Converter → Document Cleaner → Document Splitter \n",
    "    ↓\n",
    "Document Converter → Knowledge Graph Generator\n",
    "    ↓                         ↓\n",
    "Test Generator ← ← ← ← ← ← ← ←\n",
    "    ↓\n",
    "Test Dataset Saver\n",
    "```\n",
    "\n",
    "**Key Design Decisions:**\n",
    "\n",
    "1. **Document Processing Chain**: We clean and split documents before knowledge graph generation to ensure high-quality input\n",
    "2. **Dual Input to Test Generator**: Both the knowledge graph and original documents are provided to enable fallback generation methods\n",
    "3. **Configurable Test Distribution**: We can control the types of questions generated (single-hop vs multi-hop)\n",
    "\n",
    "**Pipeline Parameters Explained:**\n",
    "- `testset_size=10`: Number of question-answer pairs to generate\n",
    "- `split_length=50`: Number of sentences per document chunk\n",
    "- `query_distribution`: Controls complexity of generated questions"
   ]
  },
  {
   "cell_type": "code",
   "execution_count": null,
   "id": "02bbe757",
   "metadata": {},
   "outputs": [],
   "source": [
    "pipeline.draw(path=\"./images/pdf_knowledge_graph_pipeline.png\")\n",
    "print(\"📸 Pipeline diagram saved to: ./images/pdf_knowledge_graph_pipeline.png\")"
   ]
  },
  {
   "cell_type": "markdown",
   "id": "97d60f85",
   "metadata": {},
   "source": [
    "![PDF Knowledge Graph Pipeline](./images/pdf_knowledge_graph_pipeline.png)"
   ]
  },
  {
   "cell_type": "code",
   "execution_count": null,
   "id": "3ec75012",
   "metadata": {},
   "outputs": [],
   "source": [
    "import pandas as pd\n",
    "\n",
    "# Load and display the generated synthetic tests\n",
    "test_file_path = \"data_for_eval/synthetic_tests_10_from_pdf.csv\"\n",
    "\n",
    "if os.path.exists(test_file_path):\n",
    "    synthetic_tests_df = pd.read_csv(test_file_path)\n",
    "    print(\"\\n🧪 Synthetic Tests Sample:\")\n",
    "    print(\"First 5 rows:\")\n",
    "    display(synthetic_tests_df.head())\n",
    "    print(\"Last 5 rows:\")\n",
    "    display(synthetic_tests_df.tail())\n",
    "else:\n",
    "    print(\"❌ Synthetic test file not found\")"
   ]
  },
  {
   "cell_type": "markdown",
   "id": "6aa35cba",
   "metadata": {},
   "source": [
    "### Analyzing the Generated Test Dataset\n",
    "\n",
    "Now let's examine the synthetic test data that was generated from our PDF processing pipeline.\n",
    "\n",
    "**What to Look For:**\n",
    "- **Question Quality**: Are the questions grammatically correct and meaningful?\n",
    "- **Answer Accuracy**: Do the answers correctly reflect the source material?\n",
    "- **Question Types**: Notice the variety of single-hop and multi-hop questions\n",
    "- **Context Relevance**: Check if the reference contexts support the answers\n",
    "\n",
    "**Common Question Types You'll See:**\n",
    "1. **Single-hop questions**: Direct factual queries (e.g., \"What is X?\")\n",
    "2. **Multi-hop specific**: Questions requiring connecting specific facts\n",
    "3. **Multi-hop abstract**: Questions requiring broader reasoning across multiple concepts\n",
    "\n",
    "**PDF-Specific Considerations:**\n",
    "- **Text Extraction Quality**: PDFs may have formatting artifacts that affect question quality\n",
    "- **Document Structure**: Well-structured PDFs tend to produce better knowledge graphs\n",
    "- **Content Density**: Dense technical content may result in more complex questions"
   ]
  },
  {
   "cell_type": "markdown",
   "id": "ee9495df",
   "metadata": {},
   "source": [
    "## Summary\n",
    "\n",
    "### What We've Accomplished\n",
    "\n",
    "In this notebook, we successfully:\n",
    "\n",
    "1. **Built a PDF Processing Pipeline**: Created an end-to-end pipeline specifically optimized for PDF documents\n",
    "2. **Generated Knowledge Graphs**: Converted unstructured PDF content into structured knowledge representations\n",
    "3. **Produced Synthetic Test Data**: Created question-answer pairs for evaluation and testing purposes\n",
    "4. **Analyzed Results**: Examined the quality and characteristics of the generated synthetic dataset\n",
    "\n",
    "### Key Benefits of This Approach\n",
    "\n",
    "- **Automated Processing**: No manual intervention required for PDF to test data conversion\n",
    "- **Scalable**: Can process multiple PDF documents in batch\n",
    "- **Quality-Driven**: Knowledge graphs act as a quality filter for better synthetic questions\n",
    "- **Configurable**: Easy to adjust parameters for different use cases\n",
    "\n",
    "### Next Steps\n",
    "\n",
    "Consider exploring:\n",
    "- **Web Content Processing**: See how this approach works with web content\n",
    "- **Advanced Branching Pipelines**: Process multiple document types simultaneously\n",
    "- **Quality Control**: Implement automated validation for synthetic test datasets\n",
    "- **Production Deployment**: Scale this pipeline for enterprise document collections\n",
    "\n",
    "### Production Considerations\n",
    "\n",
    "When moving to production:\n",
    "1. **Batch Processing**: Process multiple PDFs simultaneously\n",
    "2. **Error Handling**: Implement robust error handling for corrupted or protected PDFs\n",
    "3. **Quality Metrics**: Track knowledge graph quality and test generation success rates\n",
    "4. **Cost Management**: Monitor API usage and implement rate limiting\n",
    "5. **Validation Pipeline**: Add human-in-the-loop validation for critical datasets"
   ]
  }
 ],
 "metadata": {
  "kernelspec": {
   "display_name": "rag-with-haystack-ch5",
   "language": "python",
   "name": "python3"
  },
  "language_info": {
   "codemirror_mode": {
    "name": "ipython",
    "version": 3
   },
   "file_extension": ".py",
   "mimetype": "text/x-python",
   "name": "python",
   "nbconvert_exporter": "python",
   "pygments_lexer": "ipython3",
   "version": "3.12.4"
  }
 },
 "nbformat": 4,
 "nbformat_minor": 5
}
