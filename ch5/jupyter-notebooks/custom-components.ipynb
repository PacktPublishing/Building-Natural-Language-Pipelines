{
 "cells": [
  {
   "cell_type": "markdown",
   "metadata": {},
   "source": [
    "## Building custom components with Haystack\n",
    "\n",
    "Whereas the Haystack library provides a wide range of pre-built components, it is also possible to build custom components. This notebook demonstrates how to build a custom component for Haystack.\n",
    "\n",
    "The custom component we will build is a simple one: a component that takes a list of strings as input and returns the number of words in each string. This is a simple example, but it demonstrates the basic principles of building a custom component."
   ]
  },
  {
   "cell_type": "code",
   "execution_count": 1,
   "metadata": {},
   "outputs": [
    {
     "data": {
      "text/plain": [
       "<haystack.pipeline.Pipeline at 0x7fd3f1117d90>"
      ]
     },
     "execution_count": 1,
     "metadata": {},
     "output_type": "execute_result"
    }
   ],
   "source": [
    "from typing import List\n",
    "from haystack import component, Pipeline\n",
    "\n",
    "@component\n",
    "class WelcomeTextGenerator:\n",
    "  \"\"\"\n",
    "  A component generating personal welcome message and making it upper case\n",
    "  \"\"\"\n",
    "  @component.output_types(welcome_text=str, note=str)\n",
    "  def run(self, name:str):\n",
    "    return {\"welcome_text\": ('Hello {name}, welcome to Haystack!'.format(name=name)).upper(),\n",
    "             \"note\": \"welcome message is ready\"}\n",
    "\n",
    "@component\n",
    "class WhitespaceSplitter:\n",
    "  \"\"\"\n",
    "  A component for splitting the text by whitespace\n",
    "  \"\"\"\n",
    "  @component.output_types(splitted_text=List[str])\n",
    "  def run(self, text:str):\n",
    "    return {\"splitted_text\": text.split()}\n",
    "  \n",
    "from haystack import  Pipeline\n",
    "text_pipeline = Pipeline()\n",
    "text_pipeline.add_component(name=\"welcome_text_generator\", instance= WelcomeTextGenerator())\n",
    "text_pipeline.add_component(name=\"splitter\", instance= WhitespaceSplitter())\n",
    "\n",
    "text_pipeline.connect(sender=\"welcome_text_generator.welcome_text\", receiver=\"splitter.text\")\n",
    "\n"
   ]
  },
  {
   "cell_type": "code",
   "execution_count": 5,
   "metadata": {},
   "outputs": [],
   "source": [
    "text_pipeline.draw(\"./images/text_pipeline.png\", engine='mermaid-image')"
   ]
  },
  {
   "cell_type": "code",
   "execution_count": 6,
   "metadata": {},
   "outputs": [
    {
     "name": "stdout",
     "output_type": "stream",
     "text": [
      "['HELLO', 'JOHN', 'DOE,', 'WELCOME', 'TO', 'HAYSTACK!']\n"
     ]
    }
   ],
   "source": [
    "result = text_pipeline.run({\"welcome_text_generator\":{\"name\": \"John Doe\"}})\n",
    "\n",
    "print(result[\"splitter\"][\"splitted_text\"])"
   ]
  },
  {
   "cell_type": "code",
   "execution_count": 8,
   "metadata": {},
   "outputs": [
    {
     "data": {
      "text/plain": [
       "{'note': 'welcome message is ready'}"
      ]
     },
     "execution_count": 8,
     "metadata": {},
     "output_type": "execute_result"
    }
   ],
   "source": [
    "result['welcome_text_generator']"
   ]
  },
  {
   "cell_type": "markdown",
   "metadata": {},
   "source": [
    "## Incorporating custom components into an indexing pipeline\n",
    "\n"
   ]
  },
  {
   "cell_type": "code",
   "execution_count": null,
   "metadata": {},
   "outputs": [],
   "source": []
  }
 ],
 "metadata": {
  "kernelspec": {
   "display_name": "llm-pipelines",
   "language": "python",
   "name": "python3"
  },
  "language_info": {
   "codemirror_mode": {
    "name": "ipython",
    "version": 3
   },
   "file_extension": ".py",
   "mimetype": "text/x-python",
   "name": "python",
   "nbconvert_exporter": "python",
   "pygments_lexer": "ipython3",
   "version": "3.10.0"
  }
 },
 "nbformat": 4,
 "nbformat_minor": 2
}
