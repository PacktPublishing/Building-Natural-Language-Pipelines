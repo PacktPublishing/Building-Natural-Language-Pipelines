{
 "cells": [
  {
   "cell_type": "markdown",
   "metadata": {},
   "source": [
    "## Creating custom components that incorporate scalability considerations\n",
    "\n",
    "\n",
    "First, include necessary libraries for asynchronous programming and potential multiprocessing use.\n",
    "\n"
   ]
  },
  {
   "cell_type": "code",
   "execution_count": 1,
   "metadata": {},
   "outputs": [],
   "source": [
    "from haystack import component\n",
    "import asyncio\n",
    "import logging\n",
    "\n",
    "# Initialize logging\n",
    "logging.basicConfig(level=logging.INFO)\n",
    "logger = logging.getLogger(\"ScalableTextProcessor\")\n"
   ]
  },
  {
   "cell_type": "markdown",
   "metadata": {},
   "source": [
    "Step 2: Define the ScalableTextProcessor Component\n",
    "\n",
    "This component will process text data asynchronously, demonstrating a stateless design and concurrency. It will also be designed with memory efficiency in mind.\n"
   ]
  },
  {
   "cell_type": "code",
   "execution_count": 2,
   "metadata": {},
   "outputs": [],
   "source": [
    "@component\n",
    "class ScalableTextProcessor():\n",
    "\n",
    "    @component.output_types(processed_text=str, status=str)\n",
    "    async def run(self, text: str) -> dict:\n",
    "        \"\"\"\n",
    "        Processes text data asynchronously, demonstrating statelessness and concurrency.\n",
    "        \"\"\"\n",
    "        try:\n",
    "            # Simulate an I/O-bound operation, such as fetching data from a database or an API\n",
    "            processed_text = await self.async_process_text(text)\n",
    "            return {\"processed_text\": processed_text, \"status\": \"success\"}\n",
    "        except Exception as e:\n",
    "            logger.error(f\"Failed to process text due to: {str(e)}\")\n",
    "            return {\"processed_text\": \"\", \"status\": \"error\"}\n",
    "\n",
    "    async def async_process_text(self, text: str) -> str:\n",
    "        \"\"\"\n",
    "        An example async function that simulates text processing.\n",
    "        \"\"\"\n",
    "        await asyncio.sleep(1)  # Simulate an I/O operation\n",
    "        return text.upper()  # Example processing\n"
   ]
  },
  {
   "cell_type": "markdown",
   "metadata": {},
   "source": [
    "Step 3: Implementing Best Practices\n",
    "\n",
    "* Stateless Design: The ScalableTextProcessor component does not rely on any internal state between invocations, making it inherently scalable and suitable for horizontal scaling.\n",
    "\n",
    "* Concurrency and Parallelism: By using `asyncio`, this component can handle multiple text processing tasks concurrently, improving throughput for I/O-bound operations.\n",
    "\n",
    "* Memory Management: This example keeps memory usage minimal by avoiding large temporary data structures and focusing on processing each piece of text independently.\n",
    "\n",
    "* Scalability Testing: While not demonstrated directly in the code, it's crucial to test this component under various load scenarios. Tools like locust for load testing or Python's cProfile for performance profiling can help identify and address bottlenecks."
   ]
  },
  {
   "cell_type": "markdown",
   "metadata": {},
   "source": [
    "Usage Example\n",
    "\n",
    "To use this component within an async environment:"
   ]
  },
  {
   "cell_type": "code",
   "execution_count": 4,
   "metadata": {},
   "outputs": [
    {
     "name": "stdout",
     "output_type": "stream",
     "text": [
      "{'processed_text': 'HELLO, WORLD!', 'status': 'success'}\n"
     ]
    }
   ],
   "source": [
    "import asyncio\n",
    "\n",
    "async def main():\n",
    "    processor = ScalableTextProcessor()\n",
    "    result = await processor.run(text=\"Hello, world!\")\n",
    "    print(result)\n",
    "\n",
    "# Use the existing event loop instead of asyncio.run()\n",
    "loop = asyncio.get_event_loop()\n",
    "\n",
    "# If the loop is already running, this approach avoids the RuntimeError\n",
    "if not loop.is_running():\n",
    "    loop.run_until_complete(main())\n",
    "else:\n",
    "    # Directly schedule the coroutine to be run on the existing event loop\n",
    "    await main()  # This 'await' is only valid in an async environment like an async cell in Jupyter\n",
    "\n"
   ]
  },
  {
   "cell_type": "markdown",
   "metadata": {},
   "source": [
    "This `ScalableTextProcessor` component showcases how to design custom components in Haystack with a focus on robustness and scalability, incorporating best practices such as stateless design, concurrency, and efficient memory usage.\n",
    "\n"
   ]
  },
  {
   "cell_type": "code",
   "execution_count": null,
   "metadata": {},
   "outputs": [],
   "source": []
  }
 ],
 "metadata": {
  "kernelspec": {
   "display_name": "llm-pipelines",
   "language": "python",
   "name": "python3"
  },
  "language_info": {
   "codemirror_mode": {
    "name": "ipython",
    "version": 3
   },
   "file_extension": ".py",
   "mimetype": "text/x-python",
   "name": "python",
   "nbconvert_exporter": "python",
   "pygments_lexer": "ipython3",
   "version": "3.10.0"
  }
 },
 "nbformat": 4,
 "nbformat_minor": 2
}
