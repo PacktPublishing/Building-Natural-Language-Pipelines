{
 "cells": [
  {
   "cell_type": "markdown",
   "metadata": {},
   "source": [
    "## Creating custom components that incorporate error handling\n",
    "\n",
    "To implement a custom component in Haystack that emphasizes robust error handling, logging exceptions, and incorporates a retry mechanism for recoverable errors, we'll design a `RobustProcessorComponent`. This component will attempt to process data, catch and log specific exceptions, and retry processing under certain conditions using exponential backoff.\n",
    "\n",
    "First, include necessary imports for the component, logging, and time (for sleep during retries).\n"
   ]
  },
  {
   "cell_type": "code",
   "execution_count": 1,
   "metadata": {},
   "outputs": [],
   "source": [
    "from haystack import component\n",
    "import logging\n",
    "import time\n",
    "import random\n",
    "\n",
    "# Initialize logging\n",
    "logging.basicConfig(level=logging.INFO)\n",
    "logger = logging.getLogger(__name__)\n"
   ]
  },
  {
   "cell_type": "markdown",
   "metadata": {},
   "source": [
    "Step 2: Define the RobustProcessorComponent\n",
    "This component will simulate data processing and include mechanisms for error handling and retries with exponential backoff."
   ]
  },
  {
   "cell_type": "code",
   "execution_count": 2,
   "metadata": {},
   "outputs": [],
   "source": [
    "@component\n",
    "class RobustProcessorComponent():\n",
    "\n",
    "    @component.output_types(processed_data=str, status=str)\n",
    "    def run(self, data: str) -> dict:\n",
    "        \"\"\"\n",
    "        Processes data with error handling and retry mechanism.\n",
    "        \"\"\"\n",
    "        max_retries = 3\n",
    "        backoff_factor = 2\n",
    "        retry_count = 0\n",
    "\n",
    "        while retry_count <= max_retries:\n",
    "            try:\n",
    "                # Simulate data processing that may fail\n",
    "                if random.random() < 0.5:  # 50% chance of simulated failure\n",
    "                    raise ConnectionError(\"Simulated connection error\")\n",
    "\n",
    "                # Simulated successful processing\n",
    "                processed_data = f\"Processed: {data}\"\n",
    "                return {\"processed_data\": processed_data, \"status\": \"success\"}\n",
    "\n",
    "            except ConnectionError as e:\n",
    "                retry_count += 1\n",
    "                sleep_time = backoff_factor ** retry_count\n",
    "                logger.warning(f\"Retry {retry_count}/{max_retries} after error: {e}. Retrying in {sleep_time} seconds.\")\n",
    "                time.sleep(sleep_time)\n",
    "            except Exception as e:\n",
    "                logger.error(f\"Unexpected error processing data '{data}': {e}\")\n",
    "                return {\"processed_data\": \"\", \"status\": \"error\"}\n",
    "\n",
    "        return {\"processed_data\": \"\", \"status\": \"retry_limit_exceeded\"}\n",
    "\n"
   ]
  },
  {
   "cell_type": "markdown",
   "metadata": {},
   "source": [
    "Step 3: Best Practices in Error Handling\n",
    "\n",
    "* Specific Exceptions: The component distinguishes between ConnectionError for retryable errors and a generic Exception for non-retryable, unexpected errors. This ensures that only specific, known recoverable errors trigger the retry logic.\n",
    "* Error Logging: It logs warnings for retryable errors with sufficient context (including retry count and backoff time) and errors for unexpected exceptions, providing insight into the issues encountered without stopping the pipeline.\n",
    "* Retry Mechanism: Implements a simple exponential backoff mechanism for retryable errors, increasing the wait time between retries to mitigate issues like temporary network problems.\n",
    "* Error Propagation: For unrecoverable errors or when the retry limit is exceeded, the component returns a status indicating the failure, allowing the calling code or subsequent components in the pipeline to handle it as needed."
   ]
  },
  {
   "cell_type": "markdown",
   "metadata": {},
   "source": [
    "Usage example"
   ]
  },
  {
   "cell_type": "code",
   "execution_count": 3,
   "metadata": {},
   "outputs": [
    {
     "name": "stderr",
     "output_type": "stream",
     "text": [
      "INFO:__main__:Processing result: {'processed_data': 'Processed: Example data', 'status': 'success'}\n"
     ]
    }
   ],
   "source": [
    "if __name__ == \"__main__\":\n",
    "    robust_processor = RobustProcessorComponent()\n",
    "\n",
    "    # Simulate processing data with potential retries for recoverable errors\n",
    "    result = robust_processor.run(data=\"Example data\")\n",
    "    logger.info(f\"Processing result: {result}\")\n"
   ]
  },
  {
   "cell_type": "code",
   "execution_count": null,
   "metadata": {},
   "outputs": [],
   "source": []
  }
 ],
 "metadata": {
  "kernelspec": {
   "display_name": "llm-pipelines",
   "language": "python",
   "name": "python3"
  },
  "language_info": {
   "codemirror_mode": {
    "name": "ipython",
    "version": 3
   },
   "file_extension": ".py",
   "mimetype": "text/x-python",
   "name": "python",
   "nbconvert_exporter": "python",
   "pygments_lexer": "ipython3",
   "version": "3.10.0"
  }
 },
 "nbformat": 4,
 "nbformat_minor": 2
}
