{
 "cells": [
  {
   "cell_type": "markdown",
   "metadata": {},
   "source": [
    "## Creating custom components that incorporate logging\n",
    "\n",
    "First, we set up structured logging using Python's built-in logging module. We will configure a logger for the component that includes structured information like timestamps, log level, and the name of the logger in each log entry."
   ]
  },
  {
   "cell_type": "code",
   "execution_count": 3,
   "metadata": {},
   "outputs": [],
   "source": [
    "import logging\n",
    "import json\n",
    "\n",
    "# Configure logging with a basic configuration that includes the level name and message.\n",
    "logging.basicConfig(format='%(asctime)s - %(name)s - %(levelname)s - %(message)s', level=logging.INFO)\n",
    "logger = logging.getLogger(\"LoggingExampleComponent\")\n",
    "\n",
    "# Optionally, create a custom log handler to filter or modify logs (e.g., to mask sensitive data).\n",
    "class SensitiveDataFilter(logging.Filter):\n",
    "    def filter(self, record):\n",
    "        if hasattr(record, 'msg') and \"sensitive\" in record.msg:\n",
    "            record.msg = record.msg.replace(\"sensitive\", \"*****\")\n",
    "        return True\n",
    "\n",
    "logger.addFilter(SensitiveDataFilter())\n"
   ]
  },
  {
   "cell_type": "markdown",
   "metadata": {},
   "source": [
    "Step 2: Define the Custom Component with Structured Logging\n",
    "This component will perform a simple task and log messages at different levels, demonstrating structured logging and the use of dynamic log levels."
   ]
  },
  {
   "cell_type": "code",
   "execution_count": 4,
   "metadata": {},
   "outputs": [],
   "source": [
    "from haystack import component\n",
    "\n",
    "@component\n",
    "class LoggingExampleComponent():\n",
    "\n",
    "    @component.output_types(log_message=str, status=str)\n",
    "    def run(self, input_data: str) -> dict:\n",
    "        \"\"\"\n",
    "        Demonstrates logging within a custom component, with structured logging and sensitivity considerations.\n",
    "        \"\"\"\n",
    "        try:\n",
    "            # Log an info message with structured data\n",
    "            logger.info(json.dumps({\"event\": \"ProcessingStarted\", \"data_length\": len(input_data)}))\n",
    "            \n",
    "            # Simulate processing and log a debug message\n",
    "            processed_data = input_data.upper()\n",
    "            logger.debug(json.dumps({\"event\": \"ProcessingDebug\", \"message\": f\"Processed data to: {processed_data}\"}))\n",
    "            \n",
    "            # Log a warning if input data is short\n",
    "            if len(input_data) < 10:\n",
    "                logger.warning(json.dumps({\"event\": \"ShortInputData\", \"length\": len(input_data)}))\n",
    "            \n",
    "            return {\"log_message\": f\"Processed data: {processed_data}\", \"status\": \"success\"}\n",
    "        \n",
    "        except Exception as e:\n",
    "            # Log an error with structured data\n",
    "            logger.error(json.dumps({\"event\": \"ProcessingError\", \"error\": str(e)}))\n",
    "            return {\"log_message\": \"An error occurred during processing.\", \"status\": \"error\"}\n"
   ]
  },
  {
   "cell_type": "markdown",
   "metadata": {},
   "source": [
    "Step 3: Dynamic Log Level Configuration\n",
    "The verbosity of logs can be adjusted based on the environment (development or production) by setting the logger's level. This can be done at the start of the application or dynamically adjusted."
   ]
  },
  {
   "cell_type": "code",
   "execution_count": 5,
   "metadata": {},
   "outputs": [],
   "source": [
    "# For development, set to DEBUG to see all log messages.\n",
    "logger.setLevel(logging.DEBUG)\n",
    "\n",
    "# For production, you might want to set it to WARNING or ERROR to reduce verbosity.\n",
    "# logger.setLevel(logging.WARNING)\n"
   ]
  },
  {
   "cell_type": "markdown",
   "metadata": {},
   "source": [
    "Best Practices in Logging\n",
    "\n",
    "* Consistent Logging Format: By using JSON format for structured logging, log messages are consistent and machine-readable, facilitating analysis and monitoring.\n",
    "* Sensitive Information: The SensitiveDataFilter demonstrates how to filter out sensitive information from logs to protect privacy and comply with regulations.\n",
    "* Dynamic Log Levels: Adjusting the logger's level based on the environment allows for more detailed logs during development and quieter logs in production, managing verbosity effectively."
   ]
  },
  {
   "cell_type": "code",
   "execution_count": 6,
   "metadata": {},
   "outputs": [
    {
     "name": "stderr",
     "output_type": "stream",
     "text": [
      "2024-03-04 14:07:42,063 - LoggingExampleComponent - INFO - {\"event\": \"ProcessingStarted\", \"data_length\": 12}\n",
      "2024-03-04 14:07:42,074 - LoggingExampleComponent - DEBUG - {\"event\": \"ProcessingDebug\", \"message\": \"Processed data to: EXAMPLE DATA\"}\n"
     ]
    },
    {
     "name": "stdout",
     "output_type": "stream",
     "text": [
      "{'log_message': 'Processed data: EXAMPLE DATA', 'status': 'success'}\n"
     ]
    }
   ],
   "source": [
    "if __name__ == \"__main__\":\n",
    "    component = LoggingExampleComponent()\n",
    "    result = component.run(input_data=\"Example data\")\n",
    "    print(result)\n"
   ]
  },
  {
   "cell_type": "markdown",
   "metadata": {},
   "source": [
    "This `LoggingExampleComponent` showcases how to integrate advanced logging practices into Haystack custom components, enhancing the observability and maintainability of NLP pipelines."
   ]
  },
  {
   "cell_type": "code",
   "execution_count": null,
   "metadata": {},
   "outputs": [],
   "source": []
  }
 ],
 "metadata": {
  "kernelspec": {
   "display_name": "llm-pipelines",
   "language": "python",
   "name": "python3"
  },
  "language_info": {
   "codemirror_mode": {
    "name": "ipython",
    "version": 3
   },
   "file_extension": ".py",
   "mimetype": "text/x-python",
   "name": "python",
   "nbconvert_exporter": "python",
   "pygments_lexer": "ipython3",
   "version": "3.10.0"
  }
 },
 "nbformat": 4,
 "nbformat_minor": 2
}
