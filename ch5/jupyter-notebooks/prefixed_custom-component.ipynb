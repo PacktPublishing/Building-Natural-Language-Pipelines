{
  "cells": [
    {
      "cell_type": "markdown",
      "metadata": {},
      "source": [
        "🔧 **Setup Required**: Before running this notebook, please follow the [setup instructions](../README.md#setup-instructions) to configure your environment and API keys."
      ]
    },
    {
      "cell_type": "markdown",
      "metadata": {
        "id": "9CuvGdJNr8iV"
      },
      "source": [
        "## Building custom components with Haystack\n",
        "\n",
        "Whereas the Haystack library provides a wide range of pre-built components, it is also possible to build custom components. This notebook demonstrates how to build a custom component for Haystack.\n",
        "\n",
        "The custom component we will build is a simple one: a component that takes a list of strings as input and returns the number of words in each string. This is a simple example, but it demonstrates the basic principles of building a custom component."
      ]
    },
    {
      "cell_type": "code",
      "execution_count": 30,
      "metadata": {
        "colab": {
          "base_uri": "https://localhost:8080/"
        },
        "id": "i8B0p9Hlr8iZ",
        "outputId": "ce1a1e18-8610-4221-867f-e2e444981a7a"
      },
      "outputs": [],
      "source": [
        "from typing import List\n",
        "from haystack import component, Pipeline\n",
        "\n",
        "from haystack import component\n",
        "from typing import List\n",
        "\n",
        "@component\n",
        "class Prefixer:\n",
        "    \"\"\"\n",
        "    A component that adds a predefined prefix to each string in a list.\n",
        "    \"\"\"\n",
        "    def __init__(self, prefix: str = \">> \"):\n",
        "        self.prefix = prefix\n",
        "\n",
        "    @component.output_types(prefixed_documents=List[str])\n",
        "    def run(self, documents: List[str]):\n",
        "        \"\"\"\n",
        "        Adds the prefix to a list of documents.\n",
        "        \"\"\"\n",
        "        processed_docs = [self.prefix + doc for doc in documents]\n",
        "        return {\"prefixed_documents\": processed_docs}\n"
      ]
    },
    {
      "cell_type": "code",
      "execution_count": 31,
      "metadata": {},
      "outputs": [
        {
          "data": {
            "text/plain": [
              "{'prefixed_documents': ['>> Document one.', '>> Document two.']}"
            ]
          },
          "execution_count": 31,
          "metadata": {},
          "output_type": "execute_result"
        }
      ],
      "source": [
        "prefixer_instance = Prefixer(prefix=\">> \")  \n",
        "prefixer_instance.run(documents=[\"Document one.\", \"Document two.\"])  "
      ]
    },
    {
      "cell_type": "code",
      "execution_count": null,
      "metadata": {},
      "outputs": [],
      "source": []
    }
  ],
  "metadata": {
    "colab": {
      "provenance": []
    },
    "kernelspec": {
      "display_name": "rag-with-haystack-ch5",
      "language": "python",
      "name": "python3"
    },
    "language_info": {
      "codemirror_mode": {
        "name": "ipython",
        "version": 3
      },
      "file_extension": ".py",
      "mimetype": "text/x-python",
      "name": "python",
      "nbconvert_exporter": "python",
      "pygments_lexer": "ipython3",
      "version": "3.12.4"
    }
  },
  "nbformat": 4,
  "nbformat_minor": 0
}
