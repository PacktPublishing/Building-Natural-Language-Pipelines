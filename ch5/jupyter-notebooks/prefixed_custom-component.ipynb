{
  "cells": [
    {
      "cell_type": "markdown",
      "metadata": {},
      "source": [
        "🔧 **Setup Required**: Before running this notebook, please follow the [setup instructions](../README.md#setup-instructions) to configure your environment and API keys."
      ]
    },
    {
      "cell_type": "markdown",
      "metadata": {
        "id": "9CuvGdJNr8iV"
      },
      "source": [
        "## Building custom components with Haystack\n",
        "\n",
        "Whereas the Haystack library provides a wide range of pre-built components, it is also possible to build custom components. This notebook demonstrates how to build a custom component for Haystack.\n",
        "\n",
        "The custom component we will build is a simple one: a component that takes a list of strings as input and returns the number of words in each string. This is a simple example, but it demonstrates the basic principles of building a custom component."
      ]
    },
    {
      "cell_type": "code",
      "execution_count": 4,
      "metadata": {
        "colab": {
          "base_uri": "https://localhost:8080/"
        },
        "id": "i8B0p9Hlr8iZ",
        "outputId": "ce1a1e18-8610-4221-867f-e2e444981a7a"
      },
      "outputs": [],
      "source": [
        "from typing import List\n",
        "from haystack import component\n",
        "from haystack.dataclasses import Document\n",
        "from typing import List\n",
        "\n",
        "@component\n",
        "class Prefixer:\n",
        "    \"\"\"\n",
        "    A custom component that adds a specified prefix to the content of each Document.\n",
        "    \"\"\"\n",
        "\n",
        "    # The __init__ method is standard Python. It's used to initialize the component's state.\n",
        "    # In this simple case, it's not strictly necessary, but it's good practice to include.\n",
        "    def __init__(self):\n",
        "        pass\n",
        "\n",
        "    # Apply the @component.output_types decorator to the run method\n",
        "    # This declares that our component has one output socket named 'documents',\n",
        "    # and it will produce a list of Document objects.\n",
        "    @component.output_types(documents=List)\n",
        "    def run(self, documents: List, prefix: str):\n",
        "        \"\"\"\n",
        "        The main logic of the component.\n",
        "        \n",
        "        :param documents: A list of Document objects to be processed.\n",
        "        :param prefix: The string prefix to add to each document's content.\n",
        "        :return: A dictionary containing the list of modified documents.\n",
        "        \"\"\"\n",
        "        \n",
        "        # The parameters 'documents' and 'prefix' become the input sockets.\n",
        "        \n",
        "        modified_documents = [\n",
        "            Document(\n",
        "                content=f\"{prefix}{doc.content}\",\n",
        "                meta=doc.meta\n",
        "            ) for doc in documents\n",
        "        ]\n",
        "        for doc in documents:\n",
        "            # Create a new Document to avoid modifying the original in place\n",
        "            new_doc = Document(\n",
        "                content=f\"{prefix}{doc.content}\",\n",
        "                meta=doc.meta\n",
        "            )\n",
        "            modified_documents.append(new_doc)\n",
        "            \n",
        "        # 4. Return a dictionary where the key matches the declared output socket name.\n",
        "        return {\"documents\": modified_documents}\n"
      ]
    },
    {
      "cell_type": "code",
      "execution_count": 7,
      "metadata": {},
      "outputs": [
        {
          "data": {
            "text/plain": [
              "{'documents': [Document(id=16d755955d6788aa82081377a1cc7960bf7aacea3e26994724213b85b76c4aae, content: '>> This is the first document.', meta: {'id': 1}),\n",
              "  Document(id=7e39b6b9ece41dae104b2745cd33e661fbd64a8e7edc629cfd32d2a85a960cf9, content: '>> This is the second document.', meta: {'id': 2}),\n",
              "  Document(id=16d755955d6788aa82081377a1cc7960bf7aacea3e26994724213b85b76c4aae, content: '>> This is the first document.', meta: {'id': 1}),\n",
              "  Document(id=7e39b6b9ece41dae104b2745cd33e661fbd64a8e7edc629cfd32d2a85a960cf9, content: '>> This is the second document.', meta: {'id': 2})]}"
            ]
          },
          "execution_count": 7,
          "metadata": {},
          "output_type": "execute_result"
        }
      ],
      "source": [
        "documents = [\n",
        "    Document(content=\"This is the first document.\", meta={\"id\": 1}),\n",
        "    Document(content=\"This is the second document.\", meta={\"id\": 2}),\n",
        "]\n",
        "prefixer_instance = Prefixer()\n",
        "prefixer_instance.run(documents=documents, prefix=\">> \")"
      ]
    },
    {
      "cell_type": "code",
      "execution_count": null,
      "metadata": {},
      "outputs": [],
      "source": []
    }
  ],
  "metadata": {
    "colab": {
      "provenance": []
    },
    "kernelspec": {
      "display_name": "rag-with-haystack-ch5",
      "language": "python",
      "name": "python3"
    },
    "language_info": {
      "codemirror_mode": {
        "name": "ipython",
        "version": 3
      },
      "file_extension": ".py",
      "mimetype": "text/x-python",
      "name": "python",
      "nbconvert_exporter": "python",
      "pygments_lexer": "ipython3",
      "version": "3.12.4"
    }
  },
  "nbformat": 4,
  "nbformat_minor": 0
}
