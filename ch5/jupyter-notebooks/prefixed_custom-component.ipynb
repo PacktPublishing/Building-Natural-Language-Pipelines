{
  "cells": [
    {
      "cell_type": "markdown",
      "metadata": {},
      "source": [
        "🔧 **Setup Required**: Before running this notebook, please follow the [setup instructions](../README.md#setup-instructions) to configure your environment and API keys."
      ]
    },
    {
      "cell_type": "markdown",
      "metadata": {},
      "source": [
        "# Introduction to Custom Haystack Components\n",
        "\n",
        "Welcome to your first hands-on experience with building custom components in Haystack! This notebook will guide you through the fundamental concepts and practical implementation of custom components.\n",
        "\n",
        "## Learning Objectives\n",
        "\n",
        "By the end of this notebook, you will be able to:\n",
        "\n",
        "1. **Understand the anatomy** of a Haystack custom component\n",
        "2. **Implement the @component decorator** and its key methods\n",
        "3. **Define input and output types** for your components\n",
        "4. **Create reusable, modular components** that integrate seamlessly with Haystack pipelines\n",
        "5. **Test and validate** your custom components before pipeline integration\n",
        "\n",
        "## What Are Custom Components?\n",
        "\n",
        "Custom components are the building blocks that allow you to extend Haystack's functionality beyond the pre-built components. They enable you to:\n",
        "\n",
        "- **Implement domain-specific logic** tailored to your use case\n",
        "- **Create reusable modules** that can be shared across different pipelines\n",
        "- **Integrate third-party services** or custom algorithms\n",
        "- **Transform data** in ways not covered by existing components\n",
        "\n",
        "## Prerequisites\n",
        "\n",
        "- Basic Python programming knowledge\n",
        "- Understanding of Haystack's pipeline architecture\n",
        "- Familiarity with type hints in Python"
      ]
    },
    {
      "cell_type": "markdown",
      "metadata": {
        "id": "9CuvGdJNr8iV"
      },
      "source": [
        "## The Anatomy of a Custom Component\n",
        "\n",
        "### Core Concepts\n",
        "\n",
        "Every Haystack custom component follows a specific pattern:\n",
        "\n",
        "1. **Class Definition**: A Python class that encapsulates your component's functionality\n",
        "2. **@component Decorator**: Marks the class as a Haystack component\n",
        "3. **__init__ Method**: Initializes component state and parameters\n",
        "4. **run Method**: Contains the main processing logic\n",
        "5. **Input/Output Declaration**: Defines what data flows in and out\n",
        "\n",
        "### Why Build Custom Components?\n",
        "\n",
        "While Haystack provides many pre-built components, custom components are essential when you need to:\n",
        "\n",
        "- **Process data in unique ways** not covered by existing components\n",
        "- **Integrate with proprietary systems** or APIs\n",
        "- **Implement business-specific logic** that's reusable across pipelines\n",
        "- **Create specialized transformations** for your domain\n",
        "\n",
        "### The Example: Prefixer Component\n",
        "\n",
        "We'll build a simple but illustrative component called `Prefixer` that:\n",
        "- **Takes a list of documents** as input\n",
        "- **Adds a custom prefix** to each document's content\n",
        "- **Returns the modified documents** while preserving metadata\n",
        "- **Demonstrates all key component concepts** in a clear, understandable way"
      ]
    },
    {
      "cell_type": "markdown",
      "metadata": {},
      "source": [
        "## Step-by-Step Component Implementation\n",
        "\n",
        "Let's break down each part of our custom component implementation to understand the key concepts:\n",
        "\n",
        "### 1. Essential Imports\n",
        "\n",
        "```python\n",
        "from typing import List\n",
        "from haystack import component\n",
        "from haystack.dataclasses import Document\n",
        "```\n",
        "\n",
        "**Why these imports?**\n",
        "- `typing.List`: Provides type hints for better code clarity and IDE support\n",
        "- `haystack.component`: The decorator that makes your class a Haystack component\n",
        "- `haystack.dataclasses.Document`: The standard data structure for text in Haystack\n",
        "\n",
        "### 2. The @component Decorator\n",
        "\n",
        "This decorator is **mandatory** for all custom components. It:\n",
        "- **Registers your class** with Haystack's component system\n",
        "- **Enables pipeline integration** and connection capabilities\n",
        "- **Provides runtime validation** of inputs and outputs\n",
        "- **Handles serialization** for pipeline persistence\n",
        "\n",
        "### 3. Component Architecture Pattern\n",
        "\n",
        "```\n",
        "Input Sockets → Processing Logic → Output Sockets\n",
        "```\n",
        "\n",
        "- **Input Sockets**: Parameters of the `run()` method\n",
        "- **Processing Logic**: The transformation you want to apply\n",
        "- **Output Sockets**: Keys in the returned dictionary"
      ]
    },
    {
      "cell_type": "code",
      "execution_count": 22,
      "metadata": {
        "colab": {
          "base_uri": "https://localhost:8080/"
        },
        "id": "i8B0p9Hlr8iZ",
        "outputId": "ce1a1e18-8610-4221-867f-e2e444981a7a"
      },
      "outputs": [],
      "source": [
        "from typing import List\n",
        "from haystack import component\n",
        "from haystack.dataclasses import Document\n",
        "from typing import List\n",
        "\n",
        "@component\n",
        "class Prefixer:\n",
        "    \"\"\"\n",
        "    A custom component that adds a specified prefix to the content of each Document.\n",
        "    \n",
        "    This component demonstrates the fundamental patterns of Haystack custom components:\n",
        "    - Input socket definition through method parameters\n",
        "    - Output socket declaration via @component.output_types\n",
        "    - Immutable data processing (creating new objects, not modifying existing ones)\n",
        "    - Metadata preservation during transformation\n",
        "    \"\"\"\n",
        "\n",
        "    def __init__(self):\n",
        "        \"\"\"\n",
        "        Initialize the component.\n",
        "        \n",
        "        The __init__ method is standard Python. While not strictly necessary for this\n",
        "        simple component, it's good practice to include it for:\n",
        "        - Setting up component configuration\n",
        "        - Initializing any required state\n",
        "        - Preparing resources or connections\n",
        "        \"\"\"\n",
        "        pass\n",
        "\n",
        "    @component.output_types(documents=List[Document])\n",
        "    def run(self, documents: List[Document], prefix: str) -> dict:\n",
        "        \"\"\"\n",
        "        The main processing logic of the component.\n",
        "        \n",
        "        This method defines the component's input and output sockets:\n",
        "        - Input sockets: 'documents' and 'prefix' (from method parameters)\n",
        "        - Output socket: 'documents' (declared in @component.output_types)\n",
        "        \n",
        "        Args:\n",
        "            documents: A list of Document objects to be processed\n",
        "            prefix: The string prefix to add to each document's content\n",
        "            \n",
        "        Returns:\n",
        "            A dictionary with the key 'documents' containing the modified documents\n",
        "        \"\"\"\n",
        "        \n",
        "        # Process each document, creating new Document objects to avoid side effects\n",
        "        modified_documents = []\n",
        "        \n",
        "        for doc in documents:\n",
        "            # Create a new Document to avoid modifying the original in place\n",
        "            # This is a best practice for component design\n",
        "            new_doc = Document(\n",
        "                content=f\"{prefix}{doc.content}\",\n",
        "                meta=doc.meta.copy() if doc.meta else {}  # Preserve and copy metadata\n",
        "            )\n",
        "            modified_documents.append(new_doc)\n",
        "            \n",
        "        # Return a dictionary where the key matches the declared output socket name\n",
        "        # This is how Haystack knows which output to connect to which input in pipelines\n",
        "        return {\"documents\": modified_documents}"
      ]
    },
    {
      "cell_type": "markdown",
      "metadata": {},
      "source": [
        "### Understanding the Code\n",
        "\n",
        "Let's examine each part of our `Prefixer` component implementation:\n",
        "\n",
        "#### Key Components Breakdown:\n",
        "\n",
        "1. **Class Declaration**: `@component` decorator transforms a regular Python class into a Haystack component\n",
        "2. **Initialization**: The `__init__` method sets up any component state (none needed here, but good practice)\n",
        "3. **Output Type Declaration**: `@component.output_types(documents=List)` tells Haystack what this component produces\n",
        "4. **Main Logic**: The `run` method contains the actual processing logic\n",
        "5. **Return Format**: Must return a dictionary where keys match declared output socket names\n",
        "\n",
        "#### Critical Design Patterns:\n",
        "\n",
        "- **Immutable Processing**: We create new `Document` objects rather than modifying originals\n",
        "- **Metadata Preservation**: The original document metadata is copied to new documents\n",
        "- **Type Safety**: Input and output types are clearly declared for validation\n",
        "- **Clean Interface**: Simple, focused functionality that does one thing well"
      ]
    },
    {
      "cell_type": "code",
      "execution_count": 40,
      "metadata": {},
      "outputs": [],
      "source": [
        "# Create test documents with content and metadata\n",
        "documents = [\n",
        "    Document(content=\"This is the first document.\", meta={\"id\": 1, \"source\": \"test\"}),\n",
        "    Document(content=\"This is the second document.\", meta={\"id\": 2, \"source\": \"test\"}),\n",
        "]\n",
        "\n",
        "# Instantiate our custom component\n",
        "prefixer_instance = Prefixer()\n",
        "\n",
        "# Test the component with a sample prefix\n",
        "result = prefixer_instance.run(documents=documents, prefix=\"This is a prefixed document: \")"
      ]
    },
    {
      "cell_type": "code",
      "execution_count": 41,
      "metadata": {},
      "outputs": [
        {
          "data": {
            "text/plain": [
              "{'documents': [Document(id=03eb7c02d8e6ebd20f664812233919ef3127dc4cc37498d17629bc1fa90bd361, content: 'This is a prefixed document: This is the first document.', meta: {'id': 1, 'source': 'test'}),\n",
              "  Document(id=7c2eca9bcef491d45f52f00d3d72771892d128dc99b37bf273b41166b3759707, content: 'This is a prefixed document: This is the second document.', meta: {'id': 2, 'source': 'test'})]}"
            ]
          },
          "execution_count": 41,
          "metadata": {},
          "output_type": "execute_result"
        }
      ],
      "source": [
        "result"
      ]
    },
    {
      "cell_type": "markdown",
      "metadata": {},
      "source": [
        "## Using Components in Pipelines\n",
        "\n",
        "### Pipeline Integration\n",
        "\n",
        "Now that we've tested our component standalone, let's see how it integrates into a Haystack pipeline. This is where custom components truly shine!\n",
        "\n",
        "### Pipeline Architecture\n",
        "\n",
        "```\n",
        "Document Store → Prefixer → Output\n",
        "```\n",
        "\n",
        "The beauty of custom components is that they can be seamlessly connected with other Haystack components to create complex processing workflows."
      ]
    },
    {
      "cell_type": "code",
      "execution_count": 44,
      "metadata": {},
      "outputs": [
        {
          "data": {
            "text/plain": [
              "<haystack.core.pipeline.pipeline.Pipeline object at 0x112901550>\n",
              "🚅 Components\n",
              "  - prefixer: Prefixer\n",
              "  - writer: DocumentWriter\n",
              "🛤️ Connections\n",
              "  - prefixer.documents -> writer.documents (List[Document])"
            ]
          },
          "execution_count": 44,
          "metadata": {},
          "output_type": "execute_result"
        }
      ],
      "source": [
        "from haystack import Pipeline\n",
        "from haystack.document_stores.in_memory import InMemoryDocumentStore\n",
        "from haystack.components.writers import DocumentWriter\n",
        "\n",
        "# Create an in-memory document store\n",
        "document_store = InMemoryDocumentStore()\n",
        "\n",
        "prefixer = Prefixer()\n",
        "\n",
        "# Create a document writer component to save documents to the store\n",
        "writer = DocumentWriter(document_store=document_store)\n",
        "\n",
        "# Create a simple pipeline with our custom component\n",
        "pipeline = Pipeline()\n",
        "\n",
        "# Add our custom component to the pipeline\n",
        "pipeline.add_component(\"prefixer\", prefixer)\n",
        "pipeline.add_component(\"writer\", writer)\n",
        "\n",
        "# Connect the components in the pipeline\n",
        "pipeline.connect(\"prefixer\", \"writer.documents\")"
      ]
    },
    {
      "cell_type": "code",
      "execution_count": 45,
      "metadata": {},
      "outputs": [],
      "source": [
        "pipeline.draw(path=\"./images/prefixed_custom_component_pipeline.png\")"
      ]
    },
    {
      "cell_type": "markdown",
      "metadata": {},
      "source": [
        "![](./images/prefixed_custom_component_pipeline.png)"
      ]
    },
    {
      "cell_type": "code",
      "execution_count": 46,
      "metadata": {},
      "outputs": [
        {
          "data": {
            "text/plain": [
              "{'writer': {'documents_written': 2}}"
            ]
          },
          "execution_count": 46,
          "metadata": {},
          "output_type": "execute_result"
        }
      ],
      "source": [
        "pipeline.run({\"prefixer\": {\"documents\": documents, \"prefix\": \"This is a prefixed document: \"}})"
      ]
    },
    {
      "cell_type": "code",
      "execution_count": 47,
      "metadata": {},
      "outputs": [
        {
          "data": {
            "text/plain": [
              "[Document(id=03eb7c02d8e6ebd20f664812233919ef3127dc4cc37498d17629bc1fa90bd361, content: 'This is a prefixed document: This is the first document.', meta: {'id': 1, 'source': 'test'}),\n",
              " Document(id=7c2eca9bcef491d45f52f00d3d72771892d128dc99b37bf273b41166b3759707, content: 'This is a prefixed document: This is the second document.', meta: {'id': 2, 'source': 'test'})]"
            ]
          },
          "execution_count": 47,
          "metadata": {},
          "output_type": "execute_result"
        }
      ],
      "source": [
        "document_store.filter_documents()"
      ]
    },
    {
      "cell_type": "markdown",
      "metadata": {},
      "source": [
        "That's it! We've defined a custom component that can connect to existing Haystack components in a pipeline."
      ]
    }
  ],
  "metadata": {
    "colab": {
      "provenance": []
    },
    "kernelspec": {
      "display_name": "rag-with-haystack-ch5",
      "language": "python",
      "name": "python3"
    },
    "language_info": {
      "codemirror_mode": {
        "name": "ipython",
        "version": 3
      },
      "file_extension": ".py",
      "mimetype": "text/x-python",
      "name": "python",
      "nbconvert_exporter": "python",
      "pygments_lexer": "ipython3",
      "version": "3.12.4"
    }
  },
  "nbformat": 4,
  "nbformat_minor": 0
}
