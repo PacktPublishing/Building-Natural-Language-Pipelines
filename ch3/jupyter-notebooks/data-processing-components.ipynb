{
 "cells": [
  {
   "cell_type": "markdown",
   "metadata": {},
   "source": [
    "### Data preprocessing components: \n",
    "\n",
    "* DocumentCleaner \n",
    "\n",
    "* DocumentSplitter \n",
    "\n",
    "### Data extraction components: \n",
    "\n",
    "* LinkContentFetcher \n",
    "\n",
    "### Data caching components: \n",
    "\n",
    "* URLCacheChecker \n",
    "\n",
    "### Audio to text processing components: \n",
    "\n",
    "* LocalWhisperTranscriber \n",
    "\n",
    "* RemoteWhisperTranscriber \n",
    "\n",
    "### File converter components: \n",
    "\n",
    "* AzureOCRDocumentConverter \n",
    "\n",
    "* HTMLToDocument \n",
    "\n",
    "* MarkdownToDocument \n",
    "\n",
    "* PyPDFToDocument \n",
    "\n",
    "* TikaDocumentConverter \n",
    "\n",
    "* TextFileToDocument \n",
    "\n",
    "### Language classifier components: \n",
    "\n",
    "* DocumentLanguageClassifier \n",
    "\n",
    "* TextLanguageClassifier "
   ]
  },
  {
   "cell_type": "markdown",
   "metadata": {},
   "source": [
    "### Document Cleaner"
   ]
  },
  {
   "cell_type": "code",
   "execution_count": 4,
   "metadata": {},
   "outputs": [],
   "source": [
    "from haystack.preview.components.preprocessors import DocumentCleaner \n",
    "from haystack.preview.dataclasses import Document"
   ]
  },
  {
   "cell_type": "markdown",
   "metadata": {},
   "source": [
    "Simple instance removing extra white spaces, specific characters. We can also remove special characters."
   ]
  },
  {
   "cell_type": "code",
   "execution_count": 21,
   "metadata": {},
   "outputs": [
    {
     "name": "stdout",
     "output_type": "stream",
     "text": [
      "Cleaned Document Content: This is a simple document With some extra spaces and punctuation\n"
     ]
    }
   ],
   "source": [
    "# Define a regular expression for removing exclamation marks and punctuation\n",
    "punctuation_regex = r\"[!\\\"#$%&'()*+,-./:;<=>?@[\\\\]^_`{|}~]\"\n",
    "\n",
    "# Create an instance of DocumentCleaner with the regex\n",
    "cleaner = DocumentCleaner(\n",
    "    remove_empty_lines=True,\n",
    "    remove_extra_whitespaces=True,\n",
    "    remove_repeated_substrings=False,\n",
    "    remove_substrings=punctuation_regex,\n",
    "    remove_regex=None\n",
    ")\n",
    "\n",
    "# Sample document with exclamation marks and punctuation\n",
    "sample_document = Document(content=\"This is a simple document! <<With some extra spaces... and punctuation!!\", meta={\"name\": \"test_doc\"})\n",
    "\n",
    "# Using the cleaner\n",
    "cleaned_documents = cleaner.run([sample_document])\n",
    "\n",
    "# Extracting the cleaned document\n",
    "cleaned_document = cleaned_documents['documents'][0]\n",
    "\n",
    "# Output the cleaned content\n",
    "print(\"Cleaned Document Content:\", cleaned_document.content)"
   ]
  },
  {
   "cell_type": "code",
   "execution_count": null,
   "metadata": {},
   "outputs": [],
   "source": []
  }
 ],
 "metadata": {
  "kernelspec": {
   "display_name": "llm-pipelines",
   "language": "python",
   "name": "python3"
  },
  "language_info": {
   "codemirror_mode": {
    "name": "ipython",
    "version": 3
   },
   "file_extension": ".py",
   "mimetype": "text/x-python",
   "name": "python",
   "nbconvert_exporter": "python",
   "pygments_lexer": "ipython3",
   "version": "3.10.0"
  }
 },
 "nbformat": 4,
 "nbformat_minor": 2
}
