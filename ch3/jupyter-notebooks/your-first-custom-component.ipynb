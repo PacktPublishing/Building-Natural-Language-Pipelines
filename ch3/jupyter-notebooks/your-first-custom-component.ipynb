{
 "cells": [
  {
   "cell_type": "markdown",
   "id": "4dcb6566",
   "metadata": {},
   "source": [
    "The Anatomy of a Custom Component\n",
    "\n",
    "To be recognized and used by a Haystack Pipeline, a custom component class must adhere to a simple contract 22:\n",
    "\n",
    "- The `@component` Decorator: This class decorator is mandatory. It registers the class with the Haystack framework, signaling that it can be instantiated and added to a pipeline.\n",
    "- A `run()` Method: Every component must have a `run()` method. This is the entry point for the component's logic. The parameters of the run() method automatically become the component's input sockets.\n",
    "- The` @component.output_types(...)` Decorator: This method decorator is used on the `run()` method to declare the names and data types of the component's output sockets. This information is crucial for the pipeline's validation logic.\n",
    "- A Dictionary Return Value: The `run()` method must return a Python dictionary. The keys of this dictionary must exactly match the output socket names declared in the `@component.output_types decorator`.\n"
   ]
  },
  {
   "cell_type": "code",
   "execution_count": 2,
   "id": "2847e88e",
   "metadata": {},
   "outputs": [],
   "source": [
    "# Import necessary classes from Haystack\n",
    "from typing import List\n",
    "from haystack import component\n",
    "from haystack.dataclasses import Document\n",
    "\n",
    "# 1. Apply the @component decorator to the class\n",
    "@component\n",
    "class Prefixer:\n",
    "    \"\"\"\n",
    "    A custom component that adds a specified prefix to the content of each Document.\n",
    "    \"\"\"\n",
    "\n",
    "    # The __init__ method is standard Python. It's used to initialize the component's state.\n",
    "    # In this simple case, it's not strictly necessary, but it's good practice to include.\n",
    "    def __init__(self):\n",
    "        pass\n",
    "\n",
    "    # 3. Apply the @component.output_types decorator to the run method\n",
    "    # This declares that our component has one output socket named 'documents',\n",
    "    # and it will produce a list of Document objects.\n",
    "    @component.output_types(documents=List)\n",
    "    def run(self, documents: List, prefix: str):\n",
    "        \"\"\"\n",
    "        The main logic of the component.\n",
    "        \n",
    "        :param documents: A list of Document objects to be processed.\n",
    "        :param prefix: The string prefix to add to each document's content.\n",
    "        :return: A dictionary containing the list of modified documents.\n",
    "        \"\"\"\n",
    "        \n",
    "        # 2. The parameters 'documents' and 'prefix' become the input sockets.\n",
    "        \n",
    "        modified_documents = [\n",
    "            Document(\n",
    "                content=f\"{prefix}{doc.content}\",\n",
    "                meta=doc.meta\n",
    "            ) for doc in documents\n",
    "        ]\n",
    "        for doc in documents:\n",
    "            # Create a new Document to avoid modifying the original in place\n",
    "            new_doc = Document(\n",
    "                content=f\"{prefix}{doc.content}\",\n",
    "                meta=doc.meta\n",
    "            )\n",
    "            modified_documents.append(new_doc)\n",
    "            \n",
    "        # 4. Return a dictionary where the key matches the declared output socket name.\n",
    "        return {\"documents\": modified_documents}\n",
    "\n"
   ]
  },
  {
   "cell_type": "code",
   "execution_count": null,
   "id": "4ed67a45",
   "metadata": {},
   "outputs": [
    {
     "ename": "TypeError",
     "evalue": "'Document' object is not iterable",
     "output_type": "error",
     "traceback": [
      "\u001b[31m---------------------------------------------------------------------------\u001b[39m",
      "\u001b[31mTypeError\u001b[39m                                 Traceback (most recent call last)",
      "\u001b[36mCell\u001b[39m\u001b[36m \u001b[39m\u001b[32mIn[7]\u001b[39m\u001b[32m, line 12\u001b[39m\n\u001b[32m      9\u001b[39m prefix_string = \u001b[33m\"\u001b[39m\u001b[33mNOTE: \u001b[39m\u001b[33m\"\u001b[39m\n\u001b[32m     11\u001b[39m \u001b[38;5;66;03m# Run the component directly\u001b[39;00m\n\u001b[32m---> \u001b[39m\u001b[32m12\u001b[39m result_standalone = \u001b[43mprefixer_inst\u001b[49m\u001b[43m.\u001b[49m\u001b[43mrun\u001b[49m\u001b[43m(\u001b[49m\u001b[43mdocuments\u001b[49m\u001b[43m=\u001b[49m\u001b[43mdocs_to_prefix\u001b[49m\u001b[43m,\u001b[49m\u001b[43m \u001b[49m\u001b[43mprefix\u001b[49m\u001b[43m=\u001b[49m\u001b[43mprefix_string\u001b[49m\u001b[43m)\u001b[49m\n\u001b[32m     14\u001b[39m \u001b[38;5;28mprint\u001b[39m(\u001b[33m\"\u001b[39m\u001b[33m--- Stand-Alone Usage ---\u001b[39m\u001b[33m\"\u001b[39m)\n\u001b[32m     15\u001b[39m \u001b[38;5;28mprint\u001b[39m(\u001b[33mf\u001b[39m\u001b[33m\"\u001b[39m\u001b[33mOriginal content: \u001b[39m\u001b[33m'\u001b[39m\u001b[38;5;132;01m{\u001b[39;00mdocs_to_prefix.content\u001b[38;5;132;01m}\u001b[39;00m\u001b[33m'\u001b[39m\u001b[33m\"\u001b[39m)\n",
      "\u001b[36mCell\u001b[39m\u001b[36m \u001b[39m\u001b[32mIn[2]\u001b[39m\u001b[32m, line 33\u001b[39m, in \u001b[36mPrefixer.run\u001b[39m\u001b[34m(self, documents, prefix)\u001b[39m\n\u001b[32m     23\u001b[39m \u001b[38;5;250m\u001b[39m\u001b[33;03m\"\"\"\u001b[39;00m\n\u001b[32m     24\u001b[39m \u001b[33;03mThe main logic of the component.\u001b[39;00m\n\u001b[32m     25\u001b[39m \n\u001b[32m   (...)\u001b[39m\u001b[32m     28\u001b[39m \u001b[33;03m:return: A dictionary containing the list of modified documents.\u001b[39;00m\n\u001b[32m     29\u001b[39m \u001b[33;03m\"\"\"\u001b[39;00m\n\u001b[32m     31\u001b[39m \u001b[38;5;66;03m# 2. The parameters 'documents' and 'prefix' become the input sockets.\u001b[39;00m\n\u001b[32m---> \u001b[39m\u001b[32m33\u001b[39m modified_documents = \u001b[43m[\u001b[49m\n\u001b[32m     34\u001b[39m \u001b[43m    \u001b[49m\u001b[43mDocument\u001b[49m\u001b[43m(\u001b[49m\n\u001b[32m     35\u001b[39m \u001b[43m        \u001b[49m\u001b[43mcontent\u001b[49m\u001b[43m=\u001b[49m\u001b[33;43mf\u001b[39;49m\u001b[33;43m\"\u001b[39;49m\u001b[38;5;132;43;01m{\u001b[39;49;00m\u001b[43mprefix\u001b[49m\u001b[38;5;132;43;01m}\u001b[39;49;00m\u001b[38;5;132;43;01m{\u001b[39;49;00m\u001b[43mdoc\u001b[49m\u001b[43m.\u001b[49m\u001b[43mcontent\u001b[49m\u001b[38;5;132;43;01m}\u001b[39;49;00m\u001b[33;43m\"\u001b[39;49m\u001b[43m,\u001b[49m\n\u001b[32m     36\u001b[39m \u001b[43m        \u001b[49m\u001b[43mmeta\u001b[49m\u001b[43m=\u001b[49m\u001b[43mdoc\u001b[49m\u001b[43m.\u001b[49m\u001b[43mmeta\u001b[49m\n\u001b[32m     37\u001b[39m \u001b[43m    \u001b[49m\u001b[43m)\u001b[49m\u001b[43m \u001b[49m\u001b[38;5;28;43;01mfor\u001b[39;49;00m\u001b[43m \u001b[49m\u001b[43mdoc\u001b[49m\u001b[43m \u001b[49m\u001b[38;5;129;43;01min\u001b[39;49;00m\u001b[43m \u001b[49m\u001b[43mdocuments\u001b[49m\n\u001b[32m     38\u001b[39m \u001b[43m\u001b[49m\u001b[43m]\u001b[49m\n\u001b[32m     39\u001b[39m \u001b[38;5;28;01mfor\u001b[39;00m doc \u001b[38;5;129;01min\u001b[39;00m documents:\n\u001b[32m     40\u001b[39m     \u001b[38;5;66;03m# Create a new Document to avoid modifying the original in place\u001b[39;00m\n\u001b[32m     41\u001b[39m     new_doc = Document(\n\u001b[32m     42\u001b[39m         content=\u001b[33mf\u001b[39m\u001b[33m\"\u001b[39m\u001b[38;5;132;01m{\u001b[39;00mprefix\u001b[38;5;132;01m}\u001b[39;00m\u001b[38;5;132;01m{\u001b[39;00mdoc.content\u001b[38;5;132;01m}\u001b[39;00m\u001b[33m\"\u001b[39m,\n\u001b[32m     43\u001b[39m         meta=doc.meta\n\u001b[32m     44\u001b[39m     )\n",
      "\u001b[31mTypeError\u001b[39m: 'Document' object is not iterable"
     ]
    }
   ],
   "source": [
    "# --- Using the Custom Component Stand-Alone ---\n",
    "\n",
    "# Create an instance of our new component\n",
    "prefixer_inst = Prefixer()\n",
    "\n",
    "# Prepare some input data\n",
    "docs_to_prefix = Document(content=\"This is the first document.\")\n",
    "\n",
    "prefix_string = \"NOTE: \"\n",
    "\n",
    "# Run the component directly\n",
    "result_standalone = prefixer_inst.run(documents=docs_to_prefix, prefix=prefix_string)\n",
    "\n",
    "print(\"--- Stand-Alone Usage ---\")\n",
    "print(f\"Original content: '{docs_to_prefix.content}'\")\n",
    "print(f\"Prefixed content: '{result_standalone['documents'].content}'\")\n",
    "\n"
   ]
  },
  {
   "cell_type": "code",
   "execution_count": null,
   "id": "d11ad434",
   "metadata": {},
   "outputs": [],
   "source": [
    "# --- Using the Custom Component in a Pipeline ---\n",
    "\n",
    "from haystack import Pipeline\n",
    "\n",
    "# Create a new pipeline\n",
    "prefix_pipeline = Pipeline()\n",
    "\n",
    "# Add our custom component instance to the pipeline\n",
    "prefix_pipeline.add_component(name=\"text_prefixer\", instance=prefixer_inst)\n",
    "\n",
    "# Visualize the pipeline (it will just be a single node)\n",
    "prefix_pipeline.draw(\"prefix_pipeline.png\")\n",
    "print(\"\\nPipeline visualization saved to 'prefix_pipeline.png'\")\n",
    "\n",
    "# Run the pipeline\n",
    "pipeline_run_data = {\n",
    "    \"text_prefixer\": {\n",
    "        \"documents\": docs_to_prefix,\n",
    "        \"prefix\": \"PIPELINE SAYS: \"\n",
    "    }\n",
    "}\n",
    "result_pipeline = prefix_pipeline.run(pipeline_run_data)\n",
    "\n",
    "print(\"\\n--- Pipeline Usage ---\")\n",
    "print(f\"Pipeline output content: '{result_pipeline['text_prefixer']['documents'].content}'\")\n",
    "\n",
    "\n"
   ]
  }
 ],
 "metadata": {
  "kernelspec": {
   "display_name": "rag-with-haystack-ch3",
   "language": "python",
   "name": "python3"
  },
  "language_info": {
   "codemirror_mode": {
    "name": "ipython",
    "version": 3
   },
   "file_extension": ".py",
   "mimetype": "text/x-python",
   "name": "python",
   "nbconvert_exporter": "python",
   "pygments_lexer": "ipython3",
   "version": "3.12.4"
  }
 },
 "nbformat": 4,
 "nbformat_minor": 5
}
