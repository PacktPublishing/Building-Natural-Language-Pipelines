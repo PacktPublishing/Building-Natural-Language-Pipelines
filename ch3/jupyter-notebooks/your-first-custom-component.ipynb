{
 "cells": [
  {
   "cell_type": "markdown",
   "id": "a995daec",
   "metadata": {},
   "source": [
    "# Creating Your First Custom Haystack Component\n",
    "This notebook demonstrates how to design, implement, and use a custom component in Haystack. Each step is explained to help you understand the requirements and best practices for custom pipeline components."
   ]
  },
  {
   "cell_type": "markdown",
   "id": "b4253bf3",
   "metadata": {},
   "source": [
    "## 1. Anatomy of a Custom Component\n",
    "A custom component must follow a contract: use the `@component` decorator, define a `run()` method, declare output types, and return a dictionary matching the output socket names."
   ]
  },
  {
   "cell_type": "markdown",
   "id": "4dcb6566",
   "metadata": {},
   "source": [
    "\n",
    "- The `@component` Decorator: This class decorator is mandatory. It registers the class with the Haystack framework, signaling that it can be instantiated and added to a pipeline.\n",
    "- A `run()` Method: Every component must have a `run()` method. This is the entry point for the component's logic. The parameters of the run() method automatically become the component's input sockets.\n",
    "- The` @component.output_types(...)` Decorator: This method decorator is used on the `run()` method to declare the names and data types of the component's output sockets. This information is crucial for the pipeline's validation logic.\n",
    "- A Dictionary Return Value: The `run()` method must return a Python dictionary. The keys of this dictionary must exactly match the output socket names declared in the `@component.output_types decorator`.\n"
   ]
  },
  {
   "cell_type": "markdown",
   "id": "c6856ca3",
   "metadata": {},
   "source": [
    "## 2. Implementing the Component\n",
    "Here, we implement a simple `Prefixer` component that adds a prefix to each document's content. The code demonstrates the use of decorators, input/output sockets, and the required return structure."
   ]
  },
  {
   "cell_type": "code",
   "execution_count": 1,
   "id": "2847e88e",
   "metadata": {},
   "outputs": [],
   "source": [
    "# Import necessary classes from Haystack\n",
    "from typing import List\n",
    "from haystack import component\n",
    "from haystack.dataclasses import Document\n",
    "\n",
    "# 1. Apply the @component decorator to the class\n",
    "@component\n",
    "class Prefixer:\n",
    "    \"\"\"\n",
    "    A custom component that adds a specified prefix to the content of each Document.\n",
    "    \"\"\"\n",
    "\n",
    "    # The __init__ method is standard Python. It's used to initialize the component's state.\n",
    "    # In this simple case, it's not strictly necessary, but it's good practice to include.\n",
    "    def __init__(self):\n",
    "        pass\n",
    "\n",
    "    # 3. Apply the @component.output_types decorator to the run method\n",
    "    # This declares that our component has one output socket named 'documents',\n",
    "    # and it will produce a list of Document objects.\n",
    "    @component.output_types(documents=List)\n",
    "    def run(self, documents: List, prefix: str):\n",
    "        \"\"\"\n",
    "        The main logic of the component.\n",
    "        \n",
    "        :param documents: A list of Document objects to be processed.\n",
    "        :param prefix: The string prefix to add to each document's content.\n",
    "        :return: A dictionary containing the list of modified documents.\n",
    "        \"\"\"\n",
    "        \n",
    "        # 2. The parameters 'documents' and 'prefix' become the input sockets.\n",
    "        \n",
    "        modified_documents = [\n",
    "            Document(\n",
    "                content=f\"{prefix}{doc.content}\",\n",
    "                meta=doc.meta\n",
    "            ) for doc in documents\n",
    "        ]\n",
    "        for doc in documents:\n",
    "            # Create a new Document to avoid modifying the original in place\n",
    "            new_doc = Document(\n",
    "                content=f\"{prefix}{doc.content}\",\n",
    "                meta=doc.meta\n",
    "            )\n",
    "            modified_documents.append(new_doc)\n",
    "            \n",
    "        # 4. Return a dictionary where the key matches the declared output socket name.\n",
    "        return {\"documents\": modified_documents}\n",
    "\n"
   ]
  },
  {
   "cell_type": "markdown",
   "id": "9cdd7644",
   "metadata": {},
   "source": [
    "## 3. Using the Component Stand-Alone\n",
    "You can use your custom component directly by instantiating it and calling its `run()` method with the required inputs. This is useful for testing and debugging."
   ]
  },
  {
   "cell_type": "code",
   "execution_count": 2,
   "id": "4ed67a45",
   "metadata": {},
   "outputs": [
    {
     "name": "stdout",
     "output_type": "stream",
     "text": [
      "--- Stand-Alone Usage ---\n",
      "Original content: '[Document(id=44c92a45a97fb23eaed24a20fc80da937d53735b23ea60550fea1c4654a8a370, content: 'This is the first document.')]'\n",
      "Prefixed content: '[Document(id=0447674a97fdc33bbaad5b18a097a4bec5322e7245d4097c1967f0c4a05dd5e0, content: 'NOTE: This is the first document.'), Document(id=0447674a97fdc33bbaad5b18a097a4bec5322e7245d4097c1967f0c4a05dd5e0, content: 'NOTE: This is the first document.')]'\n"
     ]
    }
   ],
   "source": [
    "# --- Using the Custom Component Stand-Alone ---\n",
    "\n",
    "# Create an instance of our new component\n",
    "prefixer_inst = Prefixer()\n",
    "\n",
    "# Prepare some input data\n",
    "docs_to_prefix = [Document(content=\"This is the first document.\")]\n",
    "\n",
    "prefix_string = \"NOTE: \"\n",
    "\n",
    "# Run the component directly\n",
    "result_standalone = prefixer_inst.run(documents=docs_to_prefix, prefix=prefix_string)\n",
    "\n",
    "print(\"--- Stand-Alone Usage ---\")\n",
    "print(f\"Original content: '{docs_to_prefix}'\")\n",
    "print(f\"Prefixed content: '{result_standalone['documents']}'\")\n",
    "\n"
   ]
  },
  {
   "cell_type": "markdown",
   "id": "3f27f99a",
   "metadata": {},
   "source": [
    "## 4. Using the Component in a Pipeline\n",
    "Custom components can be added to Haystack pipelines just like built-in ones. Here, we add our `Prefixer` to a pipeline, visualize it, and run it with input data."
   ]
  },
  {
   "cell_type": "code",
   "execution_count": 3,
   "id": "d11ad434",
   "metadata": {},
   "outputs": [
    {
     "name": "stdout",
     "output_type": "stream",
     "text": [
      "\n",
      "Pipeline visualization saved to 'prefix_pipeline.png'\n",
      "\n",
      "--- Pipeline Usage ---\n",
      "Pipeline output content: '[Document(id=f9debae54dbac12e133b4f9ac0c189dd798c383b77e6f43a77bf3a0c67eb4a86, content: 'PIPELINE SAYS: This is the first document.'), Document(id=f9debae54dbac12e133b4f9ac0c189dd798c383b77e6f43a77bf3a0c67eb4a86, content: 'PIPELINE SAYS: This is the first document.')]'\n"
     ]
    }
   ],
   "source": [
    "# --- Using the Custom Component in a Pipeline ---\n",
    "\n",
    "from haystack import Pipeline\n",
    "\n",
    "# Create a new pipeline\n",
    "prefix_pipeline = Pipeline()\n",
    "\n",
    "# Add our custom component instance to the pipeline\n",
    "prefix_pipeline.add_component(name=\"text_prefixer\", instance=prefixer_inst)\n",
    "\n",
    "# Visualize the pipeline (it will just be a single node)\n",
    "prefix_pipeline.draw(path=\"./images/prefix_pipeline.png\")\n",
    "print(\"\\nPipeline visualization saved to 'prefix_pipeline.png'\")\n",
    "\n",
    "# Run the pipeline\n",
    "pipeline_run_data = {\n",
    "    \"text_prefixer\": {\n",
    "        \"documents\": docs_to_prefix,\n",
    "        \"prefix\": \"PIPELINE SAYS: \"\n",
    "    }\n",
    "}\n",
    "result_pipeline = prefix_pipeline.run(pipeline_run_data)\n",
    "\n",
    "print(\"\\n--- Pipeline Usage ---\")\n",
    "print(f\"Pipeline output content: '{result_pipeline['text_prefixer']['documents']}'\")\n",
    "\n",
    "\n"
   ]
  },
  {
   "cell_type": "markdown",
   "id": "5637c3c6",
   "metadata": {},
   "source": [
    "![](./images/prefix_pipeline.png)"
   ]
  },
  {
   "cell_type": "code",
   "execution_count": null,
   "id": "5bcfc820",
   "metadata": {},
   "outputs": [],
   "source": []
  },
  {
   "cell_type": "markdown",
   "id": "f48029c8",
   "metadata": {},
   "source": [
    "---\n",
    "## Summary and Next Steps\n",
    "You have now created, tested, and used a custom Haystack component in a pipeline. Try extending the component or combining it with others for more complex workflows!"
   ]
  }
 ],
 "metadata": {
  "kernelspec": {
   "display_name": "rag-with-haystack-ch3",
   "language": "python",
   "name": "python3"
  },
  "language_info": {
   "codemirror_mode": {
    "name": "ipython",
    "version": 3
   },
   "file_extension": ".py",
   "mimetype": "text/x-python",
   "name": "python",
   "nbconvert_exporter": "python",
   "pygments_lexer": "ipython3",
   "version": "3.12.4"
  }
 },
 "nbformat": 4,
 "nbformat_minor": 5
}
