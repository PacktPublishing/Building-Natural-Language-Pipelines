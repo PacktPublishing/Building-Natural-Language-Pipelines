{
 "cells": [
  {
   "cell_type": "markdown",
   "metadata": {},
   "source": [
    "# Building blocks in Haystack: components and pipelines\n",
    "\n",
    "Haystack's architecture leverages components as its core elements, each performing specific functions like text processing or summarization. These components are designed to be connected into pipelines, which orchestrate the flow of data and manage task execution in a structured manner. The Pipeline class facilitates this by allowing the addition and connection of components, which must have unique input and output points for data transfer.\n",
    "\n",
    "Pipelines are the backbone of NLP applications in Haystack, functioning as directed graphs where nodes are components and edges dictate data flow. They ensure smooth data processing, handle errors, and support debugging through visualization tools that help developers trace and optimize the data journey.\n",
    "\n",
    "Haystack emphasizes modularity and flexibility, providing a range of pre-built components while also supporting custom ones for specific needs. The framework's pipelines enable the assembly of sophisticated NLP applications, integrating various functionalities into a cohesive system. In this notebook we will explore key components. In  the pipelines.ipynb notebook we will see how to connect them into pipelines."
   ]
  },
  {
   "cell_type": "markdown",
   "metadata": {},
   "source": [
    "### Set up\n",
    "\n",
    "If you have completed the following, you may discard this information. Otherwise, as a reminder and to ease installation, you can follow the instructions below.  \n",
    "\n",
    "Throughout this book we will be using pip and conda for package management. We will also create an isolated conda environment with Python 3.10.  \n",
    "\n",
    "The GitHub repository with exercises can be found here under the folder ch3 https://github.com/PacktPublishing/Building-Natural-Language-Pipelines.   \n",
    "\n",
    "We recommend that you install Miniconda and VSCode. We also recommend that you install GitHub (GitBash for Windows or Git for Linux and Mac) to make the process of accessing the material locally easier.   \n",
    "\n",
    "* Install Miniconda: https://docs.conda.io/projects/miniconda/en/latest/  \n",
    "\n",
    "* Install VSCode: https://code.visualstudio.com/docs/setup/setup-overview  \n",
    "\n",
    "To obtain the code and exercises, clone the repository: \n",
    "\n",
    "Open VSCode, Click File-> New Window, then Terminal ->New Terminal. Ensure your terminal is of type “Bash” or “Command line”.  \n",
    "\n",
    "\n",
    "Within the terminal, type each of the commands (a command is identified by the $ sign) below, one by one. Then press enter.  \n",
    "\n",
    "```bash\n",
    "\n",
    "$ git clone https://github.com/PacktPublishing/Building-Natural-Language-Pipelines.git \n",
    "\n",
    "$ cd building-natural-language-pipelines/ \n",
    "\n",
    "$ conda create –-name llm-pipelines python==3.10 \n",
    "\n",
    "$ conda activate llm-pipelines \n",
    "\n",
    "$ pip install haystack-ai \n",
    "```\n",
    "\n",
    "Enable the Jupyter Notebook extension on VSCode through the extension marketplace. When you open a notebook, press on ‘Select Kernel’ and click on `llm-pipeline` as our environment. "
   ]
  },
  {
   "cell_type": "markdown",
   "metadata": {},
   "source": [
    "### Introduction to components\n",
    "\n",
    "Within Haystack, we can find the following key ready-made components. There are more, but for now we will focus on these as we get started with Haystack's functionality.\n",
    "\n",
    "![](./images/haystack-components.png)"
   ]
  },
  {
   "cell_type": "markdown",
   "metadata": {},
   "source": [
    "### The `DocumentStore` class and the `Document` object\n",
    "\n",
    "The `DocumentStore` class is an internal component of the Haystack library that serves as a registry for classes that are marked as document stores. A document store in Haystack is a place where documents are stored and retrieved, typically used as part of a pipeline to handle data for search and retrieval tasks. \n",
    "\n",
    "The `Document` object is a data structure that represents a document in Haystack. `Document` objects are stored in a `DocumentStore` and are used as input and output for the various components in Haystack.\n"
   ]
  },
  {
   "cell_type": "code",
   "execution_count": 8,
   "metadata": {},
   "outputs": [],
   "source": [
    "from haystack.preview.dataclasses import Document, ByteStream\n",
    "from haystack.preview.document_stores.in_memory.document_store import InMemoryDocumentStore\n",
    "import pandas as pd\n",
    "\n",
    "# Assuming 'binary_data' is your binary data, for example, read from a file:\n",
    "binary_data = b'Your binary data here'  # This could be the actual binary content, such as PDF or image data\n",
    "\n",
    "# Convert binary data to ByteStream object\n",
    "binary_blob = ByteStream(data=binary_data, mime_type='application/pdf')  # MIME type should match your data\n",
    "\n",
    "# Example metadata\n",
    "metadata = {\n",
    "    \"source\": \"Wikipedia\",\n",
    "    \"author\": \"John Doe\",\n",
    "    \"date\": \"2021-07-21\",\n",
    "    \"custom_field\": \"custom_value\"\n",
    "}\n",
    "\n",
    "# Pandas dataframe for tabular data\n",
    "df = pd.DataFrame.from_dict({'first_name': ['John', 'Jane'], 'last_name': ['Doe', 'Doe'], 'age': [35, 38]})\n",
    "\n",
    "# Create documents\n",
    "documents = [\n",
    "    Document(content=\"The population of Germany is 100 million people.\", id=\"1\"),\n",
    "    Document(content=\"About 65 million people live in France as of today.\", id='2'),\n",
    "    Document(dataframe=df, id='3'),\n",
    "    Document(blob=binary_blob, meta={\"file_name\": \"example.pdf\", \"file_type\": \"PDF\"}, id='4'),\n",
    "    Document(content=\"A sample text document with metadata.\", meta=metadata, id='5')\n",
    "]\n",
    "\n",
    "# Write documents to document store\n",
    "docstore = InMemoryDocumentStore()\n",
    "docstore.write_documents(documents=documents)\n"
   ]
  },
  {
   "cell_type": "markdown",
   "metadata": {},
   "source": [
    "### Filtering document information"
   ]
  },
  {
   "cell_type": "markdown",
   "metadata": {},
   "source": [
    "Find all documents - no filter"
   ]
  },
  {
   "cell_type": "code",
   "execution_count": 44,
   "metadata": {},
   "outputs": [
    {
     "data": {
      "text/plain": [
       "[Document(id='1', content='The population of Germany is 100 million people.', dataframe=None, blob=None, meta={}, score=None),\n",
       " Document(id='2', content='About 65 million people live in France as of today.', dataframe=None, blob=None, meta={}, score=None),\n",
       " Document(id='3', content=None, dataframe=  first_name last_name  age\n",
       " 0       John       Doe   35\n",
       " 1       Jane       Doe   38, blob=None, meta={}, score=None),\n",
       " Document(id='4', content=None, dataframe=None, blob=ByteStream(data=b'Your binary data here', metadata={}, mime_type='application/pdf'), meta={'file_name': 'example.pdf', 'file_type': 'PDF'}, score=None),\n",
       " Document(id='5', content='A sample text document with metadata.', dataframe=None, blob=None, meta={'source': 'Wikipedia', 'author': 'John Doe', 'date': '2021-07-21', 'custom_field': 'custom_value'}, score=None)]"
      ]
     },
     "execution_count": 44,
     "metadata": {},
     "output_type": "execute_result"
    }
   ],
   "source": [
    "docstore.filter_documents()"
   ]
  },
  {
   "cell_type": "markdown",
   "metadata": {},
   "source": [
    "To find a document using exact match\n"
   ]
  },
  {
   "cell_type": "code",
   "execution_count": 25,
   "metadata": {},
   "outputs": [
    {
     "data": {
      "text/plain": [
       "[Document(id='1', content='The population of Germany is 100 million people.', dataframe=None, blob=None, meta={}, score=None)]"
      ]
     },
     "execution_count": 25,
     "metadata": {},
     "output_type": "execute_result"
    }
   ],
   "source": [
    "filters_exact_match = {\n",
    "    \"content\": {\"$eq\": \"The population of Germany is 100 million people.\"}\n",
    "}\n",
    "docstore.filter_documents(filters=filters_exact_match)\n"
   ]
  },
  {
   "cell_type": "code",
   "execution_count": 51,
   "metadata": {},
   "outputs": [
    {
     "data": {
      "text/plain": [
       "0    35\n",
       "1    38\n",
       "Name: age, dtype: int64"
      ]
     },
     "execution_count": 51,
     "metadata": {},
     "output_type": "execute_result"
    }
   ],
   "source": [
    "df_doc = Document(dataframe=df, id='3')\n",
    "\n",
    "df_doc.dataframe.age"
   ]
  },
  {
   "cell_type": "markdown",
   "metadata": {},
   "source": [
    "Find entries that are not of content type"
   ]
  },
  {
   "cell_type": "code",
   "execution_count": 45,
   "metadata": {},
   "outputs": [
    {
     "data": {
      "text/plain": [
       "[Document(id='3', content=None, dataframe=  first_name last_name  age\n",
       " 0       John       Doe   35\n",
       " 1       Jane       Doe   38, blob=None, meta={}, score=None),\n",
       " Document(id='4', content=None, dataframe=None, blob=ByteStream(data=b'Your binary data here', metadata={}, mime_type='application/pdf'), meta={'file_name': 'example.pdf', 'file_type': 'PDF'}, score=None)]"
      ]
     },
     "execution_count": 45,
     "metadata": {},
     "output_type": "execute_result"
    }
   ],
   "source": [
    "filters_exact_match = {\n",
    "    \"content\": {\"$eq\": None}\n",
    "}\n",
    "docstore.filter_documents(filters=filters_exact_match)\n"
   ]
  },
  {
   "cell_type": "code",
   "execution_count": null,
   "metadata": {},
   "outputs": [],
   "source": []
  }
 ],
 "metadata": {
  "kernelspec": {
   "display_name": "llm-pipelines",
   "language": "python",
   "name": "python3"
  },
  "language_info": {
   "codemirror_mode": {
    "name": "ipython",
    "version": 3
   },
   "file_extension": ".py",
   "mimetype": "text/x-python",
   "name": "python",
   "nbconvert_exporter": "python",
   "pygments_lexer": "ipython3",
   "version": "3.10.0"
  }
 },
 "nbformat": 4,
 "nbformat_minor": 2
}
