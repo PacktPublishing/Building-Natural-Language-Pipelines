{
 "cells": [
  {
   "cell_type": "code",
   "execution_count": 1,
   "id": "a7cd63bb",
   "metadata": {},
   "outputs": [
    {
     "data": {
      "text/plain": [
       "True"
      ]
     },
     "execution_count": 1,
     "metadata": {},
     "output_type": "execute_result"
    }
   ],
   "source": [
    "import os\n",
    "from dotenv import load_dotenv\n",
    "\n",
    "# Load environment variables from.env file\n",
    "load_dotenv(\".env\")\n",
    "\n",
    "# You can now access the API key using os.getenv\n",
    "# openai_api_key = os.getenv(\"OPENAI_API_KEY\")\n"
   ]
  },
  {
   "cell_type": "code",
   "execution_count": 5,
   "id": "fdd45053",
   "metadata": {},
   "outputs": [
    {
     "name": "stdout",
     "output_type": "stream",
     "text": [
      "Pipeline Result:\n",
      "{'llm': {'replies': ['The official language of Rose Island was Italian.'], 'meta': [{'model': 'gpt-4o-mini-2024-07-18', 'index': 0, 'finish_reason': 'stop', 'usage': {'completion_tokens': 9, 'prompt_tokens': 103, 'total_tokens': 112, 'completion_tokens_details': {'accepted_prediction_tokens': 0, 'audio_tokens': 0, 'reasoning_tokens': 0, 'rejected_prediction_tokens': 0}, 'prompt_tokens_details': {'audio_tokens': 0, 'cached_tokens': 0}}}]}}\n"
     ]
    }
   ],
   "source": [
    "from haystack import Pipeline\n",
    "from haystack.components.builders import PromptBuilder\n",
    "from haystack.components.generators import OpenAIGenerator\n",
    "from haystack.utils import Secret\n",
    "from haystack.dataclasses import Document\n",
    "from dotenv import load_dotenv\n",
    "import os\n",
    "\n",
    "load_dotenv()\n",
    "\n",
    "# --- Prepare Data and Components ---\n",
    "\n",
    "# We'll use some simple documents for this example\n",
    "documents_for_pipeline = [\n",
    "    Document(\n",
    "        content=\"Rose Island was a micronation located in the Adriatic Sea. It declared independence in 1968 and had Italian as its official language.\",\n",
    "        meta={\"source\": \"history_docs\", \"author\": \"historian1\"},\n",
    "    ),\n",
    "    Document(\n",
    "        content=\"The capital of Rose Island was called 'Isola delle Rose'. It was known for its unique architecture and vibrant culture.\",\n",
    "        meta={\"source\": \"geography_docs\", \"author\": \"geographer1\"},\n",
    "    ),\n",
    "    Document(\n",
    "        content=\"Rose Island's economy was primarily based on tourism and the sale of souvenirs to visitors.\",\n",
    "        meta={\"source\": \"economy_docs\", \"author\": \"economist1\"},\n",
    "    ),\n",
    "]\n",
    "\n",
    "# Define the prompt template again\n",
    "prompt_template_for_pipeline = \"\"\"\n",
    "Answer the question based on this context.\n",
    "\n",
    "Context:\n",
    "{% for doc in documents %}\n",
    "- {{ doc.content }}\n",
    "{% endfor %}\n",
    "\n",
    "Question: {{ query }}\n",
    "Answer:\n",
    "\"\"\"\n",
    "\n",
    "# Instantiate the components we will use\n",
    "prompt_builder_inst = PromptBuilder(template=prompt_template_for_pipeline,\n",
    "                                    required_variables=\"*\")\n",
    "llm_generator_inst = OpenAIGenerator(api_key=Secret.from_env_var(\"OPENAI_API_KEY\"), model=\"gpt-4o-mini\")\n",
    "\n",
    "\n",
    "# --- Build the Pipeline ---\n",
    "\n",
    "# 1. Instantiate the Pipeline\n",
    "basic_pipeline = Pipeline()\n",
    "\n",
    "# 2. Add Component Instances\n",
    "# We give each component a unique name: \"prompter\" and \"llm\".\n",
    "basic_pipeline.add_component(name=\"prompter\", instance=prompt_builder_inst)\n",
    "basic_pipeline.add_component(name=\"llm\", instance=llm_generator_inst)\n",
    "\n",
    "# 3. Connect the Components\n",
    "# This is the crucial step that defines the data flow.\n",
    "# We connect the 'prompt' output of the 'prompter' component\n",
    "# to the 'prompt' input of the 'llm' component.\n",
    "basic_pipeline.connect(\"prompter.prompt\", \"llm.prompt\")\n",
    "\n",
    "\n",
    "# --- Run the Pipeline ---\n",
    "\n",
    "# The.run() method takes a dictionary as input.\n",
    "# The keys of the dictionary correspond to the names of the components in the pipeline.\n",
    "# The values are dictionaries of the inputs for that component.\n",
    "query_text = \"What was the official language of Rose Island?\"\n",
    "\n",
    "run_data = {\n",
    "    \"prompter\": {\n",
    "        \"query\": query_text,\n",
    "        \"documents\": documents_for_pipeline\n",
    "    }\n",
    "}\n",
    "\n",
    "# Execute the pipeline\n",
    "pipeline_result = basic_pipeline.run(run_data)\n",
    "\n",
    "# The output is a dictionary with the final results from the terminal component(s).\n",
    "print(\"Pipeline Result:\")\n",
    "print(pipeline_result)\n",
    "\n",
    "\n"
   ]
  },
  {
   "cell_type": "code",
   "execution_count": 7,
   "id": "82d7ee10",
   "metadata": {},
   "outputs": [
    {
     "name": "stdout",
     "output_type": "stream",
     "text": [
      "\n",
      "Pipeline visualization saved to './images/prompt_pipeline.png'\n"
     ]
    }
   ],
   "source": [
    "basic_pipeline.draw(path=\"./images/prompt_pipeline.png\")\n",
    "\n",
    "print(\"\\nPipeline visualization saved to './images/prompt_pipeline.png'\")\n"
   ]
  },
  {
   "cell_type": "markdown",
   "id": "72a1ff88",
   "metadata": {},
   "source": [
    "![](./images/prompt_pipeline.png)"
   ]
  },
  {
   "cell_type": "code",
   "execution_count": null,
   "id": "e950284f",
   "metadata": {},
   "outputs": [],
   "source": []
  }
 ],
 "metadata": {
  "kernelspec": {
   "display_name": "rag-with-haystack-ch3",
   "language": "python",
   "name": "python3"
  },
  "language_info": {
   "codemirror_mode": {
    "name": "ipython",
    "version": 3
   },
   "file_extension": ".py",
   "mimetype": "text/x-python",
   "name": "python",
   "nbconvert_exporter": "python",
   "pygments_lexer": "ipython3",
   "version": "3.12.4"
  }
 },
 "nbformat": 4,
 "nbformat_minor": 5
}
