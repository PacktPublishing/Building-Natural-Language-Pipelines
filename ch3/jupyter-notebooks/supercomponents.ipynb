{
 "cells": [
  {
   "cell_type": "markdown",
   "id": "91e8d42a",
   "metadata": {},
   "source": [
    "# Building and Using Supercomponents in Haystack\n",
    "This notebook demonstrates how to create, use, and integrate supercomponents in Haystack pipelines. Each step is explained to help you understand the design and application of supercomponents for modular, reusable workflows."
   ]
  },
  {
   "cell_type": "markdown",
   "id": "1ccf8a66",
   "metadata": {},
   "source": [
    "## 1. Defining a Supercomponent\n",
    "A supercomponent is a class decorated with `@super_component` that encapsulates an internal pipeline of components. This allows you to bundle complex logic into a single reusable unit."
   ]
  },
  {
   "cell_type": "code",
   "execution_count": 1,
   "id": "d748f312",
   "metadata": {},
   "outputs": [],
   "source": [
    "from haystack import Pipeline, super_component\n",
    "from haystack.components.preprocessors import DocumentCleaner, DocumentSplitter\n",
    "from haystack.dataclasses import Document\n",
    "from typing import List\n",
    "\n",
    "# 1. Apply the @super_component decorator to the class\n",
    "@super_component\n",
    "class TextProcessor:\n",
    "    \"\"\"\n",
    "    A Supercomponent that encapsulates a text processing pipeline,\n",
    "    which cleans and then splits documents.\n",
    "    \"\"\"\n",
    "\n",
    "    def __init__(self, clean: bool = True, split_by: str = \"word\", split_length: int = 150, split_overlap: int = 20):\n",
    "        \"\"\"\n",
    "        Initializes the TextProcessor and its internal pipeline.\n",
    "        \n",
    "        :param clean: Whether to run the DocumentCleaner.\n",
    "        :param split_by: The unit to split by ('word', 'sentence', etc.).\n",
    "        :param split_length: The length of each split.\n",
    "        :param split_overlap: The overlap between splits.\n",
    "        \"\"\"\n",
    "        \n",
    "        # 2. Create a Pipeline instance and assign it to self.pipeline\n",
    "        self.pipeline = Pipeline()\n",
    "        \n",
    "        # Add the internal components to the pipeline\n",
    "        if clean:\n",
    "            self.pipeline.add_component(\"cleaner\", DocumentCleaner(\n",
    "                                                remove_empty_lines=True, \n",
    "                                                remove_extra_whitespaces=True\n",
    "            ))\n",
    "            self.pipeline.add_component(\"splitter\", DocumentSplitter(split_by=split_by, \n",
    "                                                                     split_length=split_length, \n",
    "                                                                     split_overlap=split_overlap))\n",
    "            # Connect the internal components\n",
    "            self.pipeline.connect(\"cleaner.documents\", \"splitter.documents\")\n",
    "        else:\n",
    "            # If cleaning is disabled, the splitter is the only component\n",
    "            self.pipeline.add_component(\"splitter\", DocumentSplitter(split_by=split_by, \n",
    "                                                                     split_length=split_length, \n",
    "                                                                     split_overlap=split_overlap))\n",
    "\n",
    "    # The run method is implicitly handled by the @super_component decorator.\n",
    "    # It will automatically expose the input and output sockets of the internal pipeline.\n",
    "    # Input sockets of the first component(s) become the supercomponent's inputs.\n",
    "    # Output sockets of the last component(s) become the supercomponent's outputs.\n",
    "    \n",
    "    # We can define an `input_types` method to tell the supercomponent what to expect.\n",
    "    def input_types(self):\n",
    "        return {\"documents\": List}\n",
    "\n",
    "    # And an `output_types` method to declare what it will produce.\n",
    "    def output_types(self):\n",
    "        return {\"documents\": List}\n"
   ]
  },
  {
   "cell_type": "markdown",
   "id": "0c18cc2a",
   "metadata": {},
   "source": [
    "## 2. Using the Supercomponent\n",
    "You can use your supercomponent just like any other Haystack component. Instantiate it, provide input data, and call its `run()` method. The internal pipeline handles the processing steps."
   ]
  },
  {
   "cell_type": "code",
   "execution_count": 3,
   "id": "a2481758",
   "metadata": {},
   "outputs": [
    {
     "name": "stdout",
     "output_type": "stream",
     "text": [
      "--- Supercomponent Usage ---\n",
      "Processed 3 documents (chunks):\n",
      "- 'This is the first document!!! It has some messy text...' (meta: {'source_id': '410afbde50d05e8ba0d775d12e2965f3ee700c2f90a434e4032dd6e366435776', 'page_number': 1, 'split_id': 0, 'split_idx_start': 0})\n",
      "- 'Here's the second document??? It also needs cleaning!!' (meta: {'source_id': '4b46b073d7a51a6bd293fdc10f5bed67fb70bce6004a50ac874460c7fdd6de02', 'page_number': 1, 'split_id': 0, 'split_idx_start': 0})\n",
      "- '!' (meta: {'source_id': '4b46b073d7a51a6bd293fdc10f5bed67fb70bce6004a50ac874460c7fdd6de02', 'page_number': 1, 'split_id': 1, 'split_idx_start': 54})\n"
     ]
    }
   ],
   "source": [
    "# --- Using the Supercomponent ---\n",
    "\n",
    "# Create an instance of our new supercomponent\n",
    "text_processor_inst = TextProcessor(clean=True,\n",
    "                                    split_by=\"sentence\", \n",
    "                                    split_length=2, \n",
    "                                    split_overlap=0)\n",
    "\n",
    "# Prepare some messy input documents\n",
    "messy_docs = [\n",
    "    Document(content=\"This is     the first document!!! It has some messy text...\"),\n",
    "    Document(content=\"Here's    the second document??? It also needs cleaning!!!\"),\n",
    "]\n",
    "\n",
    "# Run the supercomponent just like a regular component\n",
    "# The input socket 'documents' is automatically mapped to the 'cleaner' component's input.\n",
    "result = text_processor_inst.run(documents=messy_docs)\n",
    "\n",
    "# The output socket 'documents' is automatically mapped from the 'splitter' component's output.\n",
    "processed_docs = result[\"documents\"]\n",
    "\n",
    "print(\"--- Supercomponent Usage ---\")\n",
    "print(f\"Processed {len(processed_docs)} documents (chunks):\")\n",
    "for doc in processed_docs:\n",
    "    print(f\"- '{doc.content}' (meta: {doc.meta})\")"
   ]
  },
  {
   "cell_type": "markdown",
   "id": "9715b9eb",
   "metadata": {},
   "source": [
    "## 3. Integrating Supercomponents in Larger Pipelines\n",
    "Supercomponents can be combined with other components (custom or built-in) in larger pipelines. This enables modular, hierarchical pipeline design for complex workflows."
   ]
  },
  {
   "cell_type": "code",
   "execution_count": 4,
   "id": "0131d7c8",
   "metadata": {},
   "outputs": [
    {
     "name": "stdout",
     "output_type": "stream",
     "text": [
      "\n",
      "Full pipeline visualization saved to 'full_pipeline_with_supercomponent.png'\n",
      "\n",
      "--- Full Pipeline with Supercomponent Result ---\n",
      "- 'PROCESSED: This is the first document!!! It has some messy text...'\n",
      "- 'PROCESSED: Here's the second document??? It also needs cleaning!!'\n",
      "- 'PROCESSED: !'\n"
     ]
    }
   ],
   "source": [
    "# --- Using the Supercomponent in a Larger Pipeline ---\n",
    "\n",
    "# Let's imagine a larger pipeline that also uses our custom Prefixer from the previous section\n",
    "from haystack import component\n",
    "\n",
    "@component\n",
    "class Prefixer:\n",
    "    @component.output_types(documents=List)\n",
    "    def run(self, documents: List, prefix: str):\n",
    "        modified_documents = [\n",
    "            Document(content=f\"{prefix}{doc.content}\", meta=doc.meta) for doc in documents\n",
    "        ]\n",
    "        return {\"documents\": modified_documents}\n",
    "\n",
    "# Create a larger pipeline\n",
    "full_pipeline = Pipeline()\n",
    "\n",
    "# Add our supercomponent and our custom component\n",
    "full_pipeline.add_component(\"processor\", text_processor_inst)\n",
    "full_pipeline.add_component(\"prefixer\", Prefixer())\n",
    "\n",
    "# Connect them together\n",
    "full_pipeline.connect(\"processor.documents\", \"prefixer.documents\")\n",
    "\n",
    "# Visualize the full pipeline\n",
    "full_pipeline.draw(path=\"./images/full_pipeline_with_supercomponent.png\")\n",
    "print(\"\\nFull pipeline visualization saved to 'full_pipeline_with_supercomponent.png'\")\n",
    "\n",
    "# Run the full pipeline\n",
    "full_pipeline_result = full_pipeline.run({\n",
    "    \"processor\": {\"documents\": messy_docs},\n",
    "    \"prefixer\": {\"prefix\": \"PROCESSED: \"}\n",
    "})\n",
    "\n",
    "print(\"\\n--- Full Pipeline with Supercomponent Result ---\")\n",
    "for doc in full_pipeline_result[\"prefixer\"][\"documents\"]:\n",
    "    print(f\"- '{doc.content}'\")\n"
   ]
  },
  {
   "cell_type": "markdown",
   "id": "f6743ace",
   "metadata": {},
   "source": [
    "![](./images/full_pipeline_with_supercomponent.png)"
   ]
  },
  {
   "cell_type": "markdown",
   "id": "530961de",
   "metadata": {},
   "source": [
    "---\n",
    "## Summary and Next Steps\n",
    "You have now created and used a supercomponent, and integrated it into a larger Haystack pipeline. Try building your own supercomponents to encapsulate reusable logic for your projects!"
   ]
  }
 ],
 "metadata": {
  "kernelspec": {
   "display_name": "rag-with-haystack-ch3",
   "language": "python",
   "name": "python3"
  },
  "language_info": {
   "codemirror_mode": {
    "name": "ipython",
    "version": 3
   },
   "file_extension": ".py",
   "mimetype": "text/x-python",
   "name": "python",
   "nbconvert_exporter": "python",
   "pygments_lexer": "ipython3",
   "version": "3.12.4"
  }
 },
 "nbformat": 4,
 "nbformat_minor": 5
}
