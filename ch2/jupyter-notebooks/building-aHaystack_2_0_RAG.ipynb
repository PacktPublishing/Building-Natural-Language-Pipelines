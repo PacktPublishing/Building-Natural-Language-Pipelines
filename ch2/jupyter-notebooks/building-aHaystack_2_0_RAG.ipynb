{
  "nbformat": 4,
  "nbformat_minor": 0,
  "metadata": {
    "colab": {
      "provenance": []
    },
    "kernelspec": {
      "name": "python3",
      "display_name": "Python 3"
    },
    "language_info": {
      "name": "python"
    },
    "widgets": {
      "application/vnd.jupyter.widget-state+json": {
        "75a0b93ca9dc4993ab9f0b6b658d8fb6": {
          "model_module": "@jupyter-widgets/controls",
          "model_name": "HBoxModel",
          "model_module_version": "1.5.0",
          "state": {
            "_dom_classes": [],
            "_model_module": "@jupyter-widgets/controls",
            "_model_module_version": "1.5.0",
            "_model_name": "HBoxModel",
            "_view_count": null,
            "_view_module": "@jupyter-widgets/controls",
            "_view_module_version": "1.5.0",
            "_view_name": "HBoxView",
            "box_style": "",
            "children": [
              "IPY_MODEL_02a40f96b7a74c769382767eea5ad258",
              "IPY_MODEL_ac87d0cc20d24ab79bdbc56e8a1c45db",
              "IPY_MODEL_da4f1eaed22c4bb0be88065c2b5aae7d"
            ],
            "layout": "IPY_MODEL_adff433b35fa45f68c53c1e333051bc5"
          }
        },
        "02a40f96b7a74c769382767eea5ad258": {
          "model_module": "@jupyter-widgets/controls",
          "model_name": "HTMLModel",
          "model_module_version": "1.5.0",
          "state": {
            "_dom_classes": [],
            "_model_module": "@jupyter-widgets/controls",
            "_model_module_version": "1.5.0",
            "_model_name": "HTMLModel",
            "_view_count": null,
            "_view_module": "@jupyter-widgets/controls",
            "_view_module_version": "1.5.0",
            "_view_name": "HTMLView",
            "description": "",
            "description_tooltip": null,
            "layout": "IPY_MODEL_00480673f84a42f3aae423b74441882d",
            "placeholder": "​",
            "style": "IPY_MODEL_9071ada1109d4f22951c771ec1566534",
            "value": "Batches: 100%"
          }
        },
        "ac87d0cc20d24ab79bdbc56e8a1c45db": {
          "model_module": "@jupyter-widgets/controls",
          "model_name": "FloatProgressModel",
          "model_module_version": "1.5.0",
          "state": {
            "_dom_classes": [],
            "_model_module": "@jupyter-widgets/controls",
            "_model_module_version": "1.5.0",
            "_model_name": "FloatProgressModel",
            "_view_count": null,
            "_view_module": "@jupyter-widgets/controls",
            "_view_module_version": "1.5.0",
            "_view_name": "ProgressView",
            "bar_style": "success",
            "description": "",
            "description_tooltip": null,
            "layout": "IPY_MODEL_db41ea6d4a7e4e9caa8c883e13fc45ad",
            "max": 1,
            "min": 0,
            "orientation": "horizontal",
            "style": "IPY_MODEL_120ebd64689e4ecbabc85f2b77e9beb8",
            "value": 1
          }
        },
        "da4f1eaed22c4bb0be88065c2b5aae7d": {
          "model_module": "@jupyter-widgets/controls",
          "model_name": "HTMLModel",
          "model_module_version": "1.5.0",
          "state": {
            "_dom_classes": [],
            "_model_module": "@jupyter-widgets/controls",
            "_model_module_version": "1.5.0",
            "_model_name": "HTMLModel",
            "_view_count": null,
            "_view_module": "@jupyter-widgets/controls",
            "_view_module_version": "1.5.0",
            "_view_name": "HTMLView",
            "description": "",
            "description_tooltip": null,
            "layout": "IPY_MODEL_ea433047c4364e0581a461c9902fb37c",
            "placeholder": "​",
            "style": "IPY_MODEL_8d58ac07efb74e9a881ac32a454bcc5b",
            "value": " 1/1 [00:06&lt;00:00,  6.80s/it]"
          }
        },
        "adff433b35fa45f68c53c1e333051bc5": {
          "model_module": "@jupyter-widgets/base",
          "model_name": "LayoutModel",
          "model_module_version": "1.2.0",
          "state": {
            "_model_module": "@jupyter-widgets/base",
            "_model_module_version": "1.2.0",
            "_model_name": "LayoutModel",
            "_view_count": null,
            "_view_module": "@jupyter-widgets/base",
            "_view_module_version": "1.2.0",
            "_view_name": "LayoutView",
            "align_content": null,
            "align_items": null,
            "align_self": null,
            "border": null,
            "bottom": null,
            "display": null,
            "flex": null,
            "flex_flow": null,
            "grid_area": null,
            "grid_auto_columns": null,
            "grid_auto_flow": null,
            "grid_auto_rows": null,
            "grid_column": null,
            "grid_gap": null,
            "grid_row": null,
            "grid_template_areas": null,
            "grid_template_columns": null,
            "grid_template_rows": null,
            "height": null,
            "justify_content": null,
            "justify_items": null,
            "left": null,
            "margin": null,
            "max_height": null,
            "max_width": null,
            "min_height": null,
            "min_width": null,
            "object_fit": null,
            "object_position": null,
            "order": null,
            "overflow": null,
            "overflow_x": null,
            "overflow_y": null,
            "padding": null,
            "right": null,
            "top": null,
            "visibility": null,
            "width": null
          }
        },
        "00480673f84a42f3aae423b74441882d": {
          "model_module": "@jupyter-widgets/base",
          "model_name": "LayoutModel",
          "model_module_version": "1.2.0",
          "state": {
            "_model_module": "@jupyter-widgets/base",
            "_model_module_version": "1.2.0",
            "_model_name": "LayoutModel",
            "_view_count": null,
            "_view_module": "@jupyter-widgets/base",
            "_view_module_version": "1.2.0",
            "_view_name": "LayoutView",
            "align_content": null,
            "align_items": null,
            "align_self": null,
            "border": null,
            "bottom": null,
            "display": null,
            "flex": null,
            "flex_flow": null,
            "grid_area": null,
            "grid_auto_columns": null,
            "grid_auto_flow": null,
            "grid_auto_rows": null,
            "grid_column": null,
            "grid_gap": null,
            "grid_row": null,
            "grid_template_areas": null,
            "grid_template_columns": null,
            "grid_template_rows": null,
            "height": null,
            "justify_content": null,
            "justify_items": null,
            "left": null,
            "margin": null,
            "max_height": null,
            "max_width": null,
            "min_height": null,
            "min_width": null,
            "object_fit": null,
            "object_position": null,
            "order": null,
            "overflow": null,
            "overflow_x": null,
            "overflow_y": null,
            "padding": null,
            "right": null,
            "top": null,
            "visibility": null,
            "width": null
          }
        },
        "9071ada1109d4f22951c771ec1566534": {
          "model_module": "@jupyter-widgets/controls",
          "model_name": "DescriptionStyleModel",
          "model_module_version": "1.5.0",
          "state": {
            "_model_module": "@jupyter-widgets/controls",
            "_model_module_version": "1.5.0",
            "_model_name": "DescriptionStyleModel",
            "_view_count": null,
            "_view_module": "@jupyter-widgets/base",
            "_view_module_version": "1.2.0",
            "_view_name": "StyleView",
            "description_width": ""
          }
        },
        "db41ea6d4a7e4e9caa8c883e13fc45ad": {
          "model_module": "@jupyter-widgets/base",
          "model_name": "LayoutModel",
          "model_module_version": "1.2.0",
          "state": {
            "_model_module": "@jupyter-widgets/base",
            "_model_module_version": "1.2.0",
            "_model_name": "LayoutModel",
            "_view_count": null,
            "_view_module": "@jupyter-widgets/base",
            "_view_module_version": "1.2.0",
            "_view_name": "LayoutView",
            "align_content": null,
            "align_items": null,
            "align_self": null,
            "border": null,
            "bottom": null,
            "display": null,
            "flex": null,
            "flex_flow": null,
            "grid_area": null,
            "grid_auto_columns": null,
            "grid_auto_flow": null,
            "grid_auto_rows": null,
            "grid_column": null,
            "grid_gap": null,
            "grid_row": null,
            "grid_template_areas": null,
            "grid_template_columns": null,
            "grid_template_rows": null,
            "height": null,
            "justify_content": null,
            "justify_items": null,
            "left": null,
            "margin": null,
            "max_height": null,
            "max_width": null,
            "min_height": null,
            "min_width": null,
            "object_fit": null,
            "object_position": null,
            "order": null,
            "overflow": null,
            "overflow_x": null,
            "overflow_y": null,
            "padding": null,
            "right": null,
            "top": null,
            "visibility": null,
            "width": null
          }
        },
        "120ebd64689e4ecbabc85f2b77e9beb8": {
          "model_module": "@jupyter-widgets/controls",
          "model_name": "ProgressStyleModel",
          "model_module_version": "1.5.0",
          "state": {
            "_model_module": "@jupyter-widgets/controls",
            "_model_module_version": "1.5.0",
            "_model_name": "ProgressStyleModel",
            "_view_count": null,
            "_view_module": "@jupyter-widgets/base",
            "_view_module_version": "1.2.0",
            "_view_name": "StyleView",
            "bar_color": null,
            "description_width": ""
          }
        },
        "ea433047c4364e0581a461c9902fb37c": {
          "model_module": "@jupyter-widgets/base",
          "model_name": "LayoutModel",
          "model_module_version": "1.2.0",
          "state": {
            "_model_module": "@jupyter-widgets/base",
            "_model_module_version": "1.2.0",
            "_model_name": "LayoutModel",
            "_view_count": null,
            "_view_module": "@jupyter-widgets/base",
            "_view_module_version": "1.2.0",
            "_view_name": "LayoutView",
            "align_content": null,
            "align_items": null,
            "align_self": null,
            "border": null,
            "bottom": null,
            "display": null,
            "flex": null,
            "flex_flow": null,
            "grid_area": null,
            "grid_auto_columns": null,
            "grid_auto_flow": null,
            "grid_auto_rows": null,
            "grid_column": null,
            "grid_gap": null,
            "grid_row": null,
            "grid_template_areas": null,
            "grid_template_columns": null,
            "grid_template_rows": null,
            "height": null,
            "justify_content": null,
            "justify_items": null,
            "left": null,
            "margin": null,
            "max_height": null,
            "max_width": null,
            "min_height": null,
            "min_width": null,
            "object_fit": null,
            "object_position": null,
            "order": null,
            "overflow": null,
            "overflow_x": null,
            "overflow_y": null,
            "padding": null,
            "right": null,
            "top": null,
            "visibility": null,
            "width": null
          }
        },
        "8d58ac07efb74e9a881ac32a454bcc5b": {
          "model_module": "@jupyter-widgets/controls",
          "model_name": "DescriptionStyleModel",
          "model_module_version": "1.5.0",
          "state": {
            "_model_module": "@jupyter-widgets/controls",
            "_model_module_version": "1.5.0",
            "_model_name": "DescriptionStyleModel",
            "_view_count": null,
            "_view_module": "@jupyter-widgets/base",
            "_view_module_version": "1.2.0",
            "_view_name": "StyleView",
            "description_width": ""
          }
        }
      }
    }
  },
  "cells": [
    {
      "cell_type": "markdown",
      "source": [
        "###Install dependencies"
      ],
      "metadata": {
        "id": "RZ0VPP0Oh9lI"
      }
    },
    {
      "cell_type": "code",
      "execution_count": null,
      "metadata": {
        "id": "0dFI9IYf50Mh"
      },
      "outputs": [],
      "source": [
        "!pip install newspaper3k\n",
        "!pip install haystack-ai"
      ]
    },
    {
      "cell_type": "markdown",
      "source": [
        "## Create a Custom Haystack 2.0 Component\n",
        "\n",
        "This `HackernewsNewestFetcher` ferches the `last_k` newest posts on Hacker News and returns the contents as a List of Haystack Document objects"
      ],
      "metadata": {
        "id": "J6RfNzvOpE7B"
      }
    },
    {
      "cell_type": "code",
      "source": [
        "from typing import List\n",
        "from haystack.preview import component, Document\n",
        "from newspaper import Article\n",
        "import requests\n",
        "\n",
        "@component\n",
        "class HackernewsNewestFetcher():\n",
        "\n",
        "  @component.output_types(articles=List[Document])\n",
        "  def run(self, last_k: int = 5):\n",
        "    newest_list = requests.get(url='https://hacker-news.firebaseio.com/v0/newstories.json?print=pretty')\n",
        "    articles = []\n",
        "    for id in newest_list.json()[0:last_k]:\n",
        "      article = requests.get(url=f\"https://hacker-news.firebaseio.com/v0/item/{id}.json?print=pretty\")\n",
        "      if 'url' in article.json():\n",
        "        articles.append(article.json()['url'])\n",
        "\n",
        "    docs = []\n",
        "    for url in articles:\n",
        "      try:\n",
        "        article = Article(url)\n",
        "        article.download()\n",
        "        article.parse()\n",
        "        docs.append(Document(text=article.text[:1000], metadata={'title': article.title, 'url': url}))\n",
        "      except:\n",
        "        print(f\"Couldn't download {url}, skipped\")\n",
        "    return {'articles': docs}\n"
      ],
      "metadata": {
        "id": "SLjTO0fv4UaB"
      },
      "execution_count": null,
      "outputs": []
    },
    {
      "cell_type": "code",
      "source": [
        "from haystack.preview import Pipeline\n",
        "from haystack.preview.document_stores import MemoryDocumentStore\n",
        "from haystack.preview.components.embedders.sentence_transformers_document_embedder import SentenceTransformersDocumentEmbedder\n",
        "from haystack.preview.components.writers.document_writer import DocumentWriter\n",
        "\n",
        "fetcher = HackernewsNewestFetcher()\n",
        "document_store = MemoryDocumentStore()\n",
        "embedder = SentenceTransformersDocumentEmbedder(model_name_or_path= \"sentence-transformers/all-mpnet-base-v2\")\n",
        "writer = DocumentWriter(document_store)"
      ],
      "metadata": {
        "id": "7MmgEI_iFm7R"
      },
      "execution_count": null,
      "outputs": []
    },
    {
      "cell_type": "code",
      "source": [
        "indexing_pipeline = Pipeline()\n",
        "indexing_pipeline.add_component(name=\"fetcher\",  instance=fetcher)\n",
        "indexing_pipeline.add_component(name=\"embedder\",  instance=embedder)\n",
        "indexing_pipeline.add_component(name=\"writer\",  instance=writer)"
      ],
      "metadata": {
        "id": "JfJHflomHwkL"
      },
      "execution_count": null,
      "outputs": []
    },
    {
      "cell_type": "code",
      "source": [
        "indexing_pipeline.connect(\"fetcher.articles\", \"embedder.documents\")\n",
        "indexing_pipeline.connect(\"embedder.documents\", \"writer.documents\")"
      ],
      "metadata": {
        "id": "eIhNOuoLICPD"
      },
      "execution_count": null,
      "outputs": []
    },
    {
      "cell_type": "code",
      "source": [
        "indexing_pipeline.run(data={\"fetcher\": {\"last_k\": 5}})"
      ],
      "metadata": {
        "colab": {
          "base_uri": "https://localhost:8080/",
          "height": 67,
          "referenced_widgets": [
            "75a0b93ca9dc4993ab9f0b6b658d8fb6",
            "02a40f96b7a74c769382767eea5ad258",
            "ac87d0cc20d24ab79bdbc56e8a1c45db",
            "da4f1eaed22c4bb0be88065c2b5aae7d",
            "adff433b35fa45f68c53c1e333051bc5",
            "00480673f84a42f3aae423b74441882d",
            "9071ada1109d4f22951c771ec1566534",
            "db41ea6d4a7e4e9caa8c883e13fc45ad",
            "120ebd64689e4ecbabc85f2b77e9beb8",
            "ea433047c4364e0581a461c9902fb37c",
            "8d58ac07efb74e9a881ac32a454bcc5b"
          ]
        },
        "id": "wvtLVcftIWvO",
        "outputId": "70b532a8-9c94-49b5-8161-7d87589e6d69"
      },
      "execution_count": null,
      "outputs": [
        {
          "output_type": "display_data",
          "data": {
            "text/plain": [
              "Batches:   0%|          | 0/1 [00:00<?, ?it/s]"
            ],
            "application/vnd.jupyter.widget-view+json": {
              "version_major": 2,
              "version_minor": 0,
              "model_id": "75a0b93ca9dc4993ab9f0b6b658d8fb6"
            }
          },
          "metadata": {}
        },
        {
          "output_type": "execute_result",
          "data": {
            "text/plain": [
              "{'writer': {}}"
            ]
          },
          "metadata": {},
          "execution_count": 45
        }
      ]
    },
    {
      "cell_type": "code",
      "source": [
        "document_store.filter_documents()[3]"
      ],
      "metadata": {
        "colab": {
          "base_uri": "https://localhost:8080/"
        },
        "id": "59J7g_TTIlcT",
        "outputId": "d6106178-623b-4acd-c854-8e57954de399"
      },
      "execution_count": null,
      "outputs": [
        {
          "output_type": "execute_result",
          "data": {
            "text/plain": [
              "Document(id='bc3741b7667efab13734e99edf49a4c1258b109d22625652beb25650324d4496', text='I just had a thought - or maybe it’s more accurate to say that a months-long thought process just crystallised into something. So I’m going to do a quick stream-of-consciousness post about it and hope it’s useful in some way and isn’t pure brain-crack.\\n\\nI’m sure I’m not the only one feeling the effects of Twitter’s X’s enshittification, followed by Reddit’s . People mostly younger than me probably feel the same about TikTok, a story which, along with that of Amazon, helped Cory Doctorow solidify the term. Even before Twitter was bought by the Muskrat, Facebook’s Meta’s downfall was strongly predicted (and continues to play out before our eyes), and I personally feel Google is going through a slower, decades-long enshittification since about 2010.\\n\\nMy initial perspective on this was filled with schadenfreude. X is quite clearly imploding (albeit a bit slower than some anticipated), and is already a shadow of its former self and in obvious decline, losing the richest man in the world at ', array=None, dataframe=None, blob=None, mime_type='text/plain', metadata={'title': 'The degrading of big tech', 'url': 'https://robinwinslow.uk/the-degrading-of-big-tech'}, id_hash_keys=['text', 'array', 'dataframe', 'blob'], score=None)"
            ]
          },
          "metadata": {},
          "execution_count": 50
        }
      ]
    },
    {
      "cell_type": "markdown",
      "source": [
        "## Create a Haystack 2.0 RAG Pipeline\n",
        "\n",
        "This pipeline uses the components available in the Haystack 2.0 preview package at time of writing (22 September 2023) as well as the custom component we've created above.\n",
        "\n",
        "The end result is a RAG pipeline designed to provide a list of summaries for each of the `last_k` posts on Hacker News, followes by the source URL."
      ],
      "metadata": {
        "id": "8Z9Q-S55pX-z"
      }
    },
    {
      "cell_type": "code",
      "source": [
        "from getpass import getpass\n",
        "\n",
        "api_key = getpass(\"OpenAI Key: \")"
      ],
      "metadata": {
        "id": "1nT2-ms3QV0c",
        "colab": {
          "base_uri": "https://localhost:8080/"
        },
        "outputId": "008d2d21-9c53-4531-9200-6208e416a35a"
      },
      "execution_count": null,
      "outputs": [
        {
          "name": "stdout",
          "output_type": "stream",
          "text": [
            "OpenAI Key: ··········\n"
          ]
        }
      ]
    },
    {
      "cell_type": "code",
      "source": [
        "from haystack.preview.components.builders.prompt_builder import PromptBuilder\n",
        "from haystack.preview.components.generators.openai.gpt import GPTGenerator\n",
        "\n",
        "fetcher = HackernewsNewestFetcher()\n",
        "\n",
        "prompt_template = \"\"\"\n",
        "You will be provided a few of the latest posts in HackerNews, followed by their URL.\n",
        "For each post, provide a brief summary followed by the URL the full post can be found at.\n",
        "\n",
        "Posts:\n",
        "{% for article in articles %}\n",
        "  {% if article.text|length > 0 %}\n",
        "    {{article.text}}\n",
        "    URL: {{article.metadata['url']}}\n",
        "  {% endif %}\n",
        "{% endfor %}\n",
        "\"\"\"\n",
        "\n",
        "prompt_builder = PromptBuilder(template = prompt_template)\n",
        "llm = GPTGenerator(model_name = \"gpt-4\", api_key = api_key)\n"
      ],
      "metadata": {
        "id": "HTxmwMup-5eS"
      },
      "execution_count": null,
      "outputs": []
    },
    {
      "cell_type": "code",
      "source": [
        "summarization_rag_pipeline = Pipeline()\n",
        "summarization_rag_pipeline.add_component(name=\"fetcher\", instance=fetcher)\n",
        "summarization_rag_pipeline.add_component(name=\"prompt_builder\", instance=prompt_builder)\n",
        "summarization_rag_pipeline.add_component(name=\"llm\", instance=llm)"
      ],
      "metadata": {
        "id": "_kzH-DBaKY1o"
      },
      "execution_count": null,
      "outputs": []
    },
    {
      "cell_type": "code",
      "source": [
        "summarization_rag_pipeline.connect(\"fetcher.articles\", \"prompt_builder.articles\")\n",
        "summarization_rag_pipeline.connect(\"prompt_builder.prompt\", \"llm.prompt\")"
      ],
      "metadata": {
        "id": "npUNdWsQKmjl"
      },
      "execution_count": null,
      "outputs": []
    },
    {
      "cell_type": "code",
      "source": [
        "result = summarization_rag_pipeline.run(data={\"fetcher\": {\"last_k\": 4}})"
      ],
      "metadata": {
        "id": "M-bIyC5wLGmJ"
      },
      "execution_count": null,
      "outputs": []
    },
    {
      "cell_type": "code",
      "source": [
        "print(result['llm']['replies'][0])"
      ],
      "metadata": {
        "colab": {
          "base_uri": "https://localhost:8080/"
        },
        "id": "Nszrl8-8Lpjb",
        "outputId": "f1393456-23ea-47e3-a6db-55e036a75000"
      },
      "execution_count": null,
      "outputs": [
        {
          "output_type": "stream",
          "name": "stdout",
          "text": [
            "1. \"Event sourcing with Kafka: A practical example\"\n",
            "This post introduces event sourcing, a method of determining system state by analyzing and aggregating past events. This approach is perfect for large, distributed systems as it offers scalability, repeatability, traceability, and flexibility. The post also explains how to implement event sourcing with Kafka and Tinybird. This method is preferable to traditionally storing balance information in a database, an approach that can cause problems if data is inadvertently modified and lacks a transaction history.\n",
            "URL: https://www.tinybird.co/blog-posts/event-sourcing-with-kafka\n",
            "\n",
            "2. \"Understanding Postgres IOPS\"\n",
            "This post highlights the importance of IOPS (Input/Output Operations Per Second), a key metric for measuring disk system performance as it represents the number of read and write operations performable per second. The post focuses on PostgreSQL, a database system that heavily relies on disk access, explaining what IOPS is, its impact on Postgres, measurement methods, and possible adjustments to optimize disk performance.\n",
            "URL: https://www.crunchydata.com/blog/understanding-postgres-iops\n",
            "\n",
            "3. \"MilliMobile: A Tiny, Self-Driving Robot Powered by Light\"\n",
            "Researchers at the University of Washington have developed MilliMobile, a minuscule self-driving robot that operates on light or radio wave energies. Potential applications include gas leak detection and warehouse inventory tracking. The post discusses energy challenges with moving robots and past alternatives including insect-attached sensors, charging mats, and laser-based systems. The new robot can run indefinitely using harvested energy, providing an innovative, environmentally friendly solution.  \n",
            "URL: https://techxplore.com/news/2023-09-millimobile-tiny-self-driving-robot-powered.html\n",
            "\n",
            "4. \"Amazon Bedrock is now generally available: Build and Scale Generative AI Applications with Foundation Models\"\n",
            "Amazon Bedrock, a fully managed service for building generative AI applications using foundation models (FMs), has been officially launched. It provides a choice of high-performing FMs from leading AI companies and simplifies application development while ensuring privacy and security. Llama 2 13B and 70B parameter models from Meta will soon be available on Amazon Bedrock.\n",
            "URL: https://aws.amazon.com/blogs/aws/amazon-bedrock-is-now-generally-available-build-and-scale-generative-ai-applications-with-foundation-models/\n"
          ]
        }
      ]
    }
  ]
}