{
 "cells": [
  {
   "cell_type": "markdown",
   "metadata": {},
   "source": [
    "### Import initialization  "
   ]
  },
  {
   "cell_type": "code",
   "execution_count": 12,
   "metadata": {},
   "outputs": [],
   "source": [
    "import openai\n",
    "import os\n",
    "from dotenv import load_dotenv\n",
    "\n",
    "load_dotenv(\"./../../.env\")\n",
    "\n",
    "# Open AI API Key\n",
    "openai_api_key = os.getenv(\"OPENAI_API_KEY\")\n"
   ]
  },
  {
   "cell_type": "markdown",
   "metadata": {},
   "source": [
    "Load environment variables from .env file if it exists"
   ]
  },
  {
   "cell_type": "code",
   "execution_count": 2,
   "metadata": {},
   "outputs": [],
   "source": [
    "load_dotenv(\"./../../.env\")\n",
    "\n",
    "# Open AI API Key\n",
    "openai_api_key = os.getenv(\"OPENAI_API_KEY\")"
   ]
  },
  {
   "cell_type": "code",
   "execution_count": 27,
   "metadata": {},
   "outputs": [
    {
     "name": "stdout",
     "output_type": "stream",
     "text": [
      "{\n",
      "  \"role\": \"assistant\",\n",
      "  \"content\": \"Hello! How can I assist you today?\"\n",
      "}\n"
     ]
    }
   ],
   "source": [
    "completion = openai.ChatCompletion.create( \n",
    "  model=\"gpt-3.5-turbo\", \n",
    "  messages=[ \n",
    "    {\"role\": \"system\", \"content\": \"You are a helpful assistant.\"}, \n",
    "    {\"role\": \"user\", \"content\": \"Hello!\"} \n",
    "  ] \n",
    ") \n",
    "\n",
    "print(completion.choices[0].message) "
   ]
  },
  {
   "cell_type": "markdown",
   "metadata": {},
   "source": [
    "### Prompt node initialization - no base instructions"
   ]
  },
  {
   "cell_type": "code",
   "execution_count": null,
   "metadata": {},
   "outputs": [],
   "source": [
    "from haystack.nodes import PromptTemplate, AnswerParser, PromptNode"
   ]
  },
  {
   "cell_type": "code",
   "execution_count": 27,
   "metadata": {},
   "outputs": [],
   "source": [
    "# Create a prompt node\n",
    "pn = PromptNode(\"gpt-3.5-turbo\", \n",
    "                api_key=openai_api_key, \n",
    "                model_kwargs={\"stream\":False}, \n",
    "                max_length=1000)\n",
    "\n",
    "# Create a prompt\n",
    "prompt = \"What are the three most interesting things about Berlin? Be brief in your answer.\"\n"
   ]
  },
  {
   "cell_type": "code",
   "execution_count": 9,
   "metadata": {},
   "outputs": [],
   "source": [
    "# using a prompt template\n",
    "tourist_recommendation_prompt = PromptTemplate(\n",
    "    prompt=\"\"\"You are a helpful assistant to a tourists looking find places to\\\n",
    "            visit. You provide information on wether, tourist attractions\\\n",
    "            The tourist may or may not know what city they are interested in\\\n",
    "            so you recommend based on their request.\\\n",
    "            If the request is vague, ask the tourist to provide more information\\\n",
    "            such as the type of wether they want, what kind of experience they want\\\n",
    "            weather it is family friendly or not. If the tourist is interested in\\\n",
    "            a specific city, ask them to specify the city.\\\n",
    "            and cost of visiting\" You answer:\"\"\",\n",
    "    output_parser=AnswerParser(),\n",
    ")\n",
    "pn = PromptNode(\"gpt-3.5-turbo\", \n",
    "                api_key=openai_api_key, \n",
    "                model_kwargs={\"stream\":False},\n",
    "                default_prompt_template=tourist_recommendation_prompt)"
   ]
  },
  {
   "cell_type": "code",
   "execution_count": 10,
   "metadata": {},
   "outputs": [
    {
     "data": {
      "text/plain": [
       "({'answers': [<Answer {'answer': \"Sure, I can help you with that! Could you please provide me with some more information? What type of weather are you looking for? Do you prefer a specific city or are you open to suggestions? Also, could you let me know if you have any specific interests or if you are traveling with family? Additionally, it would be helpful to know your budget for visiting. With these details, I'll be able to recommend some great tourist attractions for you!\", 'type': 'generative', 'score': None, 'context': None, 'offsets_in_document': None, 'offsets_in_context': None, 'document_ids': None, 'meta': {'prompt': \"You are a helpful assistant to a tourists looking find places to            visit. You provide information on wether, tourist attractions            The tourist may or may not know what city they are interested in            so you recommend based on their request.            If the request is vague, ask the tourist to provide more information            such as the type of wether they want, what kind of experience they want            weather it is family friendly or not. If the tourist is interested in            a specific city, ask them to specify the city.            and cost of visiting' You answer:\"}}>],\n",
       "  'invocation_context': {'query': 'I am looking for a place with tropical wether in America',\n",
       "   'answers': [<Answer {'answer': \"Sure, I can help you with that! Could you please provide me with some more information? What type of weather are you looking for? Do you prefer a specific city or are you open to suggestions? Also, could you let me know if you have any specific interests or if you are traveling with family? Additionally, it would be helpful to know your budget for visiting. With these details, I'll be able to recommend some great tourist attractions for you!\", 'type': 'generative', 'score': None, 'context': None, 'offsets_in_document': None, 'offsets_in_context': None, 'document_ids': None, 'meta': {'prompt': \"You are a helpful assistant to a tourists looking find places to            visit. You provide information on wether, tourist attractions            The tourist may or may not know what city they are interested in            so you recommend based on their request.            If the request is vague, ask the tourist to provide more information            such as the type of wether they want, what kind of experience they want            weather it is family friendly or not. If the tourist is interested in            a specific city, ask them to specify the city.            and cost of visiting' You answer:\"}}>],\n",
       "   'prompts': [\"You are a helpful assistant to a tourists looking find places to            visit. You provide information on wether, tourist attractions            The tourist may or may not know what city they are interested in            so you recommend based on their request.            If the request is vague, ask the tourist to provide more information            such as the type of wether they want, what kind of experience they want            weather it is family friendly or not. If the tourist is interested in            a specific city, ask them to specify the city.            and cost of visiting' You answer:\"]}},\n",
       " 'output_1')"
      ]
     },
     "execution_count": 10,
     "metadata": {},
     "output_type": "execute_result"
    }
   ],
   "source": [
    "pn.run(\"I am looking for a place with tropical wether in America\")"
   ]
  },
  {
   "cell_type": "markdown",
   "metadata": {},
   "source": [
    "Prompting LLMs from HF"
   ]
  },
  {
   "cell_type": "code",
   "execution_count": null,
   "metadata": {},
   "outputs": [],
   "source": [
    "from haystack.nodes import PromptNode\n",
    "\n",
    "# Initalize the node passing the model:\n",
    "prompt_node = PromptNode(model_name_or_path=\"google/flan-t5-xl\")\n",
    "\n",
    "# Go ahead and ask a question:\n",
    "prompt_node(\"What is the best city in Europe to live in?\")\n"
   ]
  }
 ],
 "metadata": {
  "kernelspec": {
   "display_name": "llm-pipelines",
   "language": "python",
   "name": "python3"
  },
  "language_info": {
   "codemirror_mode": {
    "name": "ipython",
    "version": 3
   },
   "file_extension": ".py",
   "mimetype": "text/x-python",
   "name": "python",
   "nbconvert_exporter": "python",
   "pygments_lexer": "ipython3",
   "version": "3.10.0"
  },
  "orig_nbformat": 4
 },
 "nbformat": 4,
 "nbformat_minor": 2
}
